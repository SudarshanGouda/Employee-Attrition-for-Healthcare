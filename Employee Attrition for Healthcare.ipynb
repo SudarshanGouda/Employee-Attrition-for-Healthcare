{
 "cells": [
  {
   "cell_type": "markdown",
   "id": "e620c9c1",
   "metadata": {},
   "source": [
    "# Employee Attrition for Healthcare"
   ]
  },
  {
   "cell_type": "code",
   "execution_count": 269,
   "id": "bf535c66",
   "metadata": {},
   "outputs": [],
   "source": [
    "import numpy as np\n",
    "import pandas as pd\n",
    "import matplotlib.pyplot as plt\n",
    "import seaborn as sns\n",
    "import warnings\n",
    "warnings.filterwarnings('ignore')"
   ]
  },
  {
   "cell_type": "markdown",
   "id": "1c5ce22a",
   "metadata": {},
   "source": [
    "## Importing the data"
   ]
  },
  {
   "cell_type": "code",
   "execution_count": 270,
   "id": "e98c258b",
   "metadata": {},
   "outputs": [],
   "source": [
    "df_raw= pd.read_csv('watson_healthcare_modified.csv')\n",
    "df=df_raw.copy()\n",
    "pd.set_option('display.max_columns', None)"
   ]
  },
  {
   "cell_type": "code",
   "execution_count": 271,
   "id": "1f84eefe",
   "metadata": {},
   "outputs": [
    {
     "data": {
      "text/html": [
       "<div>\n",
       "<style scoped>\n",
       "    .dataframe tbody tr th:only-of-type {\n",
       "        vertical-align: middle;\n",
       "    }\n",
       "\n",
       "    .dataframe tbody tr th {\n",
       "        vertical-align: top;\n",
       "    }\n",
       "\n",
       "    .dataframe thead th {\n",
       "        text-align: right;\n",
       "    }\n",
       "</style>\n",
       "<table border=\"1\" class=\"dataframe\">\n",
       "  <thead>\n",
       "    <tr style=\"text-align: right;\">\n",
       "      <th></th>\n",
       "      <th>EmployeeID</th>\n",
       "      <th>Age</th>\n",
       "      <th>Attrition</th>\n",
       "      <th>BusinessTravel</th>\n",
       "      <th>DailyRate</th>\n",
       "      <th>Department</th>\n",
       "      <th>DistanceFromHome</th>\n",
       "      <th>Education</th>\n",
       "      <th>EducationField</th>\n",
       "      <th>EmployeeCount</th>\n",
       "      <th>EnvironmentSatisfaction</th>\n",
       "      <th>Gender</th>\n",
       "      <th>HourlyRate</th>\n",
       "      <th>JobInvolvement</th>\n",
       "      <th>JobLevel</th>\n",
       "      <th>JobRole</th>\n",
       "      <th>JobSatisfaction</th>\n",
       "      <th>MaritalStatus</th>\n",
       "      <th>MonthlyIncome</th>\n",
       "      <th>MonthlyRate</th>\n",
       "      <th>NumCompaniesWorked</th>\n",
       "      <th>Over18</th>\n",
       "      <th>OverTime</th>\n",
       "      <th>PercentSalaryHike</th>\n",
       "      <th>PerformanceRating</th>\n",
       "      <th>RelationshipSatisfaction</th>\n",
       "      <th>StandardHours</th>\n",
       "      <th>Shift</th>\n",
       "      <th>TotalWorkingYears</th>\n",
       "      <th>TrainingTimesLastYear</th>\n",
       "      <th>WorkLifeBalance</th>\n",
       "      <th>YearsAtCompany</th>\n",
       "      <th>YearsInCurrentRole</th>\n",
       "      <th>YearsSinceLastPromotion</th>\n",
       "      <th>YearsWithCurrManager</th>\n",
       "    </tr>\n",
       "  </thead>\n",
       "  <tbody>\n",
       "    <tr>\n",
       "      <th>0</th>\n",
       "      <td>1313919</td>\n",
       "      <td>41</td>\n",
       "      <td>No</td>\n",
       "      <td>Travel_Rarely</td>\n",
       "      <td>1102</td>\n",
       "      <td>Cardiology</td>\n",
       "      <td>1</td>\n",
       "      <td>2</td>\n",
       "      <td>Life Sciences</td>\n",
       "      <td>1</td>\n",
       "      <td>2</td>\n",
       "      <td>Female</td>\n",
       "      <td>94</td>\n",
       "      <td>3</td>\n",
       "      <td>2</td>\n",
       "      <td>Nurse</td>\n",
       "      <td>4</td>\n",
       "      <td>Single</td>\n",
       "      <td>5993</td>\n",
       "      <td>19479</td>\n",
       "      <td>8</td>\n",
       "      <td>Y</td>\n",
       "      <td>Yes</td>\n",
       "      <td>11</td>\n",
       "      <td>3</td>\n",
       "      <td>1</td>\n",
       "      <td>80</td>\n",
       "      <td>0</td>\n",
       "      <td>8</td>\n",
       "      <td>0</td>\n",
       "      <td>1</td>\n",
       "      <td>6</td>\n",
       "      <td>4</td>\n",
       "      <td>0</td>\n",
       "      <td>5</td>\n",
       "    </tr>\n",
       "    <tr>\n",
       "      <th>1</th>\n",
       "      <td>1200302</td>\n",
       "      <td>49</td>\n",
       "      <td>No</td>\n",
       "      <td>Travel_Frequently</td>\n",
       "      <td>279</td>\n",
       "      <td>Maternity</td>\n",
       "      <td>8</td>\n",
       "      <td>1</td>\n",
       "      <td>Life Sciences</td>\n",
       "      <td>1</td>\n",
       "      <td>3</td>\n",
       "      <td>Male</td>\n",
       "      <td>61</td>\n",
       "      <td>2</td>\n",
       "      <td>2</td>\n",
       "      <td>Other</td>\n",
       "      <td>2</td>\n",
       "      <td>Married</td>\n",
       "      <td>5130</td>\n",
       "      <td>24907</td>\n",
       "      <td>1</td>\n",
       "      <td>Y</td>\n",
       "      <td>No</td>\n",
       "      <td>23</td>\n",
       "      <td>4</td>\n",
       "      <td>4</td>\n",
       "      <td>80</td>\n",
       "      <td>1</td>\n",
       "      <td>10</td>\n",
       "      <td>3</td>\n",
       "      <td>3</td>\n",
       "      <td>10</td>\n",
       "      <td>7</td>\n",
       "      <td>1</td>\n",
       "      <td>7</td>\n",
       "    </tr>\n",
       "    <tr>\n",
       "      <th>2</th>\n",
       "      <td>1060315</td>\n",
       "      <td>37</td>\n",
       "      <td>Yes</td>\n",
       "      <td>Travel_Rarely</td>\n",
       "      <td>1373</td>\n",
       "      <td>Maternity</td>\n",
       "      <td>2</td>\n",
       "      <td>2</td>\n",
       "      <td>Other</td>\n",
       "      <td>1</td>\n",
       "      <td>4</td>\n",
       "      <td>Male</td>\n",
       "      <td>92</td>\n",
       "      <td>2</td>\n",
       "      <td>1</td>\n",
       "      <td>Nurse</td>\n",
       "      <td>3</td>\n",
       "      <td>Single</td>\n",
       "      <td>2090</td>\n",
       "      <td>2396</td>\n",
       "      <td>6</td>\n",
       "      <td>Y</td>\n",
       "      <td>Yes</td>\n",
       "      <td>15</td>\n",
       "      <td>3</td>\n",
       "      <td>2</td>\n",
       "      <td>80</td>\n",
       "      <td>0</td>\n",
       "      <td>7</td>\n",
       "      <td>3</td>\n",
       "      <td>3</td>\n",
       "      <td>0</td>\n",
       "      <td>0</td>\n",
       "      <td>0</td>\n",
       "      <td>0</td>\n",
       "    </tr>\n",
       "    <tr>\n",
       "      <th>3</th>\n",
       "      <td>1272912</td>\n",
       "      <td>33</td>\n",
       "      <td>No</td>\n",
       "      <td>Travel_Frequently</td>\n",
       "      <td>1392</td>\n",
       "      <td>Maternity</td>\n",
       "      <td>3</td>\n",
       "      <td>4</td>\n",
       "      <td>Life Sciences</td>\n",
       "      <td>1</td>\n",
       "      <td>4</td>\n",
       "      <td>Female</td>\n",
       "      <td>56</td>\n",
       "      <td>3</td>\n",
       "      <td>1</td>\n",
       "      <td>Other</td>\n",
       "      <td>3</td>\n",
       "      <td>Married</td>\n",
       "      <td>2909</td>\n",
       "      <td>23159</td>\n",
       "      <td>1</td>\n",
       "      <td>Y</td>\n",
       "      <td>Yes</td>\n",
       "      <td>11</td>\n",
       "      <td>3</td>\n",
       "      <td>3</td>\n",
       "      <td>80</td>\n",
       "      <td>0</td>\n",
       "      <td>8</td>\n",
       "      <td>3</td>\n",
       "      <td>3</td>\n",
       "      <td>8</td>\n",
       "      <td>7</td>\n",
       "      <td>3</td>\n",
       "      <td>0</td>\n",
       "    </tr>\n",
       "    <tr>\n",
       "      <th>4</th>\n",
       "      <td>1414939</td>\n",
       "      <td>27</td>\n",
       "      <td>No</td>\n",
       "      <td>Travel_Rarely</td>\n",
       "      <td>591</td>\n",
       "      <td>Maternity</td>\n",
       "      <td>2</td>\n",
       "      <td>1</td>\n",
       "      <td>Medical</td>\n",
       "      <td>1</td>\n",
       "      <td>1</td>\n",
       "      <td>Male</td>\n",
       "      <td>40</td>\n",
       "      <td>3</td>\n",
       "      <td>1</td>\n",
       "      <td>Nurse</td>\n",
       "      <td>2</td>\n",
       "      <td>Married</td>\n",
       "      <td>3468</td>\n",
       "      <td>16632</td>\n",
       "      <td>9</td>\n",
       "      <td>Y</td>\n",
       "      <td>No</td>\n",
       "      <td>12</td>\n",
       "      <td>3</td>\n",
       "      <td>4</td>\n",
       "      <td>80</td>\n",
       "      <td>1</td>\n",
       "      <td>6</td>\n",
       "      <td>3</td>\n",
       "      <td>3</td>\n",
       "      <td>2</td>\n",
       "      <td>2</td>\n",
       "      <td>2</td>\n",
       "      <td>2</td>\n",
       "    </tr>\n",
       "  </tbody>\n",
       "</table>\n",
       "</div>"
      ],
      "text/plain": [
       "   EmployeeID  Age Attrition     BusinessTravel  DailyRate  Department  \\\n",
       "0     1313919   41        No      Travel_Rarely       1102  Cardiology   \n",
       "1     1200302   49        No  Travel_Frequently        279   Maternity   \n",
       "2     1060315   37       Yes      Travel_Rarely       1373   Maternity   \n",
       "3     1272912   33        No  Travel_Frequently       1392   Maternity   \n",
       "4     1414939   27        No      Travel_Rarely        591   Maternity   \n",
       "\n",
       "   DistanceFromHome  Education EducationField  EmployeeCount  \\\n",
       "0                 1          2  Life Sciences              1   \n",
       "1                 8          1  Life Sciences              1   \n",
       "2                 2          2          Other              1   \n",
       "3                 3          4  Life Sciences              1   \n",
       "4                 2          1        Medical              1   \n",
       "\n",
       "   EnvironmentSatisfaction  Gender  HourlyRate  JobInvolvement  JobLevel  \\\n",
       "0                        2  Female          94               3         2   \n",
       "1                        3    Male          61               2         2   \n",
       "2                        4    Male          92               2         1   \n",
       "3                        4  Female          56               3         1   \n",
       "4                        1    Male          40               3         1   \n",
       "\n",
       "  JobRole  JobSatisfaction MaritalStatus  MonthlyIncome  MonthlyRate  \\\n",
       "0   Nurse                4        Single           5993        19479   \n",
       "1   Other                2       Married           5130        24907   \n",
       "2   Nurse                3        Single           2090         2396   \n",
       "3   Other                3       Married           2909        23159   \n",
       "4   Nurse                2       Married           3468        16632   \n",
       "\n",
       "   NumCompaniesWorked Over18 OverTime  PercentSalaryHike  PerformanceRating  \\\n",
       "0                   8      Y      Yes                 11                  3   \n",
       "1                   1      Y       No                 23                  4   \n",
       "2                   6      Y      Yes                 15                  3   \n",
       "3                   1      Y      Yes                 11                  3   \n",
       "4                   9      Y       No                 12                  3   \n",
       "\n",
       "   RelationshipSatisfaction  StandardHours  Shift  TotalWorkingYears  \\\n",
       "0                         1             80      0                  8   \n",
       "1                         4             80      1                 10   \n",
       "2                         2             80      0                  7   \n",
       "3                         3             80      0                  8   \n",
       "4                         4             80      1                  6   \n",
       "\n",
       "   TrainingTimesLastYear  WorkLifeBalance  YearsAtCompany  YearsInCurrentRole  \\\n",
       "0                      0                1               6                   4   \n",
       "1                      3                3              10                   7   \n",
       "2                      3                3               0                   0   \n",
       "3                      3                3               8                   7   \n",
       "4                      3                3               2                   2   \n",
       "\n",
       "   YearsSinceLastPromotion  YearsWithCurrManager  \n",
       "0                        0                     5  \n",
       "1                        1                     7  \n",
       "2                        0                     0  \n",
       "3                        3                     0  \n",
       "4                        2                     2  "
      ]
     },
     "execution_count": 271,
     "metadata": {},
     "output_type": "execute_result"
    }
   ],
   "source": [
    "df.head()"
   ]
  },
  {
   "cell_type": "markdown",
   "id": "e69849b7",
   "metadata": {},
   "source": [
    "## Data Processing"
   ]
  },
  {
   "cell_type": "code",
   "execution_count": 272,
   "id": "4ba3200b",
   "metadata": {
    "scrolled": false
   },
   "outputs": [
    {
     "name": "stdout",
     "output_type": "stream",
     "text": [
      "<class 'pandas.core.frame.DataFrame'>\n",
      "RangeIndex: 1676 entries, 0 to 1675\n",
      "Data columns (total 35 columns):\n",
      " #   Column                    Non-Null Count  Dtype \n",
      "---  ------                    --------------  ----- \n",
      " 0   EmployeeID                1676 non-null   int64 \n",
      " 1   Age                       1676 non-null   int64 \n",
      " 2   Attrition                 1676 non-null   object\n",
      " 3   BusinessTravel            1676 non-null   object\n",
      " 4   DailyRate                 1676 non-null   int64 \n",
      " 5   Department                1676 non-null   object\n",
      " 6   DistanceFromHome          1676 non-null   int64 \n",
      " 7   Education                 1676 non-null   int64 \n",
      " 8   EducationField            1676 non-null   object\n",
      " 9   EmployeeCount             1676 non-null   int64 \n",
      " 10  EnvironmentSatisfaction   1676 non-null   int64 \n",
      " 11  Gender                    1676 non-null   object\n",
      " 12  HourlyRate                1676 non-null   int64 \n",
      " 13  JobInvolvement            1676 non-null   int64 \n",
      " 14  JobLevel                  1676 non-null   int64 \n",
      " 15  JobRole                   1676 non-null   object\n",
      " 16  JobSatisfaction           1676 non-null   int64 \n",
      " 17  MaritalStatus             1676 non-null   object\n",
      " 18  MonthlyIncome             1676 non-null   int64 \n",
      " 19  MonthlyRate               1676 non-null   int64 \n",
      " 20  NumCompaniesWorked        1676 non-null   int64 \n",
      " 21  Over18                    1676 non-null   object\n",
      " 22  OverTime                  1676 non-null   object\n",
      " 23  PercentSalaryHike         1676 non-null   int64 \n",
      " 24  PerformanceRating         1676 non-null   int64 \n",
      " 25  RelationshipSatisfaction  1676 non-null   int64 \n",
      " 26  StandardHours             1676 non-null   int64 \n",
      " 27  Shift                     1676 non-null   int64 \n",
      " 28  TotalWorkingYears         1676 non-null   int64 \n",
      " 29  TrainingTimesLastYear     1676 non-null   int64 \n",
      " 30  WorkLifeBalance           1676 non-null   int64 \n",
      " 31  YearsAtCompany            1676 non-null   int64 \n",
      " 32  YearsInCurrentRole        1676 non-null   int64 \n",
      " 33  YearsSinceLastPromotion   1676 non-null   int64 \n",
      " 34  YearsWithCurrManager      1676 non-null   int64 \n",
      "dtypes: int64(26), object(9)\n",
      "memory usage: 458.4+ KB\n"
     ]
    }
   ],
   "source": [
    "df.info()"
   ]
  },
  {
   "cell_type": "code",
   "execution_count": 273,
   "id": "63383190",
   "metadata": {},
   "outputs": [
    {
     "data": {
      "text/html": [
       "<div>\n",
       "<style scoped>\n",
       "    .dataframe tbody tr th:only-of-type {\n",
       "        vertical-align: middle;\n",
       "    }\n",
       "\n",
       "    .dataframe tbody tr th {\n",
       "        vertical-align: top;\n",
       "    }\n",
       "\n",
       "    .dataframe thead th {\n",
       "        text-align: right;\n",
       "    }\n",
       "</style>\n",
       "<table border=\"1\" class=\"dataframe\">\n",
       "  <thead>\n",
       "    <tr style=\"text-align: right;\">\n",
       "      <th></th>\n",
       "      <th>count</th>\n",
       "      <th>mean</th>\n",
       "      <th>std</th>\n",
       "      <th>min</th>\n",
       "      <th>25%</th>\n",
       "      <th>50%</th>\n",
       "      <th>75%</th>\n",
       "      <th>max</th>\n",
       "    </tr>\n",
       "  </thead>\n",
       "  <tbody>\n",
       "    <tr>\n",
       "      <th>EmployeeID</th>\n",
       "      <td>1676.0</td>\n",
       "      <td>1.456796e+06</td>\n",
       "      <td>248748.624383</td>\n",
       "      <td>1025177.0</td>\n",
       "      <td>1235831.75</td>\n",
       "      <td>1464606.0</td>\n",
       "      <td>1667992.00</td>\n",
       "      <td>1886378.0</td>\n",
       "    </tr>\n",
       "    <tr>\n",
       "      <th>Age</th>\n",
       "      <td>1676.0</td>\n",
       "      <td>3.686635e+01</td>\n",
       "      <td>9.129126</td>\n",
       "      <td>18.0</td>\n",
       "      <td>30.00</td>\n",
       "      <td>36.0</td>\n",
       "      <td>43.00</td>\n",
       "      <td>60.0</td>\n",
       "    </tr>\n",
       "    <tr>\n",
       "      <th>DailyRate</th>\n",
       "      <td>1676.0</td>\n",
       "      <td>8.005579e+02</td>\n",
       "      <td>401.594438</td>\n",
       "      <td>102.0</td>\n",
       "      <td>465.00</td>\n",
       "      <td>796.5</td>\n",
       "      <td>1157.00</td>\n",
       "      <td>1499.0</td>\n",
       "    </tr>\n",
       "    <tr>\n",
       "      <th>DistanceFromHome</th>\n",
       "      <td>1676.0</td>\n",
       "      <td>9.221957e+00</td>\n",
       "      <td>8.158118</td>\n",
       "      <td>1.0</td>\n",
       "      <td>2.00</td>\n",
       "      <td>7.0</td>\n",
       "      <td>14.00</td>\n",
       "      <td>29.0</td>\n",
       "    </tr>\n",
       "    <tr>\n",
       "      <th>Education</th>\n",
       "      <td>1676.0</td>\n",
       "      <td>2.907518e+00</td>\n",
       "      <td>1.025835</td>\n",
       "      <td>1.0</td>\n",
       "      <td>2.00</td>\n",
       "      <td>3.0</td>\n",
       "      <td>4.00</td>\n",
       "      <td>5.0</td>\n",
       "    </tr>\n",
       "    <tr>\n",
       "      <th>EmployeeCount</th>\n",
       "      <td>1676.0</td>\n",
       "      <td>1.000000e+00</td>\n",
       "      <td>0.000000</td>\n",
       "      <td>1.0</td>\n",
       "      <td>1.00</td>\n",
       "      <td>1.0</td>\n",
       "      <td>1.00</td>\n",
       "      <td>1.0</td>\n",
       "    </tr>\n",
       "    <tr>\n",
       "      <th>EnvironmentSatisfaction</th>\n",
       "      <td>1676.0</td>\n",
       "      <td>2.714797e+00</td>\n",
       "      <td>1.097534</td>\n",
       "      <td>1.0</td>\n",
       "      <td>2.00</td>\n",
       "      <td>3.0</td>\n",
       "      <td>4.00</td>\n",
       "      <td>4.0</td>\n",
       "    </tr>\n",
       "    <tr>\n",
       "      <th>HourlyRate</th>\n",
       "      <td>1676.0</td>\n",
       "      <td>6.547017e+01</td>\n",
       "      <td>20.207572</td>\n",
       "      <td>30.0</td>\n",
       "      <td>48.00</td>\n",
       "      <td>65.5</td>\n",
       "      <td>83.00</td>\n",
       "      <td>100.0</td>\n",
       "    </tr>\n",
       "    <tr>\n",
       "      <th>JobInvolvement</th>\n",
       "      <td>1676.0</td>\n",
       "      <td>2.724940e+00</td>\n",
       "      <td>0.714121</td>\n",
       "      <td>1.0</td>\n",
       "      <td>2.00</td>\n",
       "      <td>3.0</td>\n",
       "      <td>3.00</td>\n",
       "      <td>4.0</td>\n",
       "    </tr>\n",
       "    <tr>\n",
       "      <th>JobLevel</th>\n",
       "      <td>1676.0</td>\n",
       "      <td>2.066826e+00</td>\n",
       "      <td>1.113423</td>\n",
       "      <td>1.0</td>\n",
       "      <td>1.00</td>\n",
       "      <td>2.0</td>\n",
       "      <td>3.00</td>\n",
       "      <td>5.0</td>\n",
       "    </tr>\n",
       "    <tr>\n",
       "      <th>JobSatisfaction</th>\n",
       "      <td>1676.0</td>\n",
       "      <td>2.738663e+00</td>\n",
       "      <td>1.104005</td>\n",
       "      <td>1.0</td>\n",
       "      <td>2.00</td>\n",
       "      <td>3.0</td>\n",
       "      <td>4.00</td>\n",
       "      <td>4.0</td>\n",
       "    </tr>\n",
       "    <tr>\n",
       "      <th>MonthlyIncome</th>\n",
       "      <td>1676.0</td>\n",
       "      <td>6.516513e+03</td>\n",
       "      <td>4728.456618</td>\n",
       "      <td>1009.0</td>\n",
       "      <td>2928.25</td>\n",
       "      <td>4899.0</td>\n",
       "      <td>8380.25</td>\n",
       "      <td>19999.0</td>\n",
       "    </tr>\n",
       "    <tr>\n",
       "      <th>MonthlyRate</th>\n",
       "      <td>1676.0</td>\n",
       "      <td>1.428702e+04</td>\n",
       "      <td>7138.857783</td>\n",
       "      <td>2094.0</td>\n",
       "      <td>7993.00</td>\n",
       "      <td>14269.5</td>\n",
       "      <td>20462.00</td>\n",
       "      <td>26999.0</td>\n",
       "    </tr>\n",
       "    <tr>\n",
       "      <th>NumCompaniesWorked</th>\n",
       "      <td>1676.0</td>\n",
       "      <td>2.662291e+00</td>\n",
       "      <td>2.477704</td>\n",
       "      <td>0.0</td>\n",
       "      <td>1.00</td>\n",
       "      <td>2.0</td>\n",
       "      <td>4.00</td>\n",
       "      <td>9.0</td>\n",
       "    </tr>\n",
       "    <tr>\n",
       "      <th>PercentSalaryHike</th>\n",
       "      <td>1676.0</td>\n",
       "      <td>1.519690e+01</td>\n",
       "      <td>3.646550</td>\n",
       "      <td>11.0</td>\n",
       "      <td>12.00</td>\n",
       "      <td>14.0</td>\n",
       "      <td>18.00</td>\n",
       "      <td>25.0</td>\n",
       "    </tr>\n",
       "    <tr>\n",
       "      <th>PerformanceRating</th>\n",
       "      <td>1676.0</td>\n",
       "      <td>3.150358e+00</td>\n",
       "      <td>0.357529</td>\n",
       "      <td>3.0</td>\n",
       "      <td>3.00</td>\n",
       "      <td>3.0</td>\n",
       "      <td>3.00</td>\n",
       "      <td>4.0</td>\n",
       "    </tr>\n",
       "    <tr>\n",
       "      <th>RelationshipSatisfaction</th>\n",
       "      <td>1676.0</td>\n",
       "      <td>2.718377e+00</td>\n",
       "      <td>1.078162</td>\n",
       "      <td>1.0</td>\n",
       "      <td>2.00</td>\n",
       "      <td>3.0</td>\n",
       "      <td>4.00</td>\n",
       "      <td>4.0</td>\n",
       "    </tr>\n",
       "    <tr>\n",
       "      <th>StandardHours</th>\n",
       "      <td>1676.0</td>\n",
       "      <td>8.000000e+01</td>\n",
       "      <td>0.000000</td>\n",
       "      <td>80.0</td>\n",
       "      <td>80.00</td>\n",
       "      <td>80.0</td>\n",
       "      <td>80.00</td>\n",
       "      <td>80.0</td>\n",
       "    </tr>\n",
       "    <tr>\n",
       "      <th>Shift</th>\n",
       "      <td>1676.0</td>\n",
       "      <td>8.060859e-01</td>\n",
       "      <td>0.855527</td>\n",
       "      <td>0.0</td>\n",
       "      <td>0.00</td>\n",
       "      <td>1.0</td>\n",
       "      <td>1.00</td>\n",
       "      <td>3.0</td>\n",
       "    </tr>\n",
       "    <tr>\n",
       "      <th>TotalWorkingYears</th>\n",
       "      <td>1676.0</td>\n",
       "      <td>1.133890e+01</td>\n",
       "      <td>7.834996</td>\n",
       "      <td>0.0</td>\n",
       "      <td>6.00</td>\n",
       "      <td>10.0</td>\n",
       "      <td>15.00</td>\n",
       "      <td>40.0</td>\n",
       "    </tr>\n",
       "    <tr>\n",
       "      <th>TrainingTimesLastYear</th>\n",
       "      <td>1676.0</td>\n",
       "      <td>2.805489e+00</td>\n",
       "      <td>1.288431</td>\n",
       "      <td>0.0</td>\n",
       "      <td>2.00</td>\n",
       "      <td>3.0</td>\n",
       "      <td>3.00</td>\n",
       "      <td>6.0</td>\n",
       "    </tr>\n",
       "    <tr>\n",
       "      <th>WorkLifeBalance</th>\n",
       "      <td>1676.0</td>\n",
       "      <td>2.766110e+00</td>\n",
       "      <td>0.702369</td>\n",
       "      <td>1.0</td>\n",
       "      <td>2.00</td>\n",
       "      <td>3.0</td>\n",
       "      <td>3.00</td>\n",
       "      <td>4.0</td>\n",
       "    </tr>\n",
       "    <tr>\n",
       "      <th>YearsAtCompany</th>\n",
       "      <td>1676.0</td>\n",
       "      <td>7.033413e+00</td>\n",
       "      <td>6.098991</td>\n",
       "      <td>0.0</td>\n",
       "      <td>3.00</td>\n",
       "      <td>5.0</td>\n",
       "      <td>10.00</td>\n",
       "      <td>40.0</td>\n",
       "    </tr>\n",
       "    <tr>\n",
       "      <th>YearsInCurrentRole</th>\n",
       "      <td>1676.0</td>\n",
       "      <td>4.264916e+00</td>\n",
       "      <td>3.627456</td>\n",
       "      <td>0.0</td>\n",
       "      <td>2.00</td>\n",
       "      <td>3.0</td>\n",
       "      <td>7.00</td>\n",
       "      <td>18.0</td>\n",
       "    </tr>\n",
       "    <tr>\n",
       "      <th>YearsSinceLastPromotion</th>\n",
       "      <td>1676.0</td>\n",
       "      <td>2.200477e+00</td>\n",
       "      <td>3.229587</td>\n",
       "      <td>0.0</td>\n",
       "      <td>0.00</td>\n",
       "      <td>1.0</td>\n",
       "      <td>3.00</td>\n",
       "      <td>15.0</td>\n",
       "    </tr>\n",
       "    <tr>\n",
       "      <th>YearsWithCurrManager</th>\n",
       "      <td>1676.0</td>\n",
       "      <td>4.135442e+00</td>\n",
       "      <td>3.559662</td>\n",
       "      <td>0.0</td>\n",
       "      <td>2.00</td>\n",
       "      <td>3.0</td>\n",
       "      <td>7.00</td>\n",
       "      <td>17.0</td>\n",
       "    </tr>\n",
       "  </tbody>\n",
       "</table>\n",
       "</div>"
      ],
      "text/plain": [
       "                           count          mean            std        min  \\\n",
       "EmployeeID                1676.0  1.456796e+06  248748.624383  1025177.0   \n",
       "Age                       1676.0  3.686635e+01       9.129126       18.0   \n",
       "DailyRate                 1676.0  8.005579e+02     401.594438      102.0   \n",
       "DistanceFromHome          1676.0  9.221957e+00       8.158118        1.0   \n",
       "Education                 1676.0  2.907518e+00       1.025835        1.0   \n",
       "EmployeeCount             1676.0  1.000000e+00       0.000000        1.0   \n",
       "EnvironmentSatisfaction   1676.0  2.714797e+00       1.097534        1.0   \n",
       "HourlyRate                1676.0  6.547017e+01      20.207572       30.0   \n",
       "JobInvolvement            1676.0  2.724940e+00       0.714121        1.0   \n",
       "JobLevel                  1676.0  2.066826e+00       1.113423        1.0   \n",
       "JobSatisfaction           1676.0  2.738663e+00       1.104005        1.0   \n",
       "MonthlyIncome             1676.0  6.516513e+03    4728.456618     1009.0   \n",
       "MonthlyRate               1676.0  1.428702e+04    7138.857783     2094.0   \n",
       "NumCompaniesWorked        1676.0  2.662291e+00       2.477704        0.0   \n",
       "PercentSalaryHike         1676.0  1.519690e+01       3.646550       11.0   \n",
       "PerformanceRating         1676.0  3.150358e+00       0.357529        3.0   \n",
       "RelationshipSatisfaction  1676.0  2.718377e+00       1.078162        1.0   \n",
       "StandardHours             1676.0  8.000000e+01       0.000000       80.0   \n",
       "Shift                     1676.0  8.060859e-01       0.855527        0.0   \n",
       "TotalWorkingYears         1676.0  1.133890e+01       7.834996        0.0   \n",
       "TrainingTimesLastYear     1676.0  2.805489e+00       1.288431        0.0   \n",
       "WorkLifeBalance           1676.0  2.766110e+00       0.702369        1.0   \n",
       "YearsAtCompany            1676.0  7.033413e+00       6.098991        0.0   \n",
       "YearsInCurrentRole        1676.0  4.264916e+00       3.627456        0.0   \n",
       "YearsSinceLastPromotion   1676.0  2.200477e+00       3.229587        0.0   \n",
       "YearsWithCurrManager      1676.0  4.135442e+00       3.559662        0.0   \n",
       "\n",
       "                                 25%        50%         75%        max  \n",
       "EmployeeID                1235831.75  1464606.0  1667992.00  1886378.0  \n",
       "Age                            30.00       36.0       43.00       60.0  \n",
       "DailyRate                     465.00      796.5     1157.00     1499.0  \n",
       "DistanceFromHome                2.00        7.0       14.00       29.0  \n",
       "Education                       2.00        3.0        4.00        5.0  \n",
       "EmployeeCount                   1.00        1.0        1.00        1.0  \n",
       "EnvironmentSatisfaction         2.00        3.0        4.00        4.0  \n",
       "HourlyRate                     48.00       65.5       83.00      100.0  \n",
       "JobInvolvement                  2.00        3.0        3.00        4.0  \n",
       "JobLevel                        1.00        2.0        3.00        5.0  \n",
       "JobSatisfaction                 2.00        3.0        4.00        4.0  \n",
       "MonthlyIncome                2928.25     4899.0     8380.25    19999.0  \n",
       "MonthlyRate                  7993.00    14269.5    20462.00    26999.0  \n",
       "NumCompaniesWorked              1.00        2.0        4.00        9.0  \n",
       "PercentSalaryHike              12.00       14.0       18.00       25.0  \n",
       "PerformanceRating               3.00        3.0        3.00        4.0  \n",
       "RelationshipSatisfaction        2.00        3.0        4.00        4.0  \n",
       "StandardHours                  80.00       80.0       80.00       80.0  \n",
       "Shift                           0.00        1.0        1.00        3.0  \n",
       "TotalWorkingYears               6.00       10.0       15.00       40.0  \n",
       "TrainingTimesLastYear           2.00        3.0        3.00        6.0  \n",
       "WorkLifeBalance                 2.00        3.0        3.00        4.0  \n",
       "YearsAtCompany                  3.00        5.0       10.00       40.0  \n",
       "YearsInCurrentRole              2.00        3.0        7.00       18.0  \n",
       "YearsSinceLastPromotion         0.00        1.0        3.00       15.0  \n",
       "YearsWithCurrManager            2.00        3.0        7.00       17.0  "
      ]
     },
     "execution_count": 273,
     "metadata": {},
     "output_type": "execute_result"
    }
   ],
   "source": [
    "df.describe().T"
   ]
  },
  {
   "cell_type": "code",
   "execution_count": 274,
   "id": "bdead529",
   "metadata": {},
   "outputs": [],
   "source": [
    "df.drop('EmployeeID',axis=1,inplace=True)"
   ]
  },
  {
   "cell_type": "code",
   "execution_count": 275,
   "id": "fe604dc6",
   "metadata": {},
   "outputs": [
    {
     "data": {
      "text/plain": [
       "<AxesSubplot:xlabel='Age', ylabel='Density'>"
      ]
     },
     "execution_count": 275,
     "metadata": {},
     "output_type": "execute_result"
    },
    {
     "data": {
      "image/png": "[encoded data removed]",
      "text/plain": [
       "<Figure size 432x288 with 1 Axes>"
      ]
     },
     "metadata": {
      "needs_background": "light"
     },
     "output_type": "display_data"
    }
   ],
   "source": [
    "sns.distplot(df['Age'])"
   ]
  },
  {
   "cell_type": "code",
   "execution_count": 276,
   "id": "e4f2edd0",
   "metadata": {},
   "outputs": [
    {
     "data": {
      "text/plain": [
       "dtype('O')"
      ]
     },
     "execution_count": 276,
     "metadata": {},
     "output_type": "execute_result"
    }
   ],
   "source": [
    "df['Attrition'].dtype"
   ]
  },
  {
   "cell_type": "code",
   "execution_count": 277,
   "id": "fa22db1d",
   "metadata": {},
   "outputs": [
    {
     "data": {
      "text/plain": [
       "array(['No', 'Yes'], dtype=object)"
      ]
     },
     "execution_count": 277,
     "metadata": {},
     "output_type": "execute_result"
    }
   ],
   "source": [
    "df[\"Attrition\"].unique()"
   ]
  },
  {
   "cell_type": "code",
   "execution_count": 278,
   "id": "18e061c6",
   "metadata": {},
   "outputs": [],
   "source": [
    "df['Attrition']=df['Attrition'].map({'No':0, 'Yes':1})"
   ]
  },
  {
   "cell_type": "code",
   "execution_count": 279,
   "id": "8a866b06",
   "metadata": {},
   "outputs": [
    {
     "data": {
      "text/plain": [
       "array(['Travel_Rarely', 'Travel_Frequently', 'Non-Travel'], dtype=object)"
      ]
     },
     "execution_count": 279,
     "metadata": {},
     "output_type": "execute_result"
    }
   ],
   "source": [
    "df['BusinessTravel'].unique()"
   ]
  },
  {
   "cell_type": "code",
   "execution_count": 280,
   "id": "6075e235",
   "metadata": {},
   "outputs": [],
   "source": [
    "BusinessTravel=pd.get_dummies(df['BusinessTravel'],drop_first=True)"
   ]
  },
  {
   "cell_type": "code",
   "execution_count": 281,
   "id": "c11d378b",
   "metadata": {},
   "outputs": [],
   "source": [
    "df=pd.concat([df,BusinessTravel],axis=1)\n",
    "df.drop('BusinessTravel',axis=1,inplace=True)"
   ]
  },
  {
   "cell_type": "code",
   "execution_count": 282,
   "id": "e1ee41a1",
   "metadata": {},
   "outputs": [
    {
     "data": {
      "text/plain": [
       "<AxesSubplot:xlabel='DailyRate', ylabel='Density'>"
      ]
     },
     "execution_count": 282,
     "metadata": {},
     "output_type": "execute_result"
    },
    {
     "data": {
      "image/png": "[encoded data removed]",
      "text/plain": [
       "<Figure size 432x288 with 1 Axes>"
      ]
     },
     "metadata": {
      "needs_background": "light"
     },
     "output_type": "display_data"
    }
   ],
   "source": [
    "sns.distplot(df['DailyRate'])"
   ]
  },
  {
   "cell_type": "code",
   "execution_count": 283,
   "id": "ff68fec9",
   "metadata": {},
   "outputs": [
    {
     "data": {
      "text/plain": [
       "dtype('O')"
      ]
     },
     "execution_count": 283,
     "metadata": {},
     "output_type": "execute_result"
    }
   ],
   "source": [
    "df['Department'].dtype"
   ]
  },
  {
   "cell_type": "code",
   "execution_count": 284,
   "id": "b46298c9",
   "metadata": {},
   "outputs": [
    {
     "data": {
      "text/plain": [
       "array(['Cardiology', 'Maternity', 'Neurology'], dtype=object)"
      ]
     },
     "execution_count": 284,
     "metadata": {},
     "output_type": "execute_result"
    }
   ],
   "source": [
    "df['Department'].unique()"
   ]
  },
  {
   "cell_type": "code",
   "execution_count": 285,
   "id": "d4bd79fa",
   "metadata": {},
   "outputs": [],
   "source": [
    "Department=pd.get_dummies(df['Department'],drop_first=True)"
   ]
  },
  {
   "cell_type": "code",
   "execution_count": 286,
   "id": "af4501fd",
   "metadata": {},
   "outputs": [],
   "source": [
    "df=pd.concat([df,Department],axis=1)\n",
    "df.drop('Department',axis=1,inplace=True)"
   ]
  },
  {
   "cell_type": "code",
   "execution_count": 287,
   "id": "6c4980d5",
   "metadata": {
    "scrolled": true
   },
   "outputs": [
    {
     "data": {
      "text/plain": [
       "<AxesSubplot:xlabel='DistanceFromHome', ylabel='Density'>"
      ]
     },
     "execution_count": 287,
     "metadata": {},
     "output_type": "execute_result"
    },
    {
     "data": {
      "image/png": "[encoded data removed]",
      "text/plain": [
       "<Figure size 432x288 with 1 Axes>"
      ]
     },
     "metadata": {
      "needs_background": "light"
     },
     "output_type": "display_data"
    }
   ],
   "source": [
    "sns.distplot(df['DistanceFromHome'])"
   ]
  },
  {
   "cell_type": "code",
   "execution_count": 288,
   "id": "ffeff288",
   "metadata": {},
   "outputs": [
    {
     "data": {
      "text/plain": [
       "<AxesSubplot:xlabel='Education', ylabel='Density'>"
      ]
     },
     "execution_count": 288,
     "metadata": {},
     "output_type": "execute_result"
    },
    {
     "data": {
      "image/png": "[encoded data removed]",
      "text/plain": [
       "<Figure size 432x288 with 1 Axes>"
      ]
     },
     "metadata": {
      "needs_background": "light"
     },
     "output_type": "display_data"
    }
   ],
   "source": [
    "sns.distplot(df['Education'])"
   ]
  },
  {
   "cell_type": "code",
   "execution_count": 289,
   "id": "78ffe486",
   "metadata": {},
   "outputs": [
    {
     "data": {
      "text/plain": [
       "Education\n",
       "1    196\n",
       "2    322\n",
       "3    655\n",
       "4    447\n",
       "5     56\n",
       "dtype: int64"
      ]
     },
     "execution_count": 289,
     "metadata": {},
     "output_type": "execute_result"
    }
   ],
   "source": [
    "df.groupby('Education').size()"
   ]
  },
  {
   "cell_type": "code",
   "execution_count": 290,
   "id": "00ddb9ac",
   "metadata": {},
   "outputs": [
    {
     "data": {
      "text/plain": [
       "array(['Life Sciences', 'Other', 'Medical', 'Marketing',\n",
       "       'Technical Degree', 'Human Resources'], dtype=object)"
      ]
     },
     "execution_count": 290,
     "metadata": {},
     "output_type": "execute_result"
    }
   ],
   "source": [
    "df['EducationField'].unique()"
   ]
  },
  {
   "cell_type": "code",
   "execution_count": 291,
   "id": "e0efd93e",
   "metadata": {},
   "outputs": [
    {
     "data": {
      "text/plain": [
       "EducationField\n",
       "Human Resources      29\n",
       "Life Sciences       697\n",
       "Marketing           189\n",
       "Medical             524\n",
       "Other                88\n",
       "Technical Degree    149\n",
       "dtype: int64"
      ]
     },
     "execution_count": 291,
     "metadata": {},
     "output_type": "execute_result"
    }
   ],
   "source": [
    "df.groupby('EducationField').size()"
   ]
  },
  {
   "cell_type": "code",
   "execution_count": 292,
   "id": "53c5e4ee",
   "metadata": {},
   "outputs": [],
   "source": [
    "EducationField=pd.get_dummies(df['EducationField'],drop_first=True)"
   ]
  },
  {
   "cell_type": "code",
   "execution_count": 293,
   "id": "1e9add90",
   "metadata": {},
   "outputs": [],
   "source": [
    "df=pd.concat([df,EducationField],axis=1)\n",
    "df.drop('EducationField',axis=1,inplace=True)"
   ]
  },
  {
   "cell_type": "code",
   "execution_count": 294,
   "id": "35185257",
   "metadata": {},
   "outputs": [
    {
     "data": {
      "text/html": [
       "<div>\n",
       "<style scoped>\n",
       "    .dataframe tbody tr th:only-of-type {\n",
       "        vertical-align: middle;\n",
       "    }\n",
       "\n",
       "    .dataframe tbody tr th {\n",
       "        vertical-align: top;\n",
       "    }\n",
       "\n",
       "    .dataframe thead th {\n",
       "        text-align: right;\n",
       "    }\n",
       "</style>\n",
       "<table border=\"1\" class=\"dataframe\">\n",
       "  <thead>\n",
       "    <tr style=\"text-align: right;\">\n",
       "      <th></th>\n",
       "      <th>Age</th>\n",
       "      <th>Attrition</th>\n",
       "      <th>DailyRate</th>\n",
       "      <th>DistanceFromHome</th>\n",
       "      <th>Education</th>\n",
       "      <th>EmployeeCount</th>\n",
       "      <th>EnvironmentSatisfaction</th>\n",
       "      <th>Gender</th>\n",
       "      <th>HourlyRate</th>\n",
       "      <th>JobInvolvement</th>\n",
       "      <th>JobLevel</th>\n",
       "      <th>JobRole</th>\n",
       "      <th>JobSatisfaction</th>\n",
       "      <th>MaritalStatus</th>\n",
       "      <th>MonthlyIncome</th>\n",
       "      <th>MonthlyRate</th>\n",
       "      <th>NumCompaniesWorked</th>\n",
       "      <th>Over18</th>\n",
       "      <th>OverTime</th>\n",
       "      <th>PercentSalaryHike</th>\n",
       "      <th>PerformanceRating</th>\n",
       "      <th>RelationshipSatisfaction</th>\n",
       "      <th>StandardHours</th>\n",
       "      <th>Shift</th>\n",
       "      <th>TotalWorkingYears</th>\n",
       "      <th>TrainingTimesLastYear</th>\n",
       "      <th>WorkLifeBalance</th>\n",
       "      <th>YearsAtCompany</th>\n",
       "      <th>YearsInCurrentRole</th>\n",
       "      <th>YearsSinceLastPromotion</th>\n",
       "      <th>YearsWithCurrManager</th>\n",
       "      <th>Travel_Frequently</th>\n",
       "      <th>Travel_Rarely</th>\n",
       "      <th>Maternity</th>\n",
       "      <th>Neurology</th>\n",
       "      <th>Life Sciences</th>\n",
       "      <th>Marketing</th>\n",
       "      <th>Medical</th>\n",
       "      <th>Other</th>\n",
       "      <th>Technical Degree</th>\n",
       "    </tr>\n",
       "  </thead>\n",
       "  <tbody>\n",
       "    <tr>\n",
       "      <th>0</th>\n",
       "      <td>41</td>\n",
       "      <td>0</td>\n",
       "      <td>1102</td>\n",
       "      <td>1</td>\n",
       "      <td>2</td>\n",
       "      <td>1</td>\n",
       "      <td>2</td>\n",
       "      <td>Female</td>\n",
       "      <td>94</td>\n",
       "      <td>3</td>\n",
       "      <td>2</td>\n",
       "      <td>Nurse</td>\n",
       "      <td>4</td>\n",
       "      <td>Single</td>\n",
       "      <td>5993</td>\n",
       "      <td>19479</td>\n",
       "      <td>8</td>\n",
       "      <td>Y</td>\n",
       "      <td>Yes</td>\n",
       "      <td>11</td>\n",
       "      <td>3</td>\n",
       "      <td>1</td>\n",
       "      <td>80</td>\n",
       "      <td>0</td>\n",
       "      <td>8</td>\n",
       "      <td>0</td>\n",
       "      <td>1</td>\n",
       "      <td>6</td>\n",
       "      <td>4</td>\n",
       "      <td>0</td>\n",
       "      <td>5</td>\n",
       "      <td>0</td>\n",
       "      <td>1</td>\n",
       "      <td>0</td>\n",
       "      <td>0</td>\n",
       "      <td>1</td>\n",
       "      <td>0</td>\n",
       "      <td>0</td>\n",
       "      <td>0</td>\n",
       "      <td>0</td>\n",
       "    </tr>\n",
       "    <tr>\n",
       "      <th>1</th>\n",
       "      <td>49</td>\n",
       "      <td>0</td>\n",
       "      <td>279</td>\n",
       "      <td>8</td>\n",
       "      <td>1</td>\n",
       "      <td>1</td>\n",
       "      <td>3</td>\n",
       "      <td>Male</td>\n",
       "      <td>61</td>\n",
       "      <td>2</td>\n",
       "      <td>2</td>\n",
       "      <td>Other</td>\n",
       "      <td>2</td>\n",
       "      <td>Married</td>\n",
       "      <td>5130</td>\n",
       "      <td>24907</td>\n",
       "      <td>1</td>\n",
       "      <td>Y</td>\n",
       "      <td>No</td>\n",
       "      <td>23</td>\n",
       "      <td>4</td>\n",
       "      <td>4</td>\n",
       "      <td>80</td>\n",
       "      <td>1</td>\n",
       "      <td>10</td>\n",
       "      <td>3</td>\n",
       "      <td>3</td>\n",
       "      <td>10</td>\n",
       "      <td>7</td>\n",
       "      <td>1</td>\n",
       "      <td>7</td>\n",
       "      <td>1</td>\n",
       "      <td>0</td>\n",
       "      <td>1</td>\n",
       "      <td>0</td>\n",
       "      <td>1</td>\n",
       "      <td>0</td>\n",
       "      <td>0</td>\n",
       "      <td>0</td>\n",
       "      <td>0</td>\n",
       "    </tr>\n",
       "    <tr>\n",
       "      <th>2</th>\n",
       "      <td>37</td>\n",
       "      <td>1</td>\n",
       "      <td>1373</td>\n",
       "      <td>2</td>\n",
       "      <td>2</td>\n",
       "      <td>1</td>\n",
       "      <td>4</td>\n",
       "      <td>Male</td>\n",
       "      <td>92</td>\n",
       "      <td>2</td>\n",
       "      <td>1</td>\n",
       "      <td>Nurse</td>\n",
       "      <td>3</td>\n",
       "      <td>Single</td>\n",
       "      <td>2090</td>\n",
       "      <td>2396</td>\n",
       "      <td>6</td>\n",
       "      <td>Y</td>\n",
       "      <td>Yes</td>\n",
       "      <td>15</td>\n",
       "      <td>3</td>\n",
       "      <td>2</td>\n",
       "      <td>80</td>\n",
       "      <td>0</td>\n",
       "      <td>7</td>\n",
       "      <td>3</td>\n",
       "      <td>3</td>\n",
       "      <td>0</td>\n",
       "      <td>0</td>\n",
       "      <td>0</td>\n",
       "      <td>0</td>\n",
       "      <td>0</td>\n",
       "      <td>1</td>\n",
       "      <td>1</td>\n",
       "      <td>0</td>\n",
       "      <td>0</td>\n",
       "      <td>0</td>\n",
       "      <td>0</td>\n",
       "      <td>1</td>\n",
       "      <td>0</td>\n",
       "    </tr>\n",
       "    <tr>\n",
       "      <th>3</th>\n",
       "      <td>33</td>\n",
       "      <td>0</td>\n",
       "      <td>1392</td>\n",
       "      <td>3</td>\n",
       "      <td>4</td>\n",
       "      <td>1</td>\n",
       "      <td>4</td>\n",
       "      <td>Female</td>\n",
       "      <td>56</td>\n",
       "      <td>3</td>\n",
       "      <td>1</td>\n",
       "      <td>Other</td>\n",
       "      <td>3</td>\n",
       "      <td>Married</td>\n",
       "      <td>2909</td>\n",
       "      <td>23159</td>\n",
       "      <td>1</td>\n",
       "      <td>Y</td>\n",
       "      <td>Yes</td>\n",
       "      <td>11</td>\n",
       "      <td>3</td>\n",
       "      <td>3</td>\n",
       "      <td>80</td>\n",
       "      <td>0</td>\n",
       "      <td>8</td>\n",
       "      <td>3</td>\n",
       "      <td>3</td>\n",
       "      <td>8</td>\n",
       "      <td>7</td>\n",
       "      <td>3</td>\n",
       "      <td>0</td>\n",
       "      <td>1</td>\n",
       "      <td>0</td>\n",
       "      <td>1</td>\n",
       "      <td>0</td>\n",
       "      <td>1</td>\n",
       "      <td>0</td>\n",
       "      <td>0</td>\n",
       "      <td>0</td>\n",
       "      <td>0</td>\n",
       "    </tr>\n",
       "    <tr>\n",
       "      <th>4</th>\n",
       "      <td>27</td>\n",
       "      <td>0</td>\n",
       "      <td>591</td>\n",
       "      <td>2</td>\n",
       "      <td>1</td>\n",
       "      <td>1</td>\n",
       "      <td>1</td>\n",
       "      <td>Male</td>\n",
       "      <td>40</td>\n",
       "      <td>3</td>\n",
       "      <td>1</td>\n",
       "      <td>Nurse</td>\n",
       "      <td>2</td>\n",
       "      <td>Married</td>\n",
       "      <td>3468</td>\n",
       "      <td>16632</td>\n",
       "      <td>9</td>\n",
       "      <td>Y</td>\n",
       "      <td>No</td>\n",
       "      <td>12</td>\n",
       "      <td>3</td>\n",
       "      <td>4</td>\n",
       "      <td>80</td>\n",
       "      <td>1</td>\n",
       "      <td>6</td>\n",
       "      <td>3</td>\n",
       "      <td>3</td>\n",
       "      <td>2</td>\n",
       "      <td>2</td>\n",
       "      <td>2</td>\n",
       "      <td>2</td>\n",
       "      <td>0</td>\n",
       "      <td>1</td>\n",
       "      <td>1</td>\n",
       "      <td>0</td>\n",
       "      <td>0</td>\n",
       "      <td>0</td>\n",
       "      <td>1</td>\n",
       "      <td>0</td>\n",
       "      <td>0</td>\n",
       "    </tr>\n",
       "  </tbody>\n",
       "</table>\n",
       "</div>"
      ],
      "text/plain": [
       "   Age  Attrition  DailyRate  DistanceFromHome  Education  EmployeeCount  \\\n",
       "0   41          0       1102                 1          2              1   \n",
       "1   49          0        279                 8          1              1   \n",
       "2   37          1       1373                 2          2              1   \n",
       "3   33          0       1392                 3          4              1   \n",
       "4   27          0        591                 2          1              1   \n",
       "\n",
       "   EnvironmentSatisfaction  Gender  HourlyRate  JobInvolvement  JobLevel  \\\n",
       "0                        2  Female          94               3         2   \n",
       "1                        3    Male          61               2         2   \n",
       "2                        4    Male          92               2         1   \n",
       "3                        4  Female          56               3         1   \n",
       "4                        1    Male          40               3         1   \n",
       "\n",
       "  JobRole  JobSatisfaction MaritalStatus  MonthlyIncome  MonthlyRate  \\\n",
       "0   Nurse                4        Single           5993        19479   \n",
       "1   Other                2       Married           5130        24907   \n",
       "2   Nurse                3        Single           2090         2396   \n",
       "3   Other                3       Married           2909        23159   \n",
       "4   Nurse                2       Married           3468        16632   \n",
       "\n",
       "   NumCompaniesWorked Over18 OverTime  PercentSalaryHike  PerformanceRating  \\\n",
       "0                   8      Y      Yes                 11                  3   \n",
       "1                   1      Y       No                 23                  4   \n",
       "2                   6      Y      Yes                 15                  3   \n",
       "3                   1      Y      Yes                 11                  3   \n",
       "4                   9      Y       No                 12                  3   \n",
       "\n",
       "   RelationshipSatisfaction  StandardHours  Shift  TotalWorkingYears  \\\n",
       "0                         1             80      0                  8   \n",
       "1                         4             80      1                 10   \n",
       "2                         2             80      0                  7   \n",
       "3                         3             80      0                  8   \n",
       "4                         4             80      1                  6   \n",
       "\n",
       "   TrainingTimesLastYear  WorkLifeBalance  YearsAtCompany  YearsInCurrentRole  \\\n",
       "0                      0                1               6                   4   \n",
       "1                      3                3              10                   7   \n",
       "2                      3                3               0                   0   \n",
       "3                      3                3               8                   7   \n",
       "4                      3                3               2                   2   \n",
       "\n",
       "   YearsSinceLastPromotion  YearsWithCurrManager  Travel_Frequently  \\\n",
       "0                        0                     5                  0   \n",
       "1                        1                     7                  1   \n",
       "2                        0                     0                  0   \n",
       "3                        3                     0                  1   \n",
       "4                        2                     2                  0   \n",
       "\n",
       "   Travel_Rarely  Maternity  Neurology  Life Sciences  Marketing  Medical  \\\n",
       "0              1          0          0              1          0        0   \n",
       "1              0          1          0              1          0        0   \n",
       "2              1          1          0              0          0        0   \n",
       "3              0          1          0              1          0        0   \n",
       "4              1          1          0              0          0        1   \n",
       "\n",
       "   Other  Technical Degree  \n",
       "0      0                 0  \n",
       "1      0                 0  \n",
       "2      1                 0  \n",
       "3      0                 0  \n",
       "4      0                 0  "
      ]
     },
     "execution_count": 294,
     "metadata": {},
     "output_type": "execute_result"
    }
   ],
   "source": [
    "df.head()"
   ]
  },
  {
   "cell_type": "code",
   "execution_count": 295,
   "id": "46364dbc",
   "metadata": {},
   "outputs": [
    {
     "name": "stdout",
     "output_type": "stream",
     "text": [
      "<class 'pandas.core.frame.DataFrame'>\n",
      "RangeIndex: 1676 entries, 0 to 1675\n",
      "Data columns (total 40 columns):\n",
      " #   Column                    Non-Null Count  Dtype \n",
      "---  ------                    --------------  ----- \n",
      " 0   Age                       1676 non-null   int64 \n",
      " 1   Attrition                 1676 non-null   int64 \n",
      " 2   DailyRate                 1676 non-null   int64 \n",
      " 3   DistanceFromHome          1676 non-null   int64 \n",
      " 4   Education                 1676 non-null   int64 \n",
      " 5   EmployeeCount             1676 non-null   int64 \n",
      " 6   EnvironmentSatisfaction   1676 non-null   int64 \n",
      " 7   Gender                    1676 non-null   object\n",
      " 8   HourlyRate                1676 non-null   int64 \n",
      " 9   JobInvolvement            1676 non-null   int64 \n",
      " 10  JobLevel                  1676 non-null   int64 \n",
      " 11  JobRole                   1676 non-null   object\n",
      " 12  JobSatisfaction           1676 non-null   int64 \n",
      " 13  MaritalStatus             1676 non-null   object\n",
      " 14  MonthlyIncome             1676 non-null   int64 \n",
      " 15  MonthlyRate               1676 non-null   int64 \n",
      " 16  NumCompaniesWorked        1676 non-null   int64 \n",
      " 17  Over18                    1676 non-null   object\n",
      " 18  OverTime                  1676 non-null   object\n",
      " 19  PercentSalaryHike         1676 non-null   int64 \n",
      " 20  PerformanceRating         1676 non-null   int64 \n",
      " 21  RelationshipSatisfaction  1676 non-null   int64 \n",
      " 22  StandardHours             1676 non-null   int64 \n",
      " 23  Shift                     1676 non-null   int64 \n",
      " 24  TotalWorkingYears         1676 non-null   int64 \n",
      " 25  TrainingTimesLastYear     1676 non-null   int64 \n",
      " 26  WorkLifeBalance           1676 non-null   int64 \n",
      " 27  YearsAtCompany            1676 non-null   int64 \n",
      " 28  YearsInCurrentRole        1676 non-null   int64 \n",
      " 29  YearsSinceLastPromotion   1676 non-null   int64 \n",
      " 30  YearsWithCurrManager      1676 non-null   int64 \n",
      " 31  Travel_Frequently         1676 non-null   uint8 \n",
      " 32  Travel_Rarely             1676 non-null   uint8 \n",
      " 33  Maternity                 1676 non-null   uint8 \n",
      " 34  Neurology                 1676 non-null   uint8 \n",
      " 35  Life Sciences             1676 non-null   uint8 \n",
      " 36  Marketing                 1676 non-null   uint8 \n",
      " 37  Medical                   1676 non-null   uint8 \n",
      " 38  Other                     1676 non-null   uint8 \n",
      " 39  Technical Degree          1676 non-null   uint8 \n",
      "dtypes: int64(26), object(5), uint8(9)\n",
      "memory usage: 420.8+ KB\n"
     ]
    }
   ],
   "source": [
    "df.info()"
   ]
  },
  {
   "cell_type": "code",
   "execution_count": 296,
   "id": "c90ea2ea",
   "metadata": {},
   "outputs": [
    {
     "data": {
      "text/plain": [
       "<AxesSubplot:xlabel='EnvironmentSatisfaction', ylabel='Density'>"
      ]
     },
     "execution_count": 296,
     "metadata": {},
     "output_type": "execute_result"
    },
    {
     "data": {
      "image/png": "[encoded data removed]",
      "text/plain": [
       "<Figure size 432x288 with 1 Axes>"
      ]
     },
     "metadata": {
      "needs_background": "light"
     },
     "output_type": "display_data"
    }
   ],
   "source": [
    "sns.distplot(df['EnvironmentSatisfaction'])"
   ]
  },
  {
   "cell_type": "code",
   "execution_count": 297,
   "id": "f92ceb2e",
   "metadata": {},
   "outputs": [
    {
     "data": {
      "text/plain": [
       "array(['Female', 'Male'], dtype=object)"
      ]
     },
     "execution_count": 297,
     "metadata": {},
     "output_type": "execute_result"
    }
   ],
   "source": [
    "df['Gender'].unique()"
   ]
  },
  {
   "cell_type": "code",
   "execution_count": 298,
   "id": "2ace5e03",
   "metadata": {},
   "outputs": [],
   "source": [
    "df['Gender']=df['Gender'].map({'Female':1, 'Male':0})"
   ]
  },
  {
   "cell_type": "code",
   "execution_count": 299,
   "id": "79a16d2c",
   "metadata": {},
   "outputs": [
    {
     "data": {
      "text/plain": [
       "<AxesSubplot:xlabel='HourlyRate', ylabel='Density'>"
      ]
     },
     "execution_count": 299,
     "metadata": {},
     "output_type": "execute_result"
    },
    {
     "data": {
      "image/png": "[encoded data removed]",
      "text/plain": [
       "<Figure size 432x288 with 1 Axes>"
      ]
     },
     "metadata": {
      "needs_background": "light"
     },
     "output_type": "display_data"
    }
   ],
   "source": [
    "sns.distplot(df['HourlyRate'])"
   ]
  },
  {
   "cell_type": "code",
   "execution_count": 300,
   "id": "970b19a2",
   "metadata": {},
   "outputs": [
    {
     "data": {
      "text/html": [
       "<div>\n",
       "<style scoped>\n",
       "    .dataframe tbody tr th:only-of-type {\n",
       "        vertical-align: middle;\n",
       "    }\n",
       "\n",
       "    .dataframe tbody tr th {\n",
       "        vertical-align: top;\n",
       "    }\n",
       "\n",
       "    .dataframe thead th {\n",
       "        text-align: right;\n",
       "    }\n",
       "</style>\n",
       "<table border=\"1\" class=\"dataframe\">\n",
       "  <thead>\n",
       "    <tr style=\"text-align: right;\">\n",
       "      <th></th>\n",
       "      <th>Age</th>\n",
       "      <th>Attrition</th>\n",
       "      <th>DailyRate</th>\n",
       "      <th>DistanceFromHome</th>\n",
       "      <th>Education</th>\n",
       "      <th>EmployeeCount</th>\n",
       "      <th>EnvironmentSatisfaction</th>\n",
       "      <th>Gender</th>\n",
       "      <th>HourlyRate</th>\n",
       "      <th>JobInvolvement</th>\n",
       "      <th>JobLevel</th>\n",
       "      <th>JobRole</th>\n",
       "      <th>JobSatisfaction</th>\n",
       "      <th>MaritalStatus</th>\n",
       "      <th>MonthlyIncome</th>\n",
       "      <th>MonthlyRate</th>\n",
       "      <th>NumCompaniesWorked</th>\n",
       "      <th>Over18</th>\n",
       "      <th>OverTime</th>\n",
       "      <th>PercentSalaryHike</th>\n",
       "      <th>PerformanceRating</th>\n",
       "      <th>RelationshipSatisfaction</th>\n",
       "      <th>StandardHours</th>\n",
       "      <th>Shift</th>\n",
       "      <th>TotalWorkingYears</th>\n",
       "      <th>TrainingTimesLastYear</th>\n",
       "      <th>WorkLifeBalance</th>\n",
       "      <th>YearsAtCompany</th>\n",
       "      <th>YearsInCurrentRole</th>\n",
       "      <th>YearsSinceLastPromotion</th>\n",
       "      <th>YearsWithCurrManager</th>\n",
       "      <th>Travel_Frequently</th>\n",
       "      <th>Travel_Rarely</th>\n",
       "      <th>Maternity</th>\n",
       "      <th>Neurology</th>\n",
       "      <th>Life Sciences</th>\n",
       "      <th>Marketing</th>\n",
       "      <th>Medical</th>\n",
       "      <th>Other</th>\n",
       "      <th>Technical Degree</th>\n",
       "    </tr>\n",
       "  </thead>\n",
       "  <tbody>\n",
       "    <tr>\n",
       "      <th>0</th>\n",
       "      <td>41</td>\n",
       "      <td>0</td>\n",
       "      <td>1102</td>\n",
       "      <td>1</td>\n",
       "      <td>2</td>\n",
       "      <td>1</td>\n",
       "      <td>2</td>\n",
       "      <td>1</td>\n",
       "      <td>94</td>\n",
       "      <td>3</td>\n",
       "      <td>2</td>\n",
       "      <td>Nurse</td>\n",
       "      <td>4</td>\n",
       "      <td>Single</td>\n",
       "      <td>5993</td>\n",
       "      <td>19479</td>\n",
       "      <td>8</td>\n",
       "      <td>Y</td>\n",
       "      <td>Yes</td>\n",
       "      <td>11</td>\n",
       "      <td>3</td>\n",
       "      <td>1</td>\n",
       "      <td>80</td>\n",
       "      <td>0</td>\n",
       "      <td>8</td>\n",
       "      <td>0</td>\n",
       "      <td>1</td>\n",
       "      <td>6</td>\n",
       "      <td>4</td>\n",
       "      <td>0</td>\n",
       "      <td>5</td>\n",
       "      <td>0</td>\n",
       "      <td>1</td>\n",
       "      <td>0</td>\n",
       "      <td>0</td>\n",
       "      <td>1</td>\n",
       "      <td>0</td>\n",
       "      <td>0</td>\n",
       "      <td>0</td>\n",
       "      <td>0</td>\n",
       "    </tr>\n",
       "    <tr>\n",
       "      <th>1</th>\n",
       "      <td>49</td>\n",
       "      <td>0</td>\n",
       "      <td>279</td>\n",
       "      <td>8</td>\n",
       "      <td>1</td>\n",
       "      <td>1</td>\n",
       "      <td>3</td>\n",
       "      <td>0</td>\n",
       "      <td>61</td>\n",
       "      <td>2</td>\n",
       "      <td>2</td>\n",
       "      <td>Other</td>\n",
       "      <td>2</td>\n",
       "      <td>Married</td>\n",
       "      <td>5130</td>\n",
       "      <td>24907</td>\n",
       "      <td>1</td>\n",
       "      <td>Y</td>\n",
       "      <td>No</td>\n",
       "      <td>23</td>\n",
       "      <td>4</td>\n",
       "      <td>4</td>\n",
       "      <td>80</td>\n",
       "      <td>1</td>\n",
       "      <td>10</td>\n",
       "      <td>3</td>\n",
       "      <td>3</td>\n",
       "      <td>10</td>\n",
       "      <td>7</td>\n",
       "      <td>1</td>\n",
       "      <td>7</td>\n",
       "      <td>1</td>\n",
       "      <td>0</td>\n",
       "      <td>1</td>\n",
       "      <td>0</td>\n",
       "      <td>1</td>\n",
       "      <td>0</td>\n",
       "      <td>0</td>\n",
       "      <td>0</td>\n",
       "      <td>0</td>\n",
       "    </tr>\n",
       "    <tr>\n",
       "      <th>2</th>\n",
       "      <td>37</td>\n",
       "      <td>1</td>\n",
       "      <td>1373</td>\n",
       "      <td>2</td>\n",
       "      <td>2</td>\n",
       "      <td>1</td>\n",
       "      <td>4</td>\n",
       "      <td>0</td>\n",
       "      <td>92</td>\n",
       "      <td>2</td>\n",
       "      <td>1</td>\n",
       "      <td>Nurse</td>\n",
       "      <td>3</td>\n",
       "      <td>Single</td>\n",
       "      <td>2090</td>\n",
       "      <td>2396</td>\n",
       "      <td>6</td>\n",
       "      <td>Y</td>\n",
       "      <td>Yes</td>\n",
       "      <td>15</td>\n",
       "      <td>3</td>\n",
       "      <td>2</td>\n",
       "      <td>80</td>\n",
       "      <td>0</td>\n",
       "      <td>7</td>\n",
       "      <td>3</td>\n",
       "      <td>3</td>\n",
       "      <td>0</td>\n",
       "      <td>0</td>\n",
       "      <td>0</td>\n",
       "      <td>0</td>\n",
       "      <td>0</td>\n",
       "      <td>1</td>\n",
       "      <td>1</td>\n",
       "      <td>0</td>\n",
       "      <td>0</td>\n",
       "      <td>0</td>\n",
       "      <td>0</td>\n",
       "      <td>1</td>\n",
       "      <td>0</td>\n",
       "    </tr>\n",
       "    <tr>\n",
       "      <th>3</th>\n",
       "      <td>33</td>\n",
       "      <td>0</td>\n",
       "      <td>1392</td>\n",
       "      <td>3</td>\n",
       "      <td>4</td>\n",
       "      <td>1</td>\n",
       "      <td>4</td>\n",
       "      <td>1</td>\n",
       "      <td>56</td>\n",
       "      <td>3</td>\n",
       "      <td>1</td>\n",
       "      <td>Other</td>\n",
       "      <td>3</td>\n",
       "      <td>Married</td>\n",
       "      <td>2909</td>\n",
       "      <td>23159</td>\n",
       "      <td>1</td>\n",
       "      <td>Y</td>\n",
       "      <td>Yes</td>\n",
       "      <td>11</td>\n",
       "      <td>3</td>\n",
       "      <td>3</td>\n",
       "      <td>80</td>\n",
       "      <td>0</td>\n",
       "      <td>8</td>\n",
       "      <td>3</td>\n",
       "      <td>3</td>\n",
       "      <td>8</td>\n",
       "      <td>7</td>\n",
       "      <td>3</td>\n",
       "      <td>0</td>\n",
       "      <td>1</td>\n",
       "      <td>0</td>\n",
       "      <td>1</td>\n",
       "      <td>0</td>\n",
       "      <td>1</td>\n",
       "      <td>0</td>\n",
       "      <td>0</td>\n",
       "      <td>0</td>\n",
       "      <td>0</td>\n",
       "    </tr>\n",
       "    <tr>\n",
       "      <th>4</th>\n",
       "      <td>27</td>\n",
       "      <td>0</td>\n",
       "      <td>591</td>\n",
       "      <td>2</td>\n",
       "      <td>1</td>\n",
       "      <td>1</td>\n",
       "      <td>1</td>\n",
       "      <td>0</td>\n",
       "      <td>40</td>\n",
       "      <td>3</td>\n",
       "      <td>1</td>\n",
       "      <td>Nurse</td>\n",
       "      <td>2</td>\n",
       "      <td>Married</td>\n",
       "      <td>3468</td>\n",
       "      <td>16632</td>\n",
       "      <td>9</td>\n",
       "      <td>Y</td>\n",
       "      <td>No</td>\n",
       "      <td>12</td>\n",
       "      <td>3</td>\n",
       "      <td>4</td>\n",
       "      <td>80</td>\n",
       "      <td>1</td>\n",
       "      <td>6</td>\n",
       "      <td>3</td>\n",
       "      <td>3</td>\n",
       "      <td>2</td>\n",
       "      <td>2</td>\n",
       "      <td>2</td>\n",
       "      <td>2</td>\n",
       "      <td>0</td>\n",
       "      <td>1</td>\n",
       "      <td>1</td>\n",
       "      <td>0</td>\n",
       "      <td>0</td>\n",
       "      <td>0</td>\n",
       "      <td>1</td>\n",
       "      <td>0</td>\n",
       "      <td>0</td>\n",
       "    </tr>\n",
       "  </tbody>\n",
       "</table>\n",
       "</div>"
      ],
      "text/plain": [
       "   Age  Attrition  DailyRate  DistanceFromHome  Education  EmployeeCount  \\\n",
       "0   41          0       1102                 1          2              1   \n",
       "1   49          0        279                 8          1              1   \n",
       "2   37          1       1373                 2          2              1   \n",
       "3   33          0       1392                 3          4              1   \n",
       "4   27          0        591                 2          1              1   \n",
       "\n",
       "   EnvironmentSatisfaction  Gender  HourlyRate  JobInvolvement  JobLevel  \\\n",
       "0                        2       1          94               3         2   \n",
       "1                        3       0          61               2         2   \n",
       "2                        4       0          92               2         1   \n",
       "3                        4       1          56               3         1   \n",
       "4                        1       0          40               3         1   \n",
       "\n",
       "  JobRole  JobSatisfaction MaritalStatus  MonthlyIncome  MonthlyRate  \\\n",
       "0   Nurse                4        Single           5993        19479   \n",
       "1   Other                2       Married           5130        24907   \n",
       "2   Nurse                3        Single           2090         2396   \n",
       "3   Other                3       Married           2909        23159   \n",
       "4   Nurse                2       Married           3468        16632   \n",
       "\n",
       "   NumCompaniesWorked Over18 OverTime  PercentSalaryHike  PerformanceRating  \\\n",
       "0                   8      Y      Yes                 11                  3   \n",
       "1                   1      Y       No                 23                  4   \n",
       "2                   6      Y      Yes                 15                  3   \n",
       "3                   1      Y      Yes                 11                  3   \n",
       "4                   9      Y       No                 12                  3   \n",
       "\n",
       "   RelationshipSatisfaction  StandardHours  Shift  TotalWorkingYears  \\\n",
       "0                         1             80      0                  8   \n",
       "1                         4             80      1                 10   \n",
       "2                         2             80      0                  7   \n",
       "3                         3             80      0                  8   \n",
       "4                         4             80      1                  6   \n",
       "\n",
       "   TrainingTimesLastYear  WorkLifeBalance  YearsAtCompany  YearsInCurrentRole  \\\n",
       "0                      0                1               6                   4   \n",
       "1                      3                3              10                   7   \n",
       "2                      3                3               0                   0   \n",
       "3                      3                3               8                   7   \n",
       "4                      3                3               2                   2   \n",
       "\n",
       "   YearsSinceLastPromotion  YearsWithCurrManager  Travel_Frequently  \\\n",
       "0                        0                     5                  0   \n",
       "1                        1                     7                  1   \n",
       "2                        0                     0                  0   \n",
       "3                        3                     0                  1   \n",
       "4                        2                     2                  0   \n",
       "\n",
       "   Travel_Rarely  Maternity  Neurology  Life Sciences  Marketing  Medical  \\\n",
       "0              1          0          0              1          0        0   \n",
       "1              0          1          0              1          0        0   \n",
       "2              1          1          0              0          0        0   \n",
       "3              0          1          0              1          0        0   \n",
       "4              1          1          0              0          0        1   \n",
       "\n",
       "   Other  Technical Degree  \n",
       "0      0                 0  \n",
       "1      0                 0  \n",
       "2      1                 0  \n",
       "3      0                 0  \n",
       "4      0                 0  "
      ]
     },
     "execution_count": 300,
     "metadata": {},
     "output_type": "execute_result"
    }
   ],
   "source": [
    "df.head()"
   ]
  },
  {
   "cell_type": "code",
   "execution_count": 301,
   "id": "7bb70047",
   "metadata": {},
   "outputs": [
    {
     "data": {
      "text/plain": [
       "<AxesSubplot:xlabel='JobInvolvement', ylabel='Density'>"
      ]
     },
     "execution_count": 301,
     "metadata": {},
     "output_type": "execute_result"
    },
    {
     "data": {
      "image/png": "[encoded data removed]",
      "text/plain": [
       "<Figure size 432x288 with 1 Axes>"
      ]
     },
     "metadata": {
      "needs_background": "light"
     },
     "output_type": "display_data"
    }
   ],
   "source": [
    "sns.distplot(df['JobInvolvement'])"
   ]
  },
  {
   "cell_type": "code",
   "execution_count": 302,
   "id": "1477fbb1",
   "metadata": {},
   "outputs": [
    {
     "data": {
      "text/plain": [
       "<AxesSubplot:xlabel='JobLevel', ylabel='Density'>"
      ]
     },
     "execution_count": 302,
     "metadata": {},
     "output_type": "execute_result"
    },
    {
     "data": {
      "image/png": "[encoded data removed]",
      "text/plain": [
       "<Figure size 432x288 with 1 Axes>"
      ]
     },
     "metadata": {
      "needs_background": "light"
     },
     "output_type": "display_data"
    }
   ],
   "source": [
    "sns.distplot(df['JobLevel'])"
   ]
  },
  {
   "cell_type": "code",
   "execution_count": 303,
   "id": "b829f276",
   "metadata": {},
   "outputs": [
    {
     "data": {
      "text/plain": [
       "array(['Nurse', 'Other', 'Therapist', 'Administrative', 'Admin'],\n",
       "      dtype=object)"
      ]
     },
     "execution_count": 303,
     "metadata": {},
     "output_type": "execute_result"
    }
   ],
   "source": [
    "df['JobRole'].unique()"
   ]
  },
  {
   "cell_type": "code",
   "execution_count": 304,
   "id": "55fd0dfc",
   "metadata": {},
   "outputs": [],
   "source": [
    "JobRole=pd.get_dummies(df['JobRole'],drop_first=True)"
   ]
  },
  {
   "cell_type": "code",
   "execution_count": 305,
   "id": "e45f6bfa",
   "metadata": {},
   "outputs": [],
   "source": [
    "df=pd.concat([df,JobRole],axis=1)\n",
    "df.drop('JobRole',axis=1,inplace=True)"
   ]
  },
  {
   "cell_type": "code",
   "execution_count": 306,
   "id": "0ceccaa7",
   "metadata": {},
   "outputs": [
    {
     "data": {
      "text/html": [
       "<div>\n",
       "<style scoped>\n",
       "    .dataframe tbody tr th:only-of-type {\n",
       "        vertical-align: middle;\n",
       "    }\n",
       "\n",
       "    .dataframe tbody tr th {\n",
       "        vertical-align: top;\n",
       "    }\n",
       "\n",
       "    .dataframe thead th {\n",
       "        text-align: right;\n",
       "    }\n",
       "</style>\n",
       "<table border=\"1\" class=\"dataframe\">\n",
       "  <thead>\n",
       "    <tr style=\"text-align: right;\">\n",
       "      <th></th>\n",
       "      <th>Age</th>\n",
       "      <th>Attrition</th>\n",
       "      <th>DailyRate</th>\n",
       "      <th>DistanceFromHome</th>\n",
       "      <th>Education</th>\n",
       "      <th>EmployeeCount</th>\n",
       "      <th>EnvironmentSatisfaction</th>\n",
       "      <th>Gender</th>\n",
       "      <th>HourlyRate</th>\n",
       "      <th>JobInvolvement</th>\n",
       "      <th>JobLevel</th>\n",
       "      <th>JobSatisfaction</th>\n",
       "      <th>MaritalStatus</th>\n",
       "      <th>MonthlyIncome</th>\n",
       "      <th>MonthlyRate</th>\n",
       "      <th>NumCompaniesWorked</th>\n",
       "      <th>Over18</th>\n",
       "      <th>OverTime</th>\n",
       "      <th>PercentSalaryHike</th>\n",
       "      <th>PerformanceRating</th>\n",
       "      <th>RelationshipSatisfaction</th>\n",
       "      <th>StandardHours</th>\n",
       "      <th>Shift</th>\n",
       "      <th>TotalWorkingYears</th>\n",
       "      <th>TrainingTimesLastYear</th>\n",
       "      <th>WorkLifeBalance</th>\n",
       "      <th>YearsAtCompany</th>\n",
       "      <th>YearsInCurrentRole</th>\n",
       "      <th>YearsSinceLastPromotion</th>\n",
       "      <th>YearsWithCurrManager</th>\n",
       "      <th>Travel_Frequently</th>\n",
       "      <th>Travel_Rarely</th>\n",
       "      <th>Maternity</th>\n",
       "      <th>Neurology</th>\n",
       "      <th>Life Sciences</th>\n",
       "      <th>Marketing</th>\n",
       "      <th>Medical</th>\n",
       "      <th>Other</th>\n",
       "      <th>Technical Degree</th>\n",
       "      <th>Administrative</th>\n",
       "      <th>Nurse</th>\n",
       "      <th>Other</th>\n",
       "      <th>Therapist</th>\n",
       "    </tr>\n",
       "  </thead>\n",
       "  <tbody>\n",
       "    <tr>\n",
       "      <th>0</th>\n",
       "      <td>41</td>\n",
       "      <td>0</td>\n",
       "      <td>1102</td>\n",
       "      <td>1</td>\n",
       "      <td>2</td>\n",
       "      <td>1</td>\n",
       "      <td>2</td>\n",
       "      <td>1</td>\n",
       "      <td>94</td>\n",
       "      <td>3</td>\n",
       "      <td>2</td>\n",
       "      <td>4</td>\n",
       "      <td>Single</td>\n",
       "      <td>5993</td>\n",
       "      <td>19479</td>\n",
       "      <td>8</td>\n",
       "      <td>Y</td>\n",
       "      <td>Yes</td>\n",
       "      <td>11</td>\n",
       "      <td>3</td>\n",
       "      <td>1</td>\n",
       "      <td>80</td>\n",
       "      <td>0</td>\n",
       "      <td>8</td>\n",
       "      <td>0</td>\n",
       "      <td>1</td>\n",
       "      <td>6</td>\n",
       "      <td>4</td>\n",
       "      <td>0</td>\n",
       "      <td>5</td>\n",
       "      <td>0</td>\n",
       "      <td>1</td>\n",
       "      <td>0</td>\n",
       "      <td>0</td>\n",
       "      <td>1</td>\n",
       "      <td>0</td>\n",
       "      <td>0</td>\n",
       "      <td>0</td>\n",
       "      <td>0</td>\n",
       "      <td>0</td>\n",
       "      <td>1</td>\n",
       "      <td>0</td>\n",
       "      <td>0</td>\n",
       "    </tr>\n",
       "    <tr>\n",
       "      <th>1</th>\n",
       "      <td>49</td>\n",
       "      <td>0</td>\n",
       "      <td>279</td>\n",
       "      <td>8</td>\n",
       "      <td>1</td>\n",
       "      <td>1</td>\n",
       "      <td>3</td>\n",
       "      <td>0</td>\n",
       "      <td>61</td>\n",
       "      <td>2</td>\n",
       "      <td>2</td>\n",
       "      <td>2</td>\n",
       "      <td>Married</td>\n",
       "      <td>5130</td>\n",
       "      <td>24907</td>\n",
       "      <td>1</td>\n",
       "      <td>Y</td>\n",
       "      <td>No</td>\n",
       "      <td>23</td>\n",
       "      <td>4</td>\n",
       "      <td>4</td>\n",
       "      <td>80</td>\n",
       "      <td>1</td>\n",
       "      <td>10</td>\n",
       "      <td>3</td>\n",
       "      <td>3</td>\n",
       "      <td>10</td>\n",
       "      <td>7</td>\n",
       "      <td>1</td>\n",
       "      <td>7</td>\n",
       "      <td>1</td>\n",
       "      <td>0</td>\n",
       "      <td>1</td>\n",
       "      <td>0</td>\n",
       "      <td>1</td>\n",
       "      <td>0</td>\n",
       "      <td>0</td>\n",
       "      <td>0</td>\n",
       "      <td>0</td>\n",
       "      <td>0</td>\n",
       "      <td>0</td>\n",
       "      <td>1</td>\n",
       "      <td>0</td>\n",
       "    </tr>\n",
       "    <tr>\n",
       "      <th>2</th>\n",
       "      <td>37</td>\n",
       "      <td>1</td>\n",
       "      <td>1373</td>\n",
       "      <td>2</td>\n",
       "      <td>2</td>\n",
       "      <td>1</td>\n",
       "      <td>4</td>\n",
       "      <td>0</td>\n",
       "      <td>92</td>\n",
       "      <td>2</td>\n",
       "      <td>1</td>\n",
       "      <td>3</td>\n",
       "      <td>Single</td>\n",
       "      <td>2090</td>\n",
       "      <td>2396</td>\n",
       "      <td>6</td>\n",
       "      <td>Y</td>\n",
       "      <td>Yes</td>\n",
       "      <td>15</td>\n",
       "      <td>3</td>\n",
       "      <td>2</td>\n",
       "      <td>80</td>\n",
       "      <td>0</td>\n",
       "      <td>7</td>\n",
       "      <td>3</td>\n",
       "      <td>3</td>\n",
       "      <td>0</td>\n",
       "      <td>0</td>\n",
       "      <td>0</td>\n",
       "      <td>0</td>\n",
       "      <td>0</td>\n",
       "      <td>1</td>\n",
       "      <td>1</td>\n",
       "      <td>0</td>\n",
       "      <td>0</td>\n",
       "      <td>0</td>\n",
       "      <td>0</td>\n",
       "      <td>1</td>\n",
       "      <td>0</td>\n",
       "      <td>0</td>\n",
       "      <td>1</td>\n",
       "      <td>0</td>\n",
       "      <td>0</td>\n",
       "    </tr>\n",
       "    <tr>\n",
       "      <th>3</th>\n",
       "      <td>33</td>\n",
       "      <td>0</td>\n",
       "      <td>1392</td>\n",
       "      <td>3</td>\n",
       "      <td>4</td>\n",
       "      <td>1</td>\n",
       "      <td>4</td>\n",
       "      <td>1</td>\n",
       "      <td>56</td>\n",
       "      <td>3</td>\n",
       "      <td>1</td>\n",
       "      <td>3</td>\n",
       "      <td>Married</td>\n",
       "      <td>2909</td>\n",
       "      <td>23159</td>\n",
       "      <td>1</td>\n",
       "      <td>Y</td>\n",
       "      <td>Yes</td>\n",
       "      <td>11</td>\n",
       "      <td>3</td>\n",
       "      <td>3</td>\n",
       "      <td>80</td>\n",
       "      <td>0</td>\n",
       "      <td>8</td>\n",
       "      <td>3</td>\n",
       "      <td>3</td>\n",
       "      <td>8</td>\n",
       "      <td>7</td>\n",
       "      <td>3</td>\n",
       "      <td>0</td>\n",
       "      <td>1</td>\n",
       "      <td>0</td>\n",
       "      <td>1</td>\n",
       "      <td>0</td>\n",
       "      <td>1</td>\n",
       "      <td>0</td>\n",
       "      <td>0</td>\n",
       "      <td>0</td>\n",
       "      <td>0</td>\n",
       "      <td>0</td>\n",
       "      <td>0</td>\n",
       "      <td>1</td>\n",
       "      <td>0</td>\n",
       "    </tr>\n",
       "    <tr>\n",
       "      <th>4</th>\n",
       "      <td>27</td>\n",
       "      <td>0</td>\n",
       "      <td>591</td>\n",
       "      <td>2</td>\n",
       "      <td>1</td>\n",
       "      <td>1</td>\n",
       "      <td>1</td>\n",
       "      <td>0</td>\n",
       "      <td>40</td>\n",
       "      <td>3</td>\n",
       "      <td>1</td>\n",
       "      <td>2</td>\n",
       "      <td>Married</td>\n",
       "      <td>3468</td>\n",
       "      <td>16632</td>\n",
       "      <td>9</td>\n",
       "      <td>Y</td>\n",
       "      <td>No</td>\n",
       "      <td>12</td>\n",
       "      <td>3</td>\n",
       "      <td>4</td>\n",
       "      <td>80</td>\n",
       "      <td>1</td>\n",
       "      <td>6</td>\n",
       "      <td>3</td>\n",
       "      <td>3</td>\n",
       "      <td>2</td>\n",
       "      <td>2</td>\n",
       "      <td>2</td>\n",
       "      <td>2</td>\n",
       "      <td>0</td>\n",
       "      <td>1</td>\n",
       "      <td>1</td>\n",
       "      <td>0</td>\n",
       "      <td>0</td>\n",
       "      <td>0</td>\n",
       "      <td>1</td>\n",
       "      <td>0</td>\n",
       "      <td>0</td>\n",
       "      <td>0</td>\n",
       "      <td>1</td>\n",
       "      <td>0</td>\n",
       "      <td>0</td>\n",
       "    </tr>\n",
       "  </tbody>\n",
       "</table>\n",
       "</div>"
      ],
      "text/plain": [
       "   Age  Attrition  DailyRate  DistanceFromHome  Education  EmployeeCount  \\\n",
       "0   41          0       1102                 1          2              1   \n",
       "1   49          0        279                 8          1              1   \n",
       "2   37          1       1373                 2          2              1   \n",
       "3   33          0       1392                 3          4              1   \n",
       "4   27          0        591                 2          1              1   \n",
       "\n",
       "   EnvironmentSatisfaction  Gender  HourlyRate  JobInvolvement  JobLevel  \\\n",
       "0                        2       1          94               3         2   \n",
       "1                        3       0          61               2         2   \n",
       "2                        4       0          92               2         1   \n",
       "3                        4       1          56               3         1   \n",
       "4                        1       0          40               3         1   \n",
       "\n",
       "   JobSatisfaction MaritalStatus  MonthlyIncome  MonthlyRate  \\\n",
       "0                4        Single           5993        19479   \n",
       "1                2       Married           5130        24907   \n",
       "2                3        Single           2090         2396   \n",
       "3                3       Married           2909        23159   \n",
       "4                2       Married           3468        16632   \n",
       "\n",
       "   NumCompaniesWorked Over18 OverTime  PercentSalaryHike  PerformanceRating  \\\n",
       "0                   8      Y      Yes                 11                  3   \n",
       "1                   1      Y       No                 23                  4   \n",
       "2                   6      Y      Yes                 15                  3   \n",
       "3                   1      Y      Yes                 11                  3   \n",
       "4                   9      Y       No                 12                  3   \n",
       "\n",
       "   RelationshipSatisfaction  StandardHours  Shift  TotalWorkingYears  \\\n",
       "0                         1             80      0                  8   \n",
       "1                         4             80      1                 10   \n",
       "2                         2             80      0                  7   \n",
       "3                         3             80      0                  8   \n",
       "4                         4             80      1                  6   \n",
       "\n",
       "   TrainingTimesLastYear  WorkLifeBalance  YearsAtCompany  YearsInCurrentRole  \\\n",
       "0                      0                1               6                   4   \n",
       "1                      3                3              10                   7   \n",
       "2                      3                3               0                   0   \n",
       "3                      3                3               8                   7   \n",
       "4                      3                3               2                   2   \n",
       "\n",
       "   YearsSinceLastPromotion  YearsWithCurrManager  Travel_Frequently  \\\n",
       "0                        0                     5                  0   \n",
       "1                        1                     7                  1   \n",
       "2                        0                     0                  0   \n",
       "3                        3                     0                  1   \n",
       "4                        2                     2                  0   \n",
       "\n",
       "   Travel_Rarely  Maternity  Neurology  Life Sciences  Marketing  Medical  \\\n",
       "0              1          0          0              1          0        0   \n",
       "1              0          1          0              1          0        0   \n",
       "2              1          1          0              0          0        0   \n",
       "3              0          1          0              1          0        0   \n",
       "4              1          1          0              0          0        1   \n",
       "\n",
       "   Other  Technical Degree  Administrative  Nurse  Other  Therapist  \n",
       "0      0                 0               0      1      0          0  \n",
       "1      0                 0               0      0      1          0  \n",
       "2      1                 0               0      1      0          0  \n",
       "3      0                 0               0      0      1          0  \n",
       "4      0                 0               0      1      0          0  "
      ]
     },
     "execution_count": 306,
     "metadata": {},
     "output_type": "execute_result"
    }
   ],
   "source": [
    "df.head()"
   ]
  },
  {
   "cell_type": "code",
   "execution_count": 307,
   "id": "fb50d10b",
   "metadata": {},
   "outputs": [
    {
     "data": {
      "text/plain": [
       "<AxesSubplot:xlabel='HourlyRate', ylabel='Density'>"
      ]
     },
     "execution_count": 307,
     "metadata": {},
     "output_type": "execute_result"
    },
    {
     "data": {
      "image/png": "[encoded data removed]",
      "text/plain": [
       "<Figure size 432x288 with 1 Axes>"
      ]
     },
     "metadata": {
      "needs_background": "light"
     },
     "output_type": "display_data"
    }
   ],
   "source": [
    "sns.distplot(df['HourlyRate'])"
   ]
  },
  {
   "cell_type": "code",
   "execution_count": 308,
   "id": "6c998f30",
   "metadata": {},
   "outputs": [
    {
     "data": {
      "text/plain": [
       "<AxesSubplot:xlabel='JobInvolvement', ylabel='Density'>"
      ]
     },
     "execution_count": 308,
     "metadata": {},
     "output_type": "execute_result"
    },
    {
     "data": {
      "image/png": "[encoded data removed]",
      "text/plain": [
       "<Figure size 432x288 with 1 Axes>"
      ]
     },
     "metadata": {
      "needs_background": "light"
     },
     "output_type": "display_data"
    }
   ],
   "source": [
    "sns.distplot(df['JobInvolvement'])"
   ]
  },
  {
   "cell_type": "code",
   "execution_count": 309,
   "id": "28ae8970",
   "metadata": {},
   "outputs": [
    {
     "data": {
      "text/plain": [
       "<AxesSubplot:xlabel='JobLevel', ylabel='Density'>"
      ]
     },
     "execution_count": 309,
     "metadata": {},
     "output_type": "execute_result"
    },
    {
     "data": {
      "image/png": "[encoded data removed]",
      "text/plain": [
       "<Figure size 432x288 with 1 Axes>"
      ]
     },
     "metadata": {
      "needs_background": "light"
     },
     "output_type": "display_data"
    }
   ],
   "source": [
    "sns.distplot(df['JobLevel'])"
   ]
  },
  {
   "cell_type": "code",
   "execution_count": 310,
   "id": "9525dedb",
   "metadata": {},
   "outputs": [
    {
     "data": {
      "text/plain": [
       "<AxesSubplot:xlabel='JobSatisfaction', ylabel='Density'>"
      ]
     },
     "execution_count": 310,
     "metadata": {},
     "output_type": "execute_result"
    },
    {
     "data": {
      "image/png": "[encoded data removed]",
      "text/plain": [
       "<Figure size 432x288 with 1 Axes>"
      ]
     },
     "metadata": {
      "needs_background": "light"
     },
     "output_type": "display_data"
    }
   ],
   "source": [
    "sns.distplot(df['JobSatisfaction'])"
   ]
  },
  {
   "cell_type": "code",
   "execution_count": 311,
   "id": "823be262",
   "metadata": {},
   "outputs": [
    {
     "data": {
      "text/plain": [
       "array(['Single', 'Married', 'Divorced'], dtype=object)"
      ]
     },
     "execution_count": 311,
     "metadata": {},
     "output_type": "execute_result"
    }
   ],
   "source": [
    "df['MaritalStatus'].unique()"
   ]
  },
  {
   "cell_type": "code",
   "execution_count": 312,
   "id": "e1c080a3",
   "metadata": {},
   "outputs": [],
   "source": [
    "MaritalStatus=pd.get_dummies(df['MaritalStatus'])"
   ]
  },
  {
   "cell_type": "code",
   "execution_count": 313,
   "id": "8c67f81b",
   "metadata": {},
   "outputs": [],
   "source": [
    "df=pd.concat([df,MaritalStatus],axis=1)\n",
    "df.drop('MaritalStatus',axis=1,inplace=True)"
   ]
  },
  {
   "cell_type": "code",
   "execution_count": 314,
   "id": "b0c361df",
   "metadata": {},
   "outputs": [
    {
     "data": {
      "text/html": [
       "<div>\n",
       "<style scoped>\n",
       "    .dataframe tbody tr th:only-of-type {\n",
       "        vertical-align: middle;\n",
       "    }\n",
       "\n",
       "    .dataframe tbody tr th {\n",
       "        vertical-align: top;\n",
       "    }\n",
       "\n",
       "    .dataframe thead th {\n",
       "        text-align: right;\n",
       "    }\n",
       "</style>\n",
       "<table border=\"1\" class=\"dataframe\">\n",
       "  <thead>\n",
       "    <tr style=\"text-align: right;\">\n",
       "      <th></th>\n",
       "      <th>Age</th>\n",
       "      <th>Attrition</th>\n",
       "      <th>DailyRate</th>\n",
       "      <th>DistanceFromHome</th>\n",
       "      <th>Education</th>\n",
       "      <th>EmployeeCount</th>\n",
       "      <th>EnvironmentSatisfaction</th>\n",
       "      <th>Gender</th>\n",
       "      <th>HourlyRate</th>\n",
       "      <th>JobInvolvement</th>\n",
       "      <th>JobLevel</th>\n",
       "      <th>JobSatisfaction</th>\n",
       "      <th>MonthlyIncome</th>\n",
       "      <th>MonthlyRate</th>\n",
       "      <th>NumCompaniesWorked</th>\n",
       "      <th>Over18</th>\n",
       "      <th>OverTime</th>\n",
       "      <th>PercentSalaryHike</th>\n",
       "      <th>PerformanceRating</th>\n",
       "      <th>RelationshipSatisfaction</th>\n",
       "      <th>StandardHours</th>\n",
       "      <th>Shift</th>\n",
       "      <th>TotalWorkingYears</th>\n",
       "      <th>TrainingTimesLastYear</th>\n",
       "      <th>WorkLifeBalance</th>\n",
       "      <th>YearsAtCompany</th>\n",
       "      <th>YearsInCurrentRole</th>\n",
       "      <th>YearsSinceLastPromotion</th>\n",
       "      <th>YearsWithCurrManager</th>\n",
       "      <th>Travel_Frequently</th>\n",
       "      <th>Travel_Rarely</th>\n",
       "      <th>Maternity</th>\n",
       "      <th>Neurology</th>\n",
       "      <th>Life Sciences</th>\n",
       "      <th>Marketing</th>\n",
       "      <th>Medical</th>\n",
       "      <th>Other</th>\n",
       "      <th>Technical Degree</th>\n",
       "      <th>Administrative</th>\n",
       "      <th>Nurse</th>\n",
       "      <th>Other</th>\n",
       "      <th>Therapist</th>\n",
       "      <th>Divorced</th>\n",
       "      <th>Married</th>\n",
       "      <th>Single</th>\n",
       "    </tr>\n",
       "  </thead>\n",
       "  <tbody>\n",
       "    <tr>\n",
       "      <th>0</th>\n",
       "      <td>41</td>\n",
       "      <td>0</td>\n",
       "      <td>1102</td>\n",
       "      <td>1</td>\n",
       "      <td>2</td>\n",
       "      <td>1</td>\n",
       "      <td>2</td>\n",
       "      <td>1</td>\n",
       "      <td>94</td>\n",
       "      <td>3</td>\n",
       "      <td>2</td>\n",
       "      <td>4</td>\n",
       "      <td>5993</td>\n",
       "      <td>19479</td>\n",
       "      <td>8</td>\n",
       "      <td>Y</td>\n",
       "      <td>Yes</td>\n",
       "      <td>11</td>\n",
       "      <td>3</td>\n",
       "      <td>1</td>\n",
       "      <td>80</td>\n",
       "      <td>0</td>\n",
       "      <td>8</td>\n",
       "      <td>0</td>\n",
       "      <td>1</td>\n",
       "      <td>6</td>\n",
       "      <td>4</td>\n",
       "      <td>0</td>\n",
       "      <td>5</td>\n",
       "      <td>0</td>\n",
       "      <td>1</td>\n",
       "      <td>0</td>\n",
       "      <td>0</td>\n",
       "      <td>1</td>\n",
       "      <td>0</td>\n",
       "      <td>0</td>\n",
       "      <td>0</td>\n",
       "      <td>0</td>\n",
       "      <td>0</td>\n",
       "      <td>1</td>\n",
       "      <td>0</td>\n",
       "      <td>0</td>\n",
       "      <td>0</td>\n",
       "      <td>0</td>\n",
       "      <td>1</td>\n",
       "    </tr>\n",
       "    <tr>\n",
       "      <th>1</th>\n",
       "      <td>49</td>\n",
       "      <td>0</td>\n",
       "      <td>279</td>\n",
       "      <td>8</td>\n",
       "      <td>1</td>\n",
       "      <td>1</td>\n",
       "      <td>3</td>\n",
       "      <td>0</td>\n",
       "      <td>61</td>\n",
       "      <td>2</td>\n",
       "      <td>2</td>\n",
       "      <td>2</td>\n",
       "      <td>5130</td>\n",
       "      <td>24907</td>\n",
       "      <td>1</td>\n",
       "      <td>Y</td>\n",
       "      <td>No</td>\n",
       "      <td>23</td>\n",
       "      <td>4</td>\n",
       "      <td>4</td>\n",
       "      <td>80</td>\n",
       "      <td>1</td>\n",
       "      <td>10</td>\n",
       "      <td>3</td>\n",
       "      <td>3</td>\n",
       "      <td>10</td>\n",
       "      <td>7</td>\n",
       "      <td>1</td>\n",
       "      <td>7</td>\n",
       "      <td>1</td>\n",
       "      <td>0</td>\n",
       "      <td>1</td>\n",
       "      <td>0</td>\n",
       "      <td>1</td>\n",
       "      <td>0</td>\n",
       "      <td>0</td>\n",
       "      <td>0</td>\n",
       "      <td>0</td>\n",
       "      <td>0</td>\n",
       "      <td>0</td>\n",
       "      <td>1</td>\n",
       "      <td>0</td>\n",
       "      <td>0</td>\n",
       "      <td>1</td>\n",
       "      <td>0</td>\n",
       "    </tr>\n",
       "    <tr>\n",
       "      <th>2</th>\n",
       "      <td>37</td>\n",
       "      <td>1</td>\n",
       "      <td>1373</td>\n",
       "      <td>2</td>\n",
       "      <td>2</td>\n",
       "      <td>1</td>\n",
       "      <td>4</td>\n",
       "      <td>0</td>\n",
       "      <td>92</td>\n",
       "      <td>2</td>\n",
       "      <td>1</td>\n",
       "      <td>3</td>\n",
       "      <td>2090</td>\n",
       "      <td>2396</td>\n",
       "      <td>6</td>\n",
       "      <td>Y</td>\n",
       "      <td>Yes</td>\n",
       "      <td>15</td>\n",
       "      <td>3</td>\n",
       "      <td>2</td>\n",
       "      <td>80</td>\n",
       "      <td>0</td>\n",
       "      <td>7</td>\n",
       "      <td>3</td>\n",
       "      <td>3</td>\n",
       "      <td>0</td>\n",
       "      <td>0</td>\n",
       "      <td>0</td>\n",
       "      <td>0</td>\n",
       "      <td>0</td>\n",
       "      <td>1</td>\n",
       "      <td>1</td>\n",
       "      <td>0</td>\n",
       "      <td>0</td>\n",
       "      <td>0</td>\n",
       "      <td>0</td>\n",
       "      <td>1</td>\n",
       "      <td>0</td>\n",
       "      <td>0</td>\n",
       "      <td>1</td>\n",
       "      <td>0</td>\n",
       "      <td>0</td>\n",
       "      <td>0</td>\n",
       "      <td>0</td>\n",
       "      <td>1</td>\n",
       "    </tr>\n",
       "    <tr>\n",
       "      <th>3</th>\n",
       "      <td>33</td>\n",
       "      <td>0</td>\n",
       "      <td>1392</td>\n",
       "      <td>3</td>\n",
       "      <td>4</td>\n",
       "      <td>1</td>\n",
       "      <td>4</td>\n",
       "      <td>1</td>\n",
       "      <td>56</td>\n",
       "      <td>3</td>\n",
       "      <td>1</td>\n",
       "      <td>3</td>\n",
       "      <td>2909</td>\n",
       "      <td>23159</td>\n",
       "      <td>1</td>\n",
       "      <td>Y</td>\n",
       "      <td>Yes</td>\n",
       "      <td>11</td>\n",
       "      <td>3</td>\n",
       "      <td>3</td>\n",
       "      <td>80</td>\n",
       "      <td>0</td>\n",
       "      <td>8</td>\n",
       "      <td>3</td>\n",
       "      <td>3</td>\n",
       "      <td>8</td>\n",
       "      <td>7</td>\n",
       "      <td>3</td>\n",
       "      <td>0</td>\n",
       "      <td>1</td>\n",
       "      <td>0</td>\n",
       "      <td>1</td>\n",
       "      <td>0</td>\n",
       "      <td>1</td>\n",
       "      <td>0</td>\n",
       "      <td>0</td>\n",
       "      <td>0</td>\n",
       "      <td>0</td>\n",
       "      <td>0</td>\n",
       "      <td>0</td>\n",
       "      <td>1</td>\n",
       "      <td>0</td>\n",
       "      <td>0</td>\n",
       "      <td>1</td>\n",
       "      <td>0</td>\n",
       "    </tr>\n",
       "    <tr>\n",
       "      <th>4</th>\n",
       "      <td>27</td>\n",
       "      <td>0</td>\n",
       "      <td>591</td>\n",
       "      <td>2</td>\n",
       "      <td>1</td>\n",
       "      <td>1</td>\n",
       "      <td>1</td>\n",
       "      <td>0</td>\n",
       "      <td>40</td>\n",
       "      <td>3</td>\n",
       "      <td>1</td>\n",
       "      <td>2</td>\n",
       "      <td>3468</td>\n",
       "      <td>16632</td>\n",
       "      <td>9</td>\n",
       "      <td>Y</td>\n",
       "      <td>No</td>\n",
       "      <td>12</td>\n",
       "      <td>3</td>\n",
       "      <td>4</td>\n",
       "      <td>80</td>\n",
       "      <td>1</td>\n",
       "      <td>6</td>\n",
       "      <td>3</td>\n",
       "      <td>3</td>\n",
       "      <td>2</td>\n",
       "      <td>2</td>\n",
       "      <td>2</td>\n",
       "      <td>2</td>\n",
       "      <td>0</td>\n",
       "      <td>1</td>\n",
       "      <td>1</td>\n",
       "      <td>0</td>\n",
       "      <td>0</td>\n",
       "      <td>0</td>\n",
       "      <td>1</td>\n",
       "      <td>0</td>\n",
       "      <td>0</td>\n",
       "      <td>0</td>\n",
       "      <td>1</td>\n",
       "      <td>0</td>\n",
       "      <td>0</td>\n",
       "      <td>0</td>\n",
       "      <td>1</td>\n",
       "      <td>0</td>\n",
       "    </tr>\n",
       "  </tbody>\n",
       "</table>\n",
       "</div>"
      ],
      "text/plain": [
       "   Age  Attrition  DailyRate  DistanceFromHome  Education  EmployeeCount  \\\n",
       "0   41          0       1102                 1          2              1   \n",
       "1   49          0        279                 8          1              1   \n",
       "2   37          1       1373                 2          2              1   \n",
       "3   33          0       1392                 3          4              1   \n",
       "4   27          0        591                 2          1              1   \n",
       "\n",
       "   EnvironmentSatisfaction  Gender  HourlyRate  JobInvolvement  JobLevel  \\\n",
       "0                        2       1          94               3         2   \n",
       "1                        3       0          61               2         2   \n",
       "2                        4       0          92               2         1   \n",
       "3                        4       1          56               3         1   \n",
       "4                        1       0          40               3         1   \n",
       "\n",
       "   JobSatisfaction  MonthlyIncome  MonthlyRate  NumCompaniesWorked Over18  \\\n",
       "0                4           5993        19479                   8      Y   \n",
       "1                2           5130        24907                   1      Y   \n",
       "2                3           2090         2396                   6      Y   \n",
       "3                3           2909        23159                   1      Y   \n",
       "4                2           3468        16632                   9      Y   \n",
       "\n",
       "  OverTime  PercentSalaryHike  PerformanceRating  RelationshipSatisfaction  \\\n",
       "0      Yes                 11                  3                         1   \n",
       "1       No                 23                  4                         4   \n",
       "2      Yes                 15                  3                         2   \n",
       "3      Yes                 11                  3                         3   \n",
       "4       No                 12                  3                         4   \n",
       "\n",
       "   StandardHours  Shift  TotalWorkingYears  TrainingTimesLastYear  \\\n",
       "0             80      0                  8                      0   \n",
       "1             80      1                 10                      3   \n",
       "2             80      0                  7                      3   \n",
       "3             80      0                  8                      3   \n",
       "4             80      1                  6                      3   \n",
       "\n",
       "   WorkLifeBalance  YearsAtCompany  YearsInCurrentRole  \\\n",
       "0                1               6                   4   \n",
       "1                3              10                   7   \n",
       "2                3               0                   0   \n",
       "3                3               8                   7   \n",
       "4                3               2                   2   \n",
       "\n",
       "   YearsSinceLastPromotion  YearsWithCurrManager  Travel_Frequently  \\\n",
       "0                        0                     5                  0   \n",
       "1                        1                     7                  1   \n",
       "2                        0                     0                  0   \n",
       "3                        3                     0                  1   \n",
       "4                        2                     2                  0   \n",
       "\n",
       "   Travel_Rarely  Maternity  Neurology  Life Sciences  Marketing  Medical  \\\n",
       "0              1          0          0              1          0        0   \n",
       "1              0          1          0              1          0        0   \n",
       "2              1          1          0              0          0        0   \n",
       "3              0          1          0              1          0        0   \n",
       "4              1          1          0              0          0        1   \n",
       "\n",
       "   Other  Technical Degree  Administrative  Nurse  Other  Therapist  Divorced  \\\n",
       "0      0                 0               0      1      0          0         0   \n",
       "1      0                 0               0      0      1          0         0   \n",
       "2      1                 0               0      1      0          0         0   \n",
       "3      0                 0               0      0      1          0         0   \n",
       "4      0                 0               0      1      0          0         0   \n",
       "\n",
       "   Married  Single  \n",
       "0        0       1  \n",
       "1        1       0  \n",
       "2        0       1  \n",
       "3        1       0  \n",
       "4        1       0  "
      ]
     },
     "execution_count": 314,
     "metadata": {},
     "output_type": "execute_result"
    }
   ],
   "source": [
    "df.head()"
   ]
  },
  {
   "cell_type": "code",
   "execution_count": 315,
   "id": "be27cf17",
   "metadata": {},
   "outputs": [
    {
     "data": {
      "text/plain": [
       "<AxesSubplot:xlabel='MonthlyIncome', ylabel='Density'>"
      ]
     },
     "execution_count": 315,
     "metadata": {},
     "output_type": "execute_result"
    },
    {
     "data": {
      "image/png": "[encoded data removed]",
      "text/plain": [
       "<Figure size 432x288 with 1 Axes>"
      ]
     },
     "metadata": {
      "needs_background": "light"
     },
     "output_type": "display_data"
    }
   ],
   "source": [
    "sns.distplot(df['MonthlyIncome'])"
   ]
  },
  {
   "cell_type": "code",
   "execution_count": 316,
   "id": "1a865592",
   "metadata": {},
   "outputs": [
    {
     "data": {
      "text/plain": [
       "<AxesSubplot:xlabel='MonthlyRate', ylabel='Density'>"
      ]
     },
     "execution_count": 316,
     "metadata": {},
     "output_type": "execute_result"
    },
    {
     "data": {
      "image/png": "[encoded data removed]",
      "text/plain": [
       "<Figure size 432x288 with 1 Axes>"
      ]
     },
     "metadata": {
      "needs_background": "light"
     },
     "output_type": "display_data"
    }
   ],
   "source": [
    "sns.distplot(df['MonthlyRate'])"
   ]
  },
  {
   "cell_type": "code",
   "execution_count": 317,
   "id": "2338494c",
   "metadata": {},
   "outputs": [
    {
     "data": {
      "text/plain": [
       "<AxesSubplot:xlabel='NumCompaniesWorked', ylabel='Density'>"
      ]
     },
     "execution_count": 317,
     "metadata": {},
     "output_type": "execute_result"
    },
    {
     "data": {
      "image/png": "[encoded data removed]",
      "text/plain": [
       "<Figure size 432x288 with 1 Axes>"
      ]
     },
     "metadata": {
      "needs_background": "light"
     },
     "output_type": "display_data"
    }
   ],
   "source": [
    "sns.distplot(df['NumCompaniesWorked'])"
   ]
  },
  {
   "cell_type": "code",
   "execution_count": 318,
   "id": "4b56a5b4",
   "metadata": {},
   "outputs": [
    {
     "data": {
      "text/plain": [
       "array([8, 1, 6, 9, 0, 4, 5, 2, 7, 3], dtype=int64)"
      ]
     },
     "execution_count": 318,
     "metadata": {},
     "output_type": "execute_result"
    }
   ],
   "source": [
    "df['NumCompaniesWorked'].unique()"
   ]
  },
  {
   "cell_type": "code",
   "execution_count": 319,
   "id": "c8966121",
   "metadata": {},
   "outputs": [
    {
     "data": {
      "text/plain": [
       "array(['Y'], dtype=object)"
      ]
     },
     "execution_count": 319,
     "metadata": {},
     "output_type": "execute_result"
    }
   ],
   "source": [
    "df['Over18'].unique()"
   ]
  },
  {
   "cell_type": "code",
   "execution_count": 320,
   "id": "10a172c6",
   "metadata": {},
   "outputs": [],
   "source": [
    "df.drop('Over18',axis=1,inplace=True)"
   ]
  },
  {
   "cell_type": "code",
   "execution_count": 321,
   "id": "5675ab5c",
   "metadata": {},
   "outputs": [
    {
     "data": {
      "text/plain": [
       "array(['Yes', 'No'], dtype=object)"
      ]
     },
     "execution_count": 321,
     "metadata": {},
     "output_type": "execute_result"
    }
   ],
   "source": [
    "df['OverTime'].unique()"
   ]
  },
  {
   "cell_type": "code",
   "execution_count": 322,
   "id": "2a687445",
   "metadata": {},
   "outputs": [],
   "source": [
    "df['OverTime']=df['OverTime'].map({'Yes':1, 'No':0})"
   ]
  },
  {
   "cell_type": "code",
   "execution_count": 323,
   "id": "f5e2c0d4",
   "metadata": {},
   "outputs": [
    {
     "data": {
      "text/plain": [
       "<AxesSubplot:xlabel='Shift', ylabel='Density'>"
      ]
     },
     "execution_count": 323,
     "metadata": {},
     "output_type": "execute_result"
    },
    {
     "data": {
      "image/png": "[encoded data removed]",
      "text/plain": [
       "<Figure size 432x288 with 1 Axes>"
      ]
     },
     "metadata": {
      "needs_background": "light"
     },
     "output_type": "display_data"
    }
   ],
   "source": [
    "sns.distplot(df['Shift'])"
   ]
  },
  {
   "cell_type": "code",
   "execution_count": 324,
   "id": "ed5bd499",
   "metadata": {},
   "outputs": [
    {
     "data": {
      "text/plain": [
       "Index(['Age', 'Attrition', 'DailyRate', 'DistanceFromHome', 'Education',\n",
       "       'EmployeeCount', 'EnvironmentSatisfaction', 'Gender', 'HourlyRate',\n",
       "       'JobInvolvement', 'JobLevel', 'JobSatisfaction', 'MonthlyIncome',\n",
       "       'MonthlyRate', 'NumCompaniesWorked', 'OverTime', 'PercentSalaryHike',\n",
       "       'PerformanceRating', 'RelationshipSatisfaction', 'StandardHours',\n",
       "       'Shift', 'TotalWorkingYears', 'TrainingTimesLastYear',\n",
       "       'WorkLifeBalance', 'YearsAtCompany', 'YearsInCurrentRole',\n",
       "       'YearsSinceLastPromotion', 'YearsWithCurrManager', 'Travel_Frequently',\n",
       "       'Travel_Rarely', 'Maternity', 'Neurology', 'Life Sciences', 'Marketing',\n",
       "       'Medical', 'Other', 'Technical Degree', 'Administrative', 'Nurse',\n",
       "       'Other', 'Therapist', 'Divorced', 'Married', 'Single'],\n",
       "      dtype='object')"
      ]
     },
     "execution_count": 324,
     "metadata": {},
     "output_type": "execute_result"
    }
   ],
   "source": [
    "df.columns"
   ]
  },
  {
   "cell_type": "code",
   "execution_count": 325,
   "id": "aeb57987",
   "metadata": {},
   "outputs": [],
   "source": [
    "df.drop('EmployeeCount',axis=1,inplace=True)"
   ]
  },
  {
   "cell_type": "code",
   "execution_count": 326,
   "id": "20ef0337",
   "metadata": {
    "scrolled": true
   },
   "outputs": [
    {
     "data": {
      "text/html": [
       "<div>\n",
       "<style scoped>\n",
       "    .dataframe tbody tr th:only-of-type {\n",
       "        vertical-align: middle;\n",
       "    }\n",
       "\n",
       "    .dataframe tbody tr th {\n",
       "        vertical-align: top;\n",
       "    }\n",
       "\n",
       "    .dataframe thead th {\n",
       "        text-align: right;\n",
       "    }\n",
       "</style>\n",
       "<table border=\"1\" class=\"dataframe\">\n",
       "  <thead>\n",
       "    <tr style=\"text-align: right;\">\n",
       "      <th></th>\n",
       "      <th>Age</th>\n",
       "      <th>Attrition</th>\n",
       "      <th>DailyRate</th>\n",
       "      <th>DistanceFromHome</th>\n",
       "      <th>Education</th>\n",
       "      <th>EnvironmentSatisfaction</th>\n",
       "      <th>Gender</th>\n",
       "      <th>HourlyRate</th>\n",
       "      <th>JobInvolvement</th>\n",
       "      <th>JobLevel</th>\n",
       "      <th>JobSatisfaction</th>\n",
       "      <th>MonthlyIncome</th>\n",
       "      <th>MonthlyRate</th>\n",
       "      <th>NumCompaniesWorked</th>\n",
       "      <th>OverTime</th>\n",
       "      <th>PercentSalaryHike</th>\n",
       "      <th>PerformanceRating</th>\n",
       "      <th>RelationshipSatisfaction</th>\n",
       "      <th>StandardHours</th>\n",
       "      <th>Shift</th>\n",
       "      <th>TotalWorkingYears</th>\n",
       "      <th>TrainingTimesLastYear</th>\n",
       "      <th>WorkLifeBalance</th>\n",
       "      <th>YearsAtCompany</th>\n",
       "      <th>YearsInCurrentRole</th>\n",
       "      <th>YearsSinceLastPromotion</th>\n",
       "      <th>YearsWithCurrManager</th>\n",
       "      <th>Travel_Frequently</th>\n",
       "      <th>Travel_Rarely</th>\n",
       "      <th>Maternity</th>\n",
       "      <th>Neurology</th>\n",
       "      <th>Life Sciences</th>\n",
       "      <th>Marketing</th>\n",
       "      <th>Medical</th>\n",
       "      <th>Other</th>\n",
       "      <th>Technical Degree</th>\n",
       "      <th>Administrative</th>\n",
       "      <th>Nurse</th>\n",
       "      <th>Other</th>\n",
       "      <th>Therapist</th>\n",
       "      <th>Divorced</th>\n",
       "      <th>Married</th>\n",
       "      <th>Single</th>\n",
       "    </tr>\n",
       "  </thead>\n",
       "  <tbody>\n",
       "    <tr>\n",
       "      <th>0</th>\n",
       "      <td>41</td>\n",
       "      <td>0</td>\n",
       "      <td>1102</td>\n",
       "      <td>1</td>\n",
       "      <td>2</td>\n",
       "      <td>2</td>\n",
       "      <td>1</td>\n",
       "      <td>94</td>\n",
       "      <td>3</td>\n",
       "      <td>2</td>\n",
       "      <td>4</td>\n",
       "      <td>5993</td>\n",
       "      <td>19479</td>\n",
       "      <td>8</td>\n",
       "      <td>1</td>\n",
       "      <td>11</td>\n",
       "      <td>3</td>\n",
       "      <td>1</td>\n",
       "      <td>80</td>\n",
       "      <td>0</td>\n",
       "      <td>8</td>\n",
       "      <td>0</td>\n",
       "      <td>1</td>\n",
       "      <td>6</td>\n",
       "      <td>4</td>\n",
       "      <td>0</td>\n",
       "      <td>5</td>\n",
       "      <td>0</td>\n",
       "      <td>1</td>\n",
       "      <td>0</td>\n",
       "      <td>0</td>\n",
       "      <td>1</td>\n",
       "      <td>0</td>\n",
       "      <td>0</td>\n",
       "      <td>0</td>\n",
       "      <td>0</td>\n",
       "      <td>0</td>\n",
       "      <td>1</td>\n",
       "      <td>0</td>\n",
       "      <td>0</td>\n",
       "      <td>0</td>\n",
       "      <td>0</td>\n",
       "      <td>1</td>\n",
       "    </tr>\n",
       "    <tr>\n",
       "      <th>1</th>\n",
       "      <td>49</td>\n",
       "      <td>0</td>\n",
       "      <td>279</td>\n",
       "      <td>8</td>\n",
       "      <td>1</td>\n",
       "      <td>3</td>\n",
       "      <td>0</td>\n",
       "      <td>61</td>\n",
       "      <td>2</td>\n",
       "      <td>2</td>\n",
       "      <td>2</td>\n",
       "      <td>5130</td>\n",
       "      <td>24907</td>\n",
       "      <td>1</td>\n",
       "      <td>0</td>\n",
       "      <td>23</td>\n",
       "      <td>4</td>\n",
       "      <td>4</td>\n",
       "      <td>80</td>\n",
       "      <td>1</td>\n",
       "      <td>10</td>\n",
       "      <td>3</td>\n",
       "      <td>3</td>\n",
       "      <td>10</td>\n",
       "      <td>7</td>\n",
       "      <td>1</td>\n",
       "      <td>7</td>\n",
       "      <td>1</td>\n",
       "      <td>0</td>\n",
       "      <td>1</td>\n",
       "      <td>0</td>\n",
       "      <td>1</td>\n",
       "      <td>0</td>\n",
       "      <td>0</td>\n",
       "      <td>0</td>\n",
       "      <td>0</td>\n",
       "      <td>0</td>\n",
       "      <td>0</td>\n",
       "      <td>1</td>\n",
       "      <td>0</td>\n",
       "      <td>0</td>\n",
       "      <td>1</td>\n",
       "      <td>0</td>\n",
       "    </tr>\n",
       "    <tr>\n",
       "      <th>2</th>\n",
       "      <td>37</td>\n",
       "      <td>1</td>\n",
       "      <td>1373</td>\n",
       "      <td>2</td>\n",
       "      <td>2</td>\n",
       "      <td>4</td>\n",
       "      <td>0</td>\n",
       "      <td>92</td>\n",
       "      <td>2</td>\n",
       "      <td>1</td>\n",
       "      <td>3</td>\n",
       "      <td>2090</td>\n",
       "      <td>2396</td>\n",
       "      <td>6</td>\n",
       "      <td>1</td>\n",
       "      <td>15</td>\n",
       "      <td>3</td>\n",
       "      <td>2</td>\n",
       "      <td>80</td>\n",
       "      <td>0</td>\n",
       "      <td>7</td>\n",
       "      <td>3</td>\n",
       "      <td>3</td>\n",
       "      <td>0</td>\n",
       "      <td>0</td>\n",
       "      <td>0</td>\n",
       "      <td>0</td>\n",
       "      <td>0</td>\n",
       "      <td>1</td>\n",
       "      <td>1</td>\n",
       "      <td>0</td>\n",
       "      <td>0</td>\n",
       "      <td>0</td>\n",
       "      <td>0</td>\n",
       "      <td>1</td>\n",
       "      <td>0</td>\n",
       "      <td>0</td>\n",
       "      <td>1</td>\n",
       "      <td>0</td>\n",
       "      <td>0</td>\n",
       "      <td>0</td>\n",
       "      <td>0</td>\n",
       "      <td>1</td>\n",
       "    </tr>\n",
       "    <tr>\n",
       "      <th>3</th>\n",
       "      <td>33</td>\n",
       "      <td>0</td>\n",
       "      <td>1392</td>\n",
       "      <td>3</td>\n",
       "      <td>4</td>\n",
       "      <td>4</td>\n",
       "      <td>1</td>\n",
       "      <td>56</td>\n",
       "      <td>3</td>\n",
       "      <td>1</td>\n",
       "      <td>3</td>\n",
       "      <td>2909</td>\n",
       "      <td>23159</td>\n",
       "      <td>1</td>\n",
       "      <td>1</td>\n",
       "      <td>11</td>\n",
       "      <td>3</td>\n",
       "      <td>3</td>\n",
       "      <td>80</td>\n",
       "      <td>0</td>\n",
       "      <td>8</td>\n",
       "      <td>3</td>\n",
       "      <td>3</td>\n",
       "      <td>8</td>\n",
       "      <td>7</td>\n",
       "      <td>3</td>\n",
       "      <td>0</td>\n",
       "      <td>1</td>\n",
       "      <td>0</td>\n",
       "      <td>1</td>\n",
       "      <td>0</td>\n",
       "      <td>1</td>\n",
       "      <td>0</td>\n",
       "      <td>0</td>\n",
       "      <td>0</td>\n",
       "      <td>0</td>\n",
       "      <td>0</td>\n",
       "      <td>0</td>\n",
       "      <td>1</td>\n",
       "      <td>0</td>\n",
       "      <td>0</td>\n",
       "      <td>1</td>\n",
       "      <td>0</td>\n",
       "    </tr>\n",
       "    <tr>\n",
       "      <th>4</th>\n",
       "      <td>27</td>\n",
       "      <td>0</td>\n",
       "      <td>591</td>\n",
       "      <td>2</td>\n",
       "      <td>1</td>\n",
       "      <td>1</td>\n",
       "      <td>0</td>\n",
       "      <td>40</td>\n",
       "      <td>3</td>\n",
       "      <td>1</td>\n",
       "      <td>2</td>\n",
       "      <td>3468</td>\n",
       "      <td>16632</td>\n",
       "      <td>9</td>\n",
       "      <td>0</td>\n",
       "      <td>12</td>\n",
       "      <td>3</td>\n",
       "      <td>4</td>\n",
       "      <td>80</td>\n",
       "      <td>1</td>\n",
       "      <td>6</td>\n",
       "      <td>3</td>\n",
       "      <td>3</td>\n",
       "      <td>2</td>\n",
       "      <td>2</td>\n",
       "      <td>2</td>\n",
       "      <td>2</td>\n",
       "      <td>0</td>\n",
       "      <td>1</td>\n",
       "      <td>1</td>\n",
       "      <td>0</td>\n",
       "      <td>0</td>\n",
       "      <td>0</td>\n",
       "      <td>1</td>\n",
       "      <td>0</td>\n",
       "      <td>0</td>\n",
       "      <td>0</td>\n",
       "      <td>1</td>\n",
       "      <td>0</td>\n",
       "      <td>0</td>\n",
       "      <td>0</td>\n",
       "      <td>1</td>\n",
       "      <td>0</td>\n",
       "    </tr>\n",
       "  </tbody>\n",
       "</table>\n",
       "</div>"
      ],
      "text/plain": [
       "   Age  Attrition  DailyRate  DistanceFromHome  Education  \\\n",
       "0   41          0       1102                 1          2   \n",
       "1   49          0        279                 8          1   \n",
       "2   37          1       1373                 2          2   \n",
       "3   33          0       1392                 3          4   \n",
       "4   27          0        591                 2          1   \n",
       "\n",
       "   EnvironmentSatisfaction  Gender  HourlyRate  JobInvolvement  JobLevel  \\\n",
       "0                        2       1          94               3         2   \n",
       "1                        3       0          61               2         2   \n",
       "2                        4       0          92               2         1   \n",
       "3                        4       1          56               3         1   \n",
       "4                        1       0          40               3         1   \n",
       "\n",
       "   JobSatisfaction  MonthlyIncome  MonthlyRate  NumCompaniesWorked  OverTime  \\\n",
       "0                4           5993        19479                   8         1   \n",
       "1                2           5130        24907                   1         0   \n",
       "2                3           2090         2396                   6         1   \n",
       "3                3           2909        23159                   1         1   \n",
       "4                2           3468        16632                   9         0   \n",
       "\n",
       "   PercentSalaryHike  PerformanceRating  RelationshipSatisfaction  \\\n",
       "0                 11                  3                         1   \n",
       "1                 23                  4                         4   \n",
       "2                 15                  3                         2   \n",
       "3                 11                  3                         3   \n",
       "4                 12                  3                         4   \n",
       "\n",
       "   StandardHours  Shift  TotalWorkingYears  TrainingTimesLastYear  \\\n",
       "0             80      0                  8                      0   \n",
       "1             80      1                 10                      3   \n",
       "2             80      0                  7                      3   \n",
       "3             80      0                  8                      3   \n",
       "4             80      1                  6                      3   \n",
       "\n",
       "   WorkLifeBalance  YearsAtCompany  YearsInCurrentRole  \\\n",
       "0                1               6                   4   \n",
       "1                3              10                   7   \n",
       "2                3               0                   0   \n",
       "3                3               8                   7   \n",
       "4                3               2                   2   \n",
       "\n",
       "   YearsSinceLastPromotion  YearsWithCurrManager  Travel_Frequently  \\\n",
       "0                        0                     5                  0   \n",
       "1                        1                     7                  1   \n",
       "2                        0                     0                  0   \n",
       "3                        3                     0                  1   \n",
       "4                        2                     2                  0   \n",
       "\n",
       "   Travel_Rarely  Maternity  Neurology  Life Sciences  Marketing  Medical  \\\n",
       "0              1          0          0              1          0        0   \n",
       "1              0          1          0              1          0        0   \n",
       "2              1          1          0              0          0        0   \n",
       "3              0          1          0              1          0        0   \n",
       "4              1          1          0              0          0        1   \n",
       "\n",
       "   Other  Technical Degree  Administrative  Nurse  Other  Therapist  Divorced  \\\n",
       "0      0                 0               0      1      0          0         0   \n",
       "1      0                 0               0      0      1          0         0   \n",
       "2      1                 0               0      1      0          0         0   \n",
       "3      0                 0               0      0      1          0         0   \n",
       "4      0                 0               0      1      0          0         0   \n",
       "\n",
       "   Married  Single  \n",
       "0        0       1  \n",
       "1        1       0  \n",
       "2        0       1  \n",
       "3        1       0  \n",
       "4        1       0  "
      ]
     },
     "execution_count": 326,
     "metadata": {},
     "output_type": "execute_result"
    }
   ],
   "source": [
    "df.head()"
   ]
  },
  {
   "cell_type": "markdown",
   "id": "81d91ecc",
   "metadata": {},
   "source": [
    "## EDA"
   ]
  },
  {
   "cell_type": "code",
   "execution_count": 327,
   "id": "ff2d89cd",
   "metadata": {},
   "outputs": [
    {
     "data": {
      "text/plain": [
       "Index(['Age', 'Attrition', 'DailyRate', 'DistanceFromHome', 'Education',\n",
       "       'EnvironmentSatisfaction', 'Gender', 'HourlyRate', 'JobInvolvement',\n",
       "       'JobLevel', 'JobSatisfaction', 'MonthlyIncome', 'MonthlyRate',\n",
       "       'NumCompaniesWorked', 'OverTime', 'PercentSalaryHike',\n",
       "       'PerformanceRating', 'RelationshipSatisfaction', 'StandardHours',\n",
       "       'Shift', 'TotalWorkingYears', 'TrainingTimesLastYear',\n",
       "       'WorkLifeBalance', 'YearsAtCompany', 'YearsInCurrentRole',\n",
       "       'YearsSinceLastPromotion', 'YearsWithCurrManager', 'Travel_Frequently',\n",
       "       'Travel_Rarely', 'Maternity', 'Neurology', 'Life Sciences', 'Marketing',\n",
       "       'Medical', 'Other', 'Technical Degree', 'Administrative', 'Nurse',\n",
       "       'Other', 'Therapist', 'Divorced', 'Married', 'Single'],\n",
       "      dtype='object')"
      ]
     },
     "execution_count": 327,
     "metadata": {},
     "output_type": "execute_result"
    }
   ],
   "source": [
    "df.columns"
   ]
  },
  {
   "cell_type": "code",
   "execution_count": 328,
   "id": "d1a99f91",
   "metadata": {},
   "outputs": [],
   "source": [
    "lt=['Age', 'Attrition', 'DailyRate', 'DistanceFromHome', 'Education',\n",
    "       'EnvironmentSatisfaction', 'Gender', 'HourlyRate', 'JobInvolvement',\n",
    "       'JobLevel', 'JobSatisfaction', 'MonthlyIncome', 'MonthlyRate',\n",
    "       'NumCompaniesWorked', 'OverTime', 'PercentSalaryHike',\n",
    "       'PerformanceRating', 'RelationshipSatisfaction', 'StandardHours',\n",
    "       'Shift', 'TotalWorkingYears', 'TrainingTimesLastYear',\n",
    "       'WorkLifeBalance', 'YearsAtCompany', 'YearsInCurrentRole',\n",
    "       'YearsSinceLastPromotion', 'YearsWithCurrManager']"
   ]
  },
  {
   "cell_type": "code",
   "execution_count": 329,
   "id": "e3a8909b",
   "metadata": {
    "scrolled": false
   },
   "outputs": [
    {
     "data": {
      "image/png": "[encoded data removed]",
      "text/plain": [
       "<Figure size 432x288 with 1 Axes>"
      ]
     },
     "metadata": {
      "needs_background": "light"
     },
     "output_type": "display_data"
    },
    {
     "data": {
      "image/png": "[encoded data removed]",
      "text/plain": [
       "<Figure size 432x288 with 1 Axes>"
      ]
     },
     "metadata": {
      "needs_background": "light"
     },
     "output_type": "display_data"
    },
    {
     "data": {
      "image/png": "[encoded data removed]",
      "text/plain": [
       "<Figure size 432x288 with 1 Axes>"
      ]
     },
     "metadata": {
      "needs_background": "light"
     },
     "output_type": "display_data"
    },
    {
     "data": {
      "image/png": "[encoded data removed]",
      "text/plain": [
       "<Figure size 432x288 with 1 Axes>"
      ]
     },
     "metadata": {
      "needs_background": "light"
     },
     "output_type": "display_data"
    },
    {
     "data": {
      "image/png": "[encoded data removed]",
      "text/plain": [
       "<Figure size 432x288 with 1 Axes>"
      ]
     },
     "metadata": {
      "needs_background": "light"
     },
     "output_type": "display_data"
    },
    {
     "data": {
      "image/png": "[encoded data removed]",
      "text/plain": [
       "<Figure size 432x288 with 1 Axes>"
      ]
     },
     "metadata": {
      "needs_background": "light"
     },
     "output_type": "display_data"
    },
    {
     "data": {
      "image/png": "[encoded data removed]",
      "text/plain": [
       "<Figure size 432x288 with 1 Axes>"
      ]
     },
     "metadata": {
      "needs_background": "light"
     },
     "output_type": "display_data"
    },
    {
     "data": {
      "image/png": "[encoded data removed]",
      "text/plain": [
       "<Figure size 432x288 with 1 Axes>"
      ]
     },
     "metadata": {
      "needs_background": "light"
     },
     "output_type": "display_data"
    },
    {
     "data": {
      "image/png": "[encoded data removed]",
      "text/plain": [
       "<Figure size 432x288 with 1 Axes>"
      ]
     },
     "metadata": {
      "needs_background": "light"
     },
     "output_type": "display_data"
    },
    {
     "data": {
      "image/png": "[encoded data removed]",
      "text/plain": [
       "<Figure size 432x288 with 1 Axes>"
      ]
     },
     "metadata": {
      "needs_background": "light"
     },
     "output_type": "display_data"
    },
    {
     "data": {
      "image/png": "[encoded data removed]",
      "text/plain": [
       "<Figure size 432x288 with 1 Axes>"
      ]
     },
     "metadata": {
      "needs_background": "light"
     },
     "output_type": "display_data"
    },
    {
     "data": {
      "image/png": "[encoded data removed]",
      "text/plain": [
       "<Figure size 432x288 with 1 Axes>"
      ]
     },
     "metadata": {
      "needs_background": "light"
     },
     "output_type": "display_data"
    },
    {
     "data": {
      "image/png": "[encoded data removed]",
      "text/plain": [
       "<Figure size 432x288 with 1 Axes>"
      ]
     },
     "metadata": {
      "needs_background": "light"
     },
     "output_type": "display_data"
    },
    {
     "data": {
      "image/png": "[encoded data removed]",
      "text/plain": [
       "<Figure size 432x288 with 1 Axes>"
      ]
     },
     "metadata": {
      "needs_background": "light"
     },
     "output_type": "display_data"
    },
    {
     "data": {
      "image/png": "[encoded data removed]",
      "text/plain": [
       "<Figure size 432x288 with 1 Axes>"
      ]
     },
     "metadata": {
      "needs_background": "light"
     },
     "output_type": "display_data"
    },
    {
     "data": {
      "image/png": "[encoded data removed]",
      "text/plain": [
       "<Figure size 432x288 with 1 Axes>"
      ]
     },
     "metadata": {
      "needs_background": "light"
     },
     "output_type": "display_data"
    },
    {
     "data": {
      "image/png": "[encoded data removed]",
      "text/plain": [
       "<Figure size 432x288 with 1 Axes>"
      ]
     },
     "metadata": {
      "needs_background": "light"
     },
     "output_type": "display_data"
    },
    {
     "data": {
      "image/png": "[encoded data removed]",
      "text/plain": [
       "<Figure size 432x288 with 1 Axes>"
      ]
     },
     "metadata": {
      "needs_background": "light"
     },
     "output_type": "display_data"
    },
    {
     "data": {
      "image/png": "[encoded data removed]",
      "text/plain": [
       "<Figure size 432x288 with 1 Axes>"
      ]
     },
     "metadata": {
      "needs_background": "light"
     },
     "output_type": "display_data"
    },
    {
     "data": {
      "image/png": "[encoded data removed]",
      "text/plain": [
       "<Figure size 432x288 with 1 Axes>"
      ]
     },
     "metadata": {
      "needs_background": "light"
     },
     "output_type": "display_data"
    },
    {
     "data": {
      "image/png": "[encoded data removed]",
      "text/plain": [
       "<Figure size 432x288 with 1 Axes>"
      ]
     },
     "metadata": {
      "needs_background": "light"
     },
     "output_type": "display_data"
    },
    {
     "data": {
      "image/png": "[encoded data removed]",
      "text/plain": [
       "<Figure size 432x288 with 1 Axes>"
      ]
     },
     "metadata": {
      "needs_background": "light"
     },
     "output_type": "display_data"
    },
    {
     "data": {
      "image/png": "[encoded data removed]",
      "text/plain": [
       "<Figure size 432x288 with 1 Axes>"
      ]
     },
     "metadata": {
      "needs_background": "light"
     },
     "output_type": "display_data"
    },
    {
     "data": {
      "image/png": "[encoded data removed]",
      "text/plain": [
       "<Figure size 432x288 with 1 Axes>"
      ]
     },
     "metadata": {
      "needs_background": "light"
     },
     "output_type": "display_data"
    },
    {
     "data": {
      "image/png": "[encoded data removed]",
      "text/plain": [
       "<Figure size 432x288 with 1 Axes>"
      ]
     },
     "metadata": {
      "needs_background": "light"
     },
     "output_type": "display_data"
    },
    {
     "data": {
      "image/png": "[encoded data removed]",
      "text/plain": [
       "<Figure size 432x288 with 1 Axes>"
      ]
     },
     "metadata": {
      "needs_background": "light"
     },
     "output_type": "display_data"
    },
    {
     "data": {
      "image/png": "[encoded data removed]",
      "text/plain": [
       "<Figure size 432x288 with 1 Axes>"
      ]
     },
     "metadata": {
      "needs_background": "light"
     },
     "output_type": "display_data"
    }
   ],
   "source": [
    "for i in lt:\n",
    "    sns.boxplot(df[i])\n",
    "    plt.show()"
   ]
  },
  {
   "cell_type": "code",
   "execution_count": 330,
   "id": "f3625d5d",
   "metadata": {
    "scrolled": true
   },
   "outputs": [
    {
     "data": {
      "text/plain": [
       "<AxesSubplot:xlabel='Attrition', ylabel='count'>"
      ]
     },
     "execution_count": 330,
     "metadata": {},
     "output_type": "execute_result"
    },
    {
     "data": {
      "image/png": "[encoded data removed]",
      "text/plain": [
       "<Figure size 432x288 with 1 Axes>"
      ]
     },
     "metadata": {
      "needs_background": "light"
     },
     "output_type": "display_data"
    }
   ],
   "source": [
    "sns.countplot(df['Attrition'])"
   ]
  },
  {
   "cell_type": "code",
   "execution_count": 331,
   "id": "74baa089",
   "metadata": {},
   "outputs": [
    {
     "data": {
      "text/plain": [
       "(1676, 43)"
      ]
     },
     "execution_count": 331,
     "metadata": {},
     "output_type": "execute_result"
    }
   ],
   "source": [
    "df.shape"
   ]
  },
  {
   "cell_type": "markdown",
   "id": "3518446d",
   "metadata": {},
   "source": [
    "## Split Data"
   ]
  },
  {
   "cell_type": "code",
   "execution_count": 333,
   "id": "f9013a84",
   "metadata": {},
   "outputs": [],
   "source": [
    "X=df.drop('Attrition',axis=1)\n",
    "y=df['Attrition']"
   ]
  },
  {
   "cell_type": "code",
   "execution_count": 334,
   "id": "439cdb02",
   "metadata": {},
   "outputs": [
    {
     "data": {
      "text/plain": [
       "<AxesSubplot:xlabel='Attrition', ylabel='count'>"
      ]
     },
     "execution_count": 334,
     "metadata": {},
     "output_type": "execute_result"
    },
    {
     "data": {
      "image/png": "[encoded data removed]",
      "text/plain": [
       "<Figure size 432x288 with 1 Axes>"
      ]
     },
     "metadata": {
      "needs_background": "light"
     },
     "output_type": "display_data"
    }
   ],
   "source": [
    "sns.countplot(y)"
   ]
  },
  {
   "cell_type": "markdown",
   "id": "5b543ce8",
   "metadata": {},
   "source": [
    "## Impalenced Data"
   ]
  },
  {
   "cell_type": "code",
   "execution_count": 332,
   "id": "f252e7b5",
   "metadata": {},
   "outputs": [],
   "source": [
    "from imblearn.combine import SMOTETomek"
   ]
  },
  {
   "cell_type": "code",
   "execution_count": 336,
   "id": "425b7890",
   "metadata": {},
   "outputs": [],
   "source": [
    "smt=SMOTETomek()\n",
    "X_new,y_new=smt.fit_resample(X,y)"
   ]
  },
  {
   "cell_type": "code",
   "execution_count": 337,
   "id": "99621e4e",
   "metadata": {},
   "outputs": [
    {
     "data": {
      "text/plain": [
       "<AxesSubplot:xlabel='Attrition', ylabel='count'>"
      ]
     },
     "execution_count": 337,
     "metadata": {},
     "output_type": "execute_result"
    },
    {
     "data": {
      "image/png": "[encoded data removed]",
      "text/plain": [
       "<Figure size 432x288 with 1 Axes>"
      ]
     },
     "metadata": {
      "needs_background": "light"
     },
     "output_type": "display_data"
    }
   ],
   "source": [
    "sns.countplot(y_new)"
   ]
  },
  {
   "cell_type": "code",
   "execution_count": 338,
   "id": "55123da9",
   "metadata": {},
   "outputs": [],
   "source": [
    "from sklearn.model_selection import train_test_split"
   ]
  },
  {
   "cell_type": "code",
   "execution_count": 339,
   "id": "14c3d46f",
   "metadata": {},
   "outputs": [],
   "source": [
    "X_train, X_test, y_train, y_test = train_test_split(X_new, y_new, test_size=0.3, random_state=42)"
   ]
  },
  {
   "cell_type": "markdown",
   "id": "c75a3d62",
   "metadata": {},
   "source": [
    "## Scaling"
   ]
  },
  {
   "cell_type": "code",
   "execution_count": 341,
   "id": "c74cbbe4",
   "metadata": {},
   "outputs": [],
   "source": [
    "from sklearn.preprocessing import MinMaxScaler\n",
    "sc=MinMaxScaler()"
   ]
  },
  {
   "cell_type": "code",
   "execution_count": 342,
   "id": "6a38ec83",
   "metadata": {},
   "outputs": [],
   "source": [
    "X_train=sc.fit_transform(X_train)\n",
    "X_test=sc.transform(X_test)"
   ]
  },
  {
   "cell_type": "markdown",
   "id": "dd2a993e",
   "metadata": {},
   "source": [
    "# Models"
   ]
  },
  {
   "cell_type": "code",
   "execution_count": 345,
   "id": "9cfc152a",
   "metadata": {},
   "outputs": [],
   "source": [
    "from sklearn.linear_model import LinearRegression\n",
    "from sklearn.metrics import mean_absolute_error,mean_squared_error,r2_score,mean_absolute_percentage_error"
   ]
  },
  {
   "cell_type": "code",
   "execution_count": 346,
   "id": "088a7e98",
   "metadata": {},
   "outputs": [
    {
     "name": "stdout",
     "output_type": "stream",
     "text": [
      "mean_absolute_error: 0.20267226607633082\n",
      "\n",
      "\n",
      "mean_Squared_error: 0.06519138258275599\n",
      "\n",
      "\n",
      "R2_score: 73.91420411049938\n",
      "\n",
      "\n",
      "mean_absolute_percentage_error: 453499341428089.7\n"
     ]
    }
   ],
   "source": [
    "M1=LinearRegression()\n",
    "M1.fit(X_train,y_train)\n",
    "P1=M1.predict(X_test)\n",
    "print('mean_absolute_error:',mean_absolute_error(y_test,P1))\n",
    "print('\\n')\n",
    "print('mean_Squared_error:',mean_squared_error(y_test,P1))\n",
    "print('\\n')\n",
    "print('R2_score:',100*r2_score(y_test,P1))\n",
    "print('\\n')\n",
    "print('mean_absolute_percentage_error:',mean_absolute_percentage_error(y_test,P1))"
   ]
  },
  {
   "cell_type": "code",
   "execution_count": 348,
   "id": "47eac0e7",
   "metadata": {},
   "outputs": [],
   "source": [
    "from sklearn.pipeline import make_pipeline\n",
    "from sklearn.preprocessing import PolynomialFeatures"
   ]
  },
  {
   "cell_type": "code",
   "execution_count": 350,
   "id": "4849f852",
   "metadata": {},
   "outputs": [
    {
     "name": "stdout",
     "output_type": "stream",
     "text": [
      "mean_absolute_error: 0.201325648334973\n",
      "\n",
      "\n",
      "mean_Squared_error: 0.08761098273452537\n",
      "\n",
      "\n",
      "R2_score: 64.94318539125581\n",
      "\n",
      "\n",
      "mean_absolute_percentage_error: 584053542984706.4\n"
     ]
    }
   ],
   "source": [
    "M2=make_pipeline(PolynomialFeatures(degree=2),LinearRegression())\n",
    "M2.fit(X_train,y_train)\n",
    "P2=M2.predict(X_test)\n",
    "print('mean_absolute_error:',mean_absolute_error(y_test,P2))\n",
    "print('\\n')\n",
    "print('mean_Squared_error:',mean_squared_error(y_test,P2))\n",
    "print('\\n')\n",
    "print('R2_score:',100*r2_score(y_test,P2))\n",
    "print('\\n')\n",
    "print('mean_absolute_percentage_error:',mean_absolute_percentage_error(y_test,P2))"
   ]
  },
  {
   "cell_type": "code",
   "execution_count": 351,
   "id": "8ca8bdfb",
   "metadata": {},
   "outputs": [
    {
     "name": "stdout",
     "output_type": "stream",
     "text": [
      "mean_absolute_error: 1307931.0101336972\n",
      "\n",
      "\n",
      "mean_Squared_error: 3909776210200.212\n",
      "\n",
      "\n",
      "R2_score: -1564464813481024.2\n",
      "\n",
      "\n",
      "mean_absolute_percentage_error: 4.460787710536077e+21\n"
     ]
    }
   ],
   "source": [
    "M3=make_pipeline(PolynomialFeatures(degree=3),LinearRegression())\n",
    "M3.fit(X_train,y_train)\n",
    "P3=M3.predict(X_test)\n",
    "print('mean_absolute_error:',mean_absolute_error(y_test,P3))\n",
    "print('\\n')\n",
    "print('mean_Squared_error:',mean_squared_error(y_test,P3))\n",
    "print('\\n')\n",
    "print('R2_score:',100*r2_score(y_test,P3))\n",
    "print('\\n')\n",
    "print('mean_absolute_percentage_error:',mean_absolute_percentage_error(y_test,P3))"
   ]
  },
  {
   "cell_type": "code",
   "execution_count": 352,
   "id": "659004b8",
   "metadata": {},
   "outputs": [],
   "source": [
    "from sklearn.linear_model import Lasso"
   ]
  },
  {
   "cell_type": "code",
   "execution_count": 353,
   "id": "604480ba",
   "metadata": {},
   "outputs": [
    {
     "name": "stdout",
     "output_type": "stream",
     "text": [
      "mean_absolute_error: 0.5000759779189173\n",
      "\n",
      "\n",
      "mean_Squared_error: 0.2500922698541038\n",
      "\n",
      "\n",
      "R2_score: -0.07236610873333493\n",
      "\n",
      "\n",
      "mean_absolute_percentage_error: 1156353404174496.0\n"
     ]
    }
   ],
   "source": [
    "M4=Lasso()\n",
    "M4.fit(X_train,y_train)\n",
    "P4=M4.predict(X_test)\n",
    "print('mean_absolute_error:',mean_absolute_error(y_test,P4))\n",
    "print('\\n')\n",
    "print('mean_Squared_error:',mean_squared_error(y_test,P4))\n",
    "print('\\n')\n",
    "print('R2_score:',100*r2_score(y_test,P4))\n",
    "print('\\n')\n",
    "print('mean_absolute_percentage_error:',mean_absolute_percentage_error(y_test,P4))"
   ]
  },
  {
   "cell_type": "code",
   "execution_count": 355,
   "id": "c1764ac5",
   "metadata": {},
   "outputs": [
    {
     "name": "stdout",
     "output_type": "stream",
     "text": [
      "mean_absolute_error: 0.5000759779189173\n",
      "\n",
      "\n",
      "mean_Squared_error: 0.2500922698541038\n",
      "\n",
      "\n",
      "R2_score: -0.07236610873333493\n",
      "\n",
      "\n",
      "mean_absolute_percentage_error: 1156353404174496.0\n"
     ]
    }
   ],
   "source": [
    "M5=make_pipeline(PolynomialFeatures(degree=3),Lasso())\n",
    "M5.fit(X_train,y_train)\n",
    "P5=M5.predict(X_test)\n",
    "print('mean_absolute_error:',mean_absolute_error(y_test,P5))\n",
    "print('\\n')\n",
    "print('mean_Squared_error:',mean_squared_error(y_test,P5))\n",
    "print('\\n')\n",
    "print('R2_score:',100*r2_score(y_test,P5))\n",
    "print('\\n')\n",
    "print('mean_absolute_percentage_error:',mean_absolute_percentage_error(y_test,P5))"
   ]
  },
  {
   "cell_type": "code",
   "execution_count": 356,
   "id": "aec4c61b",
   "metadata": {},
   "outputs": [],
   "source": [
    "from sklearn.linear_model import Ridge"
   ]
  },
  {
   "cell_type": "code",
   "execution_count": 357,
   "id": "2c428b85",
   "metadata": {},
   "outputs": [
    {
     "name": "stdout",
     "output_type": "stream",
     "text": [
      "mean_absolute_error: 0.20237679292098223\n",
      "\n",
      "\n",
      "mean_Squared_error: 0.06509752448806896\n",
      "\n",
      "\n",
      "R2_score: 73.95176065560678\n",
      "\n",
      "\n",
      "mean_absolute_percentage_error: 452331189642758.0\n"
     ]
    }
   ],
   "source": [
    "M6=Ridge()\n",
    "M6.fit(X_train,y_train)\n",
    "P6=M6.predict(X_test)\n",
    "print('mean_absolute_error:',mean_absolute_error(y_test,P6))\n",
    "print('\\n')\n",
    "print('mean_Squared_error:',mean_squared_error(y_test,P6))\n",
    "print('\\n')\n",
    "print('R2_score:',100*r2_score(y_test,P6))\n",
    "print('\\n')\n",
    "print('mean_absolute_percentage_error:',mean_absolute_percentage_error(y_test,P6))"
   ]
  },
  {
   "cell_type": "code",
   "execution_count": 361,
   "id": "eb8548cc",
   "metadata": {},
   "outputs": [
    {
     "name": "stdout",
     "output_type": "stream",
     "text": [
      "mean_absolute_error: 0.15962433775184087\n",
      "\n",
      "\n",
      "mean_Squared_error: 0.05109350267792287\n",
      "\n",
      "\n",
      "R2_score: 79.55535487464111\n",
      "\n",
      "\n",
      "mean_absolute_percentage_error: 423598314824527.4\n"
     ]
    }
   ],
   "source": [
    "M7=make_pipeline(PolynomialFeatures(degree=2),Ridge())\n",
    "M7.fit(X_train,y_train)\n",
    "P7=M7.predict(X_test)\n",
    "print('mean_absolute_error:',mean_absolute_error(y_test,P7))\n",
    "print('\\n')\n",
    "print('mean_Squared_error:',mean_squared_error(y_test,P7))\n",
    "print('\\n')\n",
    "print('R2_score:',100*r2_score(y_test,P7))\n",
    "print('\\n')\n",
    "print('mean_absolute_percentage_error:',mean_absolute_percentage_error(y_test,P7))"
   ]
  },
  {
   "cell_type": "code",
   "execution_count": 362,
   "id": "ec91a374",
   "metadata": {},
   "outputs": [],
   "source": [
    "from sklearn.tree import DecisionTreeRegressor"
   ]
  },
  {
   "cell_type": "code",
   "execution_count": 363,
   "id": "2a155827",
   "metadata": {},
   "outputs": [
    {
     "name": "stdout",
     "output_type": "stream",
     "text": [
      "mean_absolute_error: 0.1011764705882353\n",
      "\n",
      "\n",
      "mean_Squared_error: 0.1011764705882353\n",
      "\n",
      "\n",
      "R2_score: 59.51506693028949\n",
      "\n",
      "\n",
      "mean_absolute_percentage_error: 227829157619919.25\n"
     ]
    }
   ],
   "source": [
    "M8=DecisionTreeRegressor()\n",
    "M8.fit(X_train,y_train)\n",
    "P8=M8.predict(X_test)\n",
    "print('mean_absolute_error:',mean_absolute_error(y_test,P8))\n",
    "print('\\n')\n",
    "print('mean_Squared_error:',mean_squared_error(y_test,P8))\n",
    "print('\\n')\n",
    "print('R2_score:',100*r2_score(y_test,P8))\n",
    "print('\\n')\n",
    "print('mean_absolute_percentage_error:',mean_absolute_percentage_error(y_test,P8))"
   ]
  },
  {
   "cell_type": "code",
   "execution_count": 364,
   "id": "91ef3b41",
   "metadata": {},
   "outputs": [],
   "source": [
    "from sklearn.ensemble import RandomForestRegressor"
   ]
  },
  {
   "cell_type": "code",
   "execution_count": 365,
   "id": "9d833188",
   "metadata": {},
   "outputs": [
    {
     "name": "stdout",
     "output_type": "stream",
     "text": [
      "mean_absolute_error: 0.1367857142857143\n",
      "\n",
      "\n",
      "mean_Squared_error: 0.04679307253434708\n",
      "\n",
      "\n",
      "R2_score: 81.27613664852002\n",
      "\n",
      "\n",
      "mean_absolute_percentage_error: 350838484652165.94\n"
     ]
    }
   ],
   "source": [
    "M9=RandomForestRegressor()\n",
    "M9.fit(X_train,y_train)\n",
    "P9=M9.predict(X_test)\n",
    "print('mean_absolute_error:',mean_absolute_error(y_test,P9))\n",
    "print('\\n')\n",
    "print('mean_Squared_error:',mean_squared_error(y_test,P9))\n",
    "print('\\n')\n",
    "print('R2_score:',100*r2_score(y_test,P9))\n",
    "print('\\n')\n",
    "print('mean_absolute_percentage_error:',mean_absolute_percentage_error(y_test,P9))"
   ]
  },
  {
   "cell_type": "code",
   "execution_count": 366,
   "id": "94617e47",
   "metadata": {},
   "outputs": [],
   "source": [
    "from sklearn.neighbors import KNeighborsRegressor"
   ]
  },
  {
   "cell_type": "code",
   "execution_count": 367,
   "id": "43847aa5",
   "metadata": {},
   "outputs": [
    {
     "data": {
      "text/plain": [
       "Text(0, 0.5, 'Error Rate')"
      ]
     },
     "execution_count": 367,
     "metadata": {},
     "output_type": "execute_result"
    },
    {
     "data": {
      "image/png": "[encoded data removed]",
      "text/plain": [
       "<Figure size 720x720 with 1 Axes>"
      ]
     },
     "metadata": {
      "needs_background": "light"
     },
     "output_type": "display_data"
    }
   ],
   "source": [
    "error_Mat=[]\n",
    "for i in range (1,50):\n",
    "    knn=KNeighborsRegressor(n_neighbors=i)\n",
    "    knn.fit(X_train,y_train)\n",
    "    predict_i=knn.predict(X_test)\n",
    "    error_Mat.append(np.mean(predict_i != y_test))\n",
    "plt.figure(figsize=(10,10))\n",
    "plt.plot(range(1,50),error_Mat,color='blue', linestyle='dashed', marker='o',\n",
    "         markerfacecolor='red', markersize=10)\n",
    "plt.title('Error Rate vs. K Value')\n",
    "plt.xlabel('K')\n",
    "plt.ylabel('Error Rate')"
   ]
  },
  {
   "cell_type": "code",
   "execution_count": 372,
   "id": "a72ef700",
   "metadata": {},
   "outputs": [
    {
     "name": "stdout",
     "output_type": "stream",
     "text": [
      "mean_absolute_error: 0.07176470588235294\n",
      "\n",
      "\n",
      "mean_Squared_error: 0.0488235294117647\n",
      "\n",
      "\n",
      "R2_score: 80.46366601868621\n",
      "\n",
      "\n",
      "mean_absolute_percentage_error: 243724215128285.66\n"
     ]
    }
   ],
   "source": [
    "M10=KNeighborsRegressor(n_neighbors=2)\n",
    "M10.fit(X_train,y_train)\n",
    "P10=M10.predict(X_test)\n",
    "print('mean_absolute_error:',mean_absolute_error(y_test,P10))\n",
    "print('\\n')\n",
    "print('mean_Squared_error:',mean_squared_error(y_test,P10))\n",
    "print('\\n')\n",
    "print('R2_score:',100*r2_score(y_test,P10))\n",
    "print('\\n')\n",
    "print('mean_absolute_percentage_error:',mean_absolute_percentage_error(y_test,P10))"
   ]
  },
  {
   "cell_type": "code",
   "execution_count": 373,
   "id": "4dec5ff5",
   "metadata": {},
   "outputs": [],
   "source": [
    "from sklearn.svm import SVR"
   ]
  },
  {
   "cell_type": "code",
   "execution_count": 374,
   "id": "8cf11919",
   "metadata": {},
   "outputs": [
    {
     "name": "stdout",
     "output_type": "stream",
     "text": [
      "mean_absolute_error: 0.13854296677077885\n",
      "\n",
      "\n",
      "mean_Squared_error: 0.04005612923198602\n",
      "\n",
      "\n",
      "R2_score: 83.9718691355775\n",
      "\n",
      "\n",
      "mean_absolute_percentage_error: 340174812726101.3\n"
     ]
    }
   ],
   "source": [
    "M11=SVR()\n",
    "M11.fit(X_train,y_train)\n",
    "P11=M11.predict(X_test)\n",
    "print('mean_absolute_error:',mean_absolute_error(y_test,P11))\n",
    "print('\\n')\n",
    "print('mean_Squared_error:',mean_squared_error(y_test,P11))\n",
    "print('\\n')\n",
    "print('R2_score:',100*r2_score(y_test,P11))\n",
    "print('\\n')\n",
    "print('mean_absolute_percentage_error:',mean_absolute_percentage_error(y_test,P11))"
   ]
  },
  {
   "cell_type": "code",
   "execution_count": 375,
   "id": "09ec5cab",
   "metadata": {},
   "outputs": [],
   "source": [
    "from sklearn.linear_model import SGDRegressor"
   ]
  },
  {
   "cell_type": "code",
   "execution_count": 376,
   "id": "81524c96",
   "metadata": {},
   "outputs": [
    {
     "name": "stdout",
     "output_type": "stream",
     "text": [
      "mean_absolute_error: 0.22917091888716265\n",
      "\n",
      "\n",
      "mean_Squared_error: 0.08168789806050186\n",
      "\n",
      "\n",
      "R2_score: 67.31325903782512\n",
      "\n",
      "\n",
      "mean_absolute_percentage_error: 525868094639209.1\n"
     ]
    }
   ],
   "source": [
    "M12=SGDRegressor()\n",
    "M12.fit(X_train,y_train)\n",
    "P12=M12.predict(X_test)\n",
    "print('mean_absolute_error:',mean_absolute_error(y_test,P12))\n",
    "print('\\n')\n",
    "print('mean_Squared_error:',mean_squared_error(y_test,P12))\n",
    "print('\\n')\n",
    "print('R2_score:',100*r2_score(y_test,P12))\n",
    "print('\\n')\n",
    "print('mean_absolute_percentage_error:',mean_absolute_percentage_error(y_test,P12))"
   ]
  },
  {
   "cell_type": "code",
   "execution_count": 377,
   "id": "86f2b55e",
   "metadata": {},
   "outputs": [],
   "source": [
    "from sklearn.ensemble import GradientBoostingRegressor"
   ]
  },
  {
   "cell_type": "code",
   "execution_count": 378,
   "id": "e3ba8a1d",
   "metadata": {},
   "outputs": [
    {
     "name": "stdout",
     "output_type": "stream",
     "text": [
      "mean_absolute_error: 0.16841526284461406\n",
      "\n",
      "\n",
      "mean_Squared_error: 0.05184474113800738\n",
      "\n",
      "\n",
      "R2_score: 79.25475297976288\n",
      "\n",
      "\n",
      "mean_absolute_percentage_error: 405181628547451.44\n"
     ]
    }
   ],
   "source": [
    "M13=GradientBoostingRegressor()\n",
    "M13.fit(X_train,y_train)\n",
    "P13=M13.predict(X_test)\n",
    "print('mean_absolute_error:',mean_absolute_error(y_test,P13))\n",
    "print('\\n')\n",
    "print('mean_Squared_error:',mean_squared_error(y_test,P13))\n",
    "print('\\n')\n",
    "print('R2_score:',100*r2_score(y_test,P13))\n",
    "print('\\n')\n",
    "print('mean_absolute_percentage_error:',mean_absolute_percentage_error(y_test,P13))"
   ]
  },
  {
   "cell_type": "code",
   "execution_count": 379,
   "id": "3952671c",
   "metadata": {},
   "outputs": [],
   "source": [
    "from sklearn.ensemble import HistGradientBoostingRegressor"
   ]
  },
  {
   "cell_type": "code",
   "execution_count": 381,
   "id": "ee6f2ebb",
   "metadata": {},
   "outputs": [
    {
     "name": "stdout",
     "output_type": "stream",
     "text": [
      "mean_absolute_error: 0.12412145271196336\n",
      "\n",
      "\n",
      "mean_Squared_error: 0.03857552507534862\n",
      "\n",
      "\n",
      "R2_score: 84.56432071879344\n",
      "\n",
      "\n",
      "mean_absolute_percentage_error: 304966699529084.9\n"
     ]
    }
   ],
   "source": [
    "M14=HistGradientBoostingRegressor()\n",
    "M14.fit(X_train,y_train)\n",
    "P14=M14.predict(X_test)\n",
    "print('mean_absolute_error:',mean_absolute_error(y_test,P14))\n",
    "print('\\n')\n",
    "print('mean_Squared_error:',mean_squared_error(y_test,P14))\n",
    "print('\\n')\n",
    "print('R2_score:',100*r2_score(y_test,P14))\n",
    "print('\\n')\n",
    "print('mean_absolute_percentage_error:',mean_absolute_percentage_error(y_test,P14))"
   ]
  },
  {
   "cell_type": "code",
   "execution_count": 382,
   "id": "4ba12588",
   "metadata": {},
   "outputs": [],
   "source": [
    "from sklearn.ensemble import AdaBoostRegressor"
   ]
  },
  {
   "cell_type": "code",
   "execution_count": 383,
   "id": "c0d65ea7",
   "metadata": {},
   "outputs": [
    {
     "name": "stdout",
     "output_type": "stream",
     "text": [
      "mean_absolute_error: 0.3056718390993193\n",
      "\n",
      "\n",
      "mean_Squared_error: 0.10665708956473191\n",
      "\n",
      "\n",
      "R2_score: 57.32204229566806\n",
      "\n",
      "\n",
      "mean_absolute_percentage_error: 694672157712820.9\n"
     ]
    }
   ],
   "source": [
    "M15=AdaBoostRegressor()\n",
    "M15.fit(X_train,y_train)\n",
    "P15=M15.predict(X_test)\n",
    "print('mean_absolute_error:',mean_absolute_error(y_test,P15))\n",
    "print('\\n')\n",
    "print('mean_Squared_error:',mean_squared_error(y_test,P15))\n",
    "print('\\n')\n",
    "print('R2_score:',100*r2_score(y_test,P15))\n",
    "print('\\n')\n",
    "print('mean_absolute_percentage_error:',mean_absolute_percentage_error(y_test,P15))"
   ]
  },
  {
   "cell_type": "code",
   "execution_count": 384,
   "id": "0d43b2ed",
   "metadata": {},
   "outputs": [],
   "source": [
    "from xgboost import XGBRegressor"
   ]
  },
  {
   "cell_type": "code",
   "execution_count": 385,
   "id": "d4a5401b",
   "metadata": {},
   "outputs": [
    {
     "name": "stdout",
     "output_type": "stream",
     "text": [
      "mean_absolute_error: 0.12324256589164553\n",
      "\n",
      "\n",
      "mean_Squared_error: 0.043229225581998994\n",
      "\n",
      "\n",
      "R2_score: 82.70218071289244\n",
      "\n",
      "\n",
      "mean_absolute_percentage_error: 323908574555552.8\n"
     ]
    }
   ],
   "source": [
    "M16=XGBRegressor()\n",
    "M16.fit(X_train,y_train)\n",
    "P16=M16.predict(X_test)\n",
    "print('mean_absolute_error:',mean_absolute_error(y_test,P16))\n",
    "print('\\n')\n",
    "print('mean_Squared_error:',mean_squared_error(y_test,P16))\n",
    "print('\\n')\n",
    "print('R2_score:',100*r2_score(y_test,P16))\n",
    "print('\\n')\n",
    "print('mean_absolute_percentage_error:',mean_absolute_percentage_error(y_test,P16))"
   ]
  },
  {
   "cell_type": "code",
   "execution_count": 386,
   "id": "e07810fd",
   "metadata": {},
   "outputs": [],
   "source": [
    "from catboost import CatBoostRegressor"
   ]
  },
  {
   "cell_type": "code",
   "execution_count": 387,
   "id": "5b75269a",
   "metadata": {
    "collapsed": true
   },
   "outputs": [
    {
     "name": "stdout",
     "output_type": "stream",
     "text": [
      "Learning rate set to 0.045616\n",
      "0:\tlearn: 0.4877813\ttotal: 213ms\tremaining: 3m 32s\n",
      "1:\tlearn: 0.4768590\ttotal: 220ms\tremaining: 1m 49s\n",
      "2:\tlearn: 0.4658431\ttotal: 229ms\tremaining: 1m 16s\n",
      "3:\tlearn: 0.4559283\ttotal: 237ms\tremaining: 58.9s\n",
      "4:\tlearn: 0.4460021\ttotal: 241ms\tremaining: 48.1s\n",
      "5:\tlearn: 0.4364713\ttotal: 246ms\tremaining: 40.7s\n",
      "6:\tlearn: 0.4265977\ttotal: 250ms\tremaining: 35.5s\n",
      "7:\tlearn: 0.4173693\ttotal: 255ms\tremaining: 31.6s\n",
      "8:\tlearn: 0.4097390\ttotal: 259ms\tremaining: 28.6s\n",
      "9:\tlearn: 0.4006725\ttotal: 264ms\tremaining: 26.1s\n",
      "10:\tlearn: 0.3928085\ttotal: 269ms\tremaining: 24.1s\n",
      "11:\tlearn: 0.3848150\ttotal: 273ms\tremaining: 22.5s\n",
      "12:\tlearn: 0.3778497\ttotal: 278ms\tremaining: 21.1s\n",
      "13:\tlearn: 0.3709650\ttotal: 282ms\tremaining: 19.8s\n",
      "14:\tlearn: 0.3639936\ttotal: 286ms\tremaining: 18.8s\n",
      "15:\tlearn: 0.3576632\ttotal: 291ms\tremaining: 17.9s\n",
      "16:\tlearn: 0.3516017\ttotal: 295ms\tremaining: 17.1s\n",
      "17:\tlearn: 0.3466559\ttotal: 300ms\tremaining: 16.4s\n",
      "18:\tlearn: 0.3410071\ttotal: 305ms\tremaining: 15.7s\n",
      "19:\tlearn: 0.3349094\ttotal: 309ms\tremaining: 15.2s\n",
      "20:\tlearn: 0.3301486\ttotal: 314ms\tremaining: 14.6s\n",
      "21:\tlearn: 0.3257626\ttotal: 318ms\tremaining: 14.1s\n",
      "22:\tlearn: 0.3217864\ttotal: 322ms\tremaining: 13.7s\n",
      "23:\tlearn: 0.3166437\ttotal: 327ms\tremaining: 13.3s\n",
      "24:\tlearn: 0.3125300\ttotal: 332ms\tremaining: 13s\n",
      "25:\tlearn: 0.3084366\ttotal: 337ms\tremaining: 12.6s\n",
      "26:\tlearn: 0.3042518\ttotal: 341ms\tremaining: 12.3s\n",
      "27:\tlearn: 0.3000370\ttotal: 345ms\tremaining: 12s\n",
      "28:\tlearn: 0.2968538\ttotal: 350ms\tremaining: 11.7s\n",
      "29:\tlearn: 0.2925612\ttotal: 354ms\tremaining: 11.4s\n",
      "30:\tlearn: 0.2892098\ttotal: 358ms\tremaining: 11.2s\n",
      "31:\tlearn: 0.2857437\ttotal: 362ms\tremaining: 11s\n",
      "32:\tlearn: 0.2827521\ttotal: 367ms\tremaining: 10.7s\n",
      "33:\tlearn: 0.2797926\ttotal: 371ms\tremaining: 10.5s\n",
      "34:\tlearn: 0.2768086\ttotal: 375ms\tremaining: 10.3s\n",
      "35:\tlearn: 0.2744057\ttotal: 380ms\tremaining: 10.2s\n",
      "36:\tlearn: 0.2722487\ttotal: 386ms\tremaining: 10s\n",
      "37:\tlearn: 0.2697434\ttotal: 392ms\tremaining: 9.91s\n",
      "38:\tlearn: 0.2672405\ttotal: 397ms\tremaining: 9.77s\n",
      "39:\tlearn: 0.2651180\ttotal: 401ms\tremaining: 9.62s\n",
      "40:\tlearn: 0.2628657\ttotal: 406ms\tremaining: 9.49s\n",
      "41:\tlearn: 0.2602166\ttotal: 411ms\tremaining: 9.37s\n",
      "42:\tlearn: 0.2581895\ttotal: 415ms\tremaining: 9.24s\n",
      "43:\tlearn: 0.2560168\ttotal: 422ms\tremaining: 9.18s\n",
      "44:\tlearn: 0.2539901\ttotal: 427ms\tremaining: 9.06s\n",
      "45:\tlearn: 0.2520279\ttotal: 431ms\tremaining: 8.94s\n",
      "46:\tlearn: 0.2495999\ttotal: 436ms\tremaining: 8.84s\n",
      "47:\tlearn: 0.2477137\ttotal: 441ms\tremaining: 8.75s\n",
      "48:\tlearn: 0.2456107\ttotal: 445ms\tremaining: 8.64s\n",
      "49:\tlearn: 0.2435751\ttotal: 450ms\tremaining: 8.54s\n",
      "50:\tlearn: 0.2415579\ttotal: 455ms\tremaining: 8.46s\n",
      "51:\tlearn: 0.2399131\ttotal: 459ms\tremaining: 8.37s\n",
      "52:\tlearn: 0.2388608\ttotal: 463ms\tremaining: 8.27s\n",
      "53:\tlearn: 0.2373713\ttotal: 467ms\tremaining: 8.18s\n",
      "54:\tlearn: 0.2365024\ttotal: 471ms\tremaining: 8.1s\n",
      "55:\tlearn: 0.2353959\ttotal: 476ms\tremaining: 8.02s\n",
      "56:\tlearn: 0.2337518\ttotal: 480ms\tremaining: 7.94s\n",
      "57:\tlearn: 0.2327299\ttotal: 484ms\tremaining: 7.86s\n",
      "58:\tlearn: 0.2314165\ttotal: 488ms\tremaining: 7.79s\n",
      "59:\tlearn: 0.2301719\ttotal: 493ms\tremaining: 7.72s\n",
      "60:\tlearn: 0.2291075\ttotal: 497ms\tremaining: 7.65s\n",
      "61:\tlearn: 0.2277370\ttotal: 501ms\tremaining: 7.58s\n",
      "62:\tlearn: 0.2263526\ttotal: 506ms\tremaining: 7.52s\n",
      "63:\tlearn: 0.2253954\ttotal: 510ms\tremaining: 7.46s\n",
      "64:\tlearn: 0.2242101\ttotal: 514ms\tremaining: 7.4s\n",
      "65:\tlearn: 0.2232227\ttotal: 518ms\tremaining: 7.33s\n",
      "66:\tlearn: 0.2222941\ttotal: 523ms\tremaining: 7.28s\n",
      "67:\tlearn: 0.2209846\ttotal: 527ms\tremaining: 7.22s\n",
      "68:\tlearn: 0.2200420\ttotal: 531ms\tremaining: 7.17s\n",
      "69:\tlearn: 0.2189394\ttotal: 536ms\tremaining: 7.12s\n",
      "70:\tlearn: 0.2177212\ttotal: 540ms\tremaining: 7.07s\n",
      "71:\tlearn: 0.2166290\ttotal: 544ms\tremaining: 7.02s\n",
      "72:\tlearn: 0.2156645\ttotal: 549ms\tremaining: 6.97s\n",
      "73:\tlearn: 0.2147594\ttotal: 553ms\tremaining: 6.92s\n",
      "74:\tlearn: 0.2139350\ttotal: 558ms\tremaining: 6.88s\n",
      "75:\tlearn: 0.2128753\ttotal: 563ms\tremaining: 6.84s\n",
      "76:\tlearn: 0.2119054\ttotal: 567ms\tremaining: 6.8s\n",
      "77:\tlearn: 0.2110959\ttotal: 572ms\tremaining: 6.76s\n",
      "78:\tlearn: 0.2103528\ttotal: 579ms\tremaining: 6.75s\n",
      "79:\tlearn: 0.2096123\ttotal: 586ms\tremaining: 6.74s\n",
      "80:\tlearn: 0.2089307\ttotal: 591ms\tremaining: 6.7s\n",
      "81:\tlearn: 0.2083263\ttotal: 596ms\tremaining: 6.67s\n",
      "82:\tlearn: 0.2077848\ttotal: 600ms\tremaining: 6.63s\n",
      "83:\tlearn: 0.2071050\ttotal: 604ms\tremaining: 6.59s\n",
      "84:\tlearn: 0.2062732\ttotal: 609ms\tremaining: 6.55s\n",
      "85:\tlearn: 0.2057396\ttotal: 613ms\tremaining: 6.52s\n",
      "86:\tlearn: 0.2051662\ttotal: 620ms\tremaining: 6.5s\n",
      "87:\tlearn: 0.2046251\ttotal: 624ms\tremaining: 6.47s\n",
      "88:\tlearn: 0.2038692\ttotal: 629ms\tremaining: 6.44s\n",
      "89:\tlearn: 0.2033974\ttotal: 633ms\tremaining: 6.4s\n",
      "90:\tlearn: 0.2027913\ttotal: 637ms\tremaining: 6.37s\n",
      "91:\tlearn: 0.2021880\ttotal: 642ms\tremaining: 6.34s\n",
      "92:\tlearn: 0.2015801\ttotal: 646ms\tremaining: 6.3s\n",
      "93:\tlearn: 0.2009805\ttotal: 651ms\tremaining: 6.27s\n",
      "94:\tlearn: 0.2003998\ttotal: 655ms\tremaining: 6.24s\n",
      "95:\tlearn: 0.1998979\ttotal: 660ms\tremaining: 6.21s\n",
      "96:\tlearn: 0.1994949\ttotal: 664ms\tremaining: 6.18s\n",
      "97:\tlearn: 0.1992140\ttotal: 668ms\tremaining: 6.15s\n",
      "98:\tlearn: 0.1986860\ttotal: 673ms\tremaining: 6.12s\n",
      "99:\tlearn: 0.1978827\ttotal: 677ms\tremaining: 6.09s\n",
      "100:\tlearn: 0.1973998\ttotal: 681ms\tremaining: 6.06s\n",
      "101:\tlearn: 0.1969759\ttotal: 686ms\tremaining: 6.04s\n",
      "102:\tlearn: 0.1965444\ttotal: 691ms\tremaining: 6.02s\n",
      "103:\tlearn: 0.1960925\ttotal: 697ms\tremaining: 6.01s\n",
      "104:\tlearn: 0.1955722\ttotal: 702ms\tremaining: 5.98s\n",
      "105:\tlearn: 0.1950573\ttotal: 710ms\tremaining: 5.98s\n",
      "106:\tlearn: 0.1945806\ttotal: 716ms\tremaining: 5.97s\n",
      "107:\tlearn: 0.1939886\ttotal: 723ms\tremaining: 5.97s\n",
      "108:\tlearn: 0.1935563\ttotal: 729ms\tremaining: 5.96s\n",
      "109:\tlearn: 0.1929561\ttotal: 735ms\tremaining: 5.95s\n",
      "110:\tlearn: 0.1925692\ttotal: 740ms\tremaining: 5.93s\n",
      "111:\tlearn: 0.1920475\ttotal: 745ms\tremaining: 5.91s\n",
      "112:\tlearn: 0.1914481\ttotal: 753ms\tremaining: 5.91s\n",
      "113:\tlearn: 0.1909109\ttotal: 759ms\tremaining: 5.9s\n",
      "114:\tlearn: 0.1905739\ttotal: 767ms\tremaining: 5.9s\n",
      "115:\tlearn: 0.1901970\ttotal: 777ms\tremaining: 5.92s\n",
      "116:\tlearn: 0.1897704\ttotal: 785ms\tremaining: 5.92s\n",
      "117:\tlearn: 0.1891777\ttotal: 792ms\tremaining: 5.92s\n",
      "118:\tlearn: 0.1887347\ttotal: 799ms\tremaining: 5.91s\n",
      "119:\tlearn: 0.1882262\ttotal: 807ms\tremaining: 5.92s\n",
      "120:\tlearn: 0.1878134\ttotal: 814ms\tremaining: 5.91s\n",
      "121:\tlearn: 0.1873041\ttotal: 819ms\tremaining: 5.9s\n",
      "122:\tlearn: 0.1869711\ttotal: 825ms\tremaining: 5.88s\n",
      "123:\tlearn: 0.1865291\ttotal: 831ms\tremaining: 5.87s\n",
      "124:\tlearn: 0.1860904\ttotal: 836ms\tremaining: 5.85s\n",
      "125:\tlearn: 0.1854251\ttotal: 841ms\tremaining: 5.83s\n",
      "126:\tlearn: 0.1847779\ttotal: 845ms\tremaining: 5.81s\n",
      "127:\tlearn: 0.1843610\ttotal: 849ms\tremaining: 5.79s\n",
      "128:\tlearn: 0.1837139\ttotal: 854ms\tremaining: 5.76s\n",
      "129:\tlearn: 0.1831249\ttotal: 858ms\tremaining: 5.74s\n",
      "130:\tlearn: 0.1827195\ttotal: 862ms\tremaining: 5.72s\n",
      "131:\tlearn: 0.1823438\ttotal: 866ms\tremaining: 5.7s\n",
      "132:\tlearn: 0.1819060\ttotal: 870ms\tremaining: 5.67s\n",
      "133:\tlearn: 0.1814896\ttotal: 875ms\tremaining: 5.65s\n",
      "134:\tlearn: 0.1811391\ttotal: 879ms\tremaining: 5.63s\n",
      "135:\tlearn: 0.1806650\ttotal: 883ms\tremaining: 5.61s\n",
      "136:\tlearn: 0.1803512\ttotal: 887ms\tremaining: 5.59s\n",
      "137:\tlearn: 0.1798274\ttotal: 892ms\tremaining: 5.57s\n",
      "138:\tlearn: 0.1792989\ttotal: 896ms\tremaining: 5.55s\n",
      "139:\tlearn: 0.1788163\ttotal: 900ms\tremaining: 5.53s\n",
      "140:\tlearn: 0.1782293\ttotal: 904ms\tremaining: 5.51s\n",
      "141:\tlearn: 0.1776703\ttotal: 909ms\tremaining: 5.49s\n",
      "142:\tlearn: 0.1774524\ttotal: 913ms\tremaining: 5.47s\n",
      "143:\tlearn: 0.1769603\ttotal: 917ms\tremaining: 5.45s\n",
      "144:\tlearn: 0.1766395\ttotal: 922ms\tremaining: 5.44s\n",
      "145:\tlearn: 0.1762788\ttotal: 928ms\tremaining: 5.43s\n",
      "146:\tlearn: 0.1760388\ttotal: 933ms\tremaining: 5.41s\n",
      "147:\tlearn: 0.1757634\ttotal: 940ms\tremaining: 5.41s\n",
      "148:\tlearn: 0.1751778\ttotal: 947ms\tremaining: 5.41s\n",
      "149:\tlearn: 0.1749432\ttotal: 953ms\tremaining: 5.4s\n",
      "150:\tlearn: 0.1745331\ttotal: 960ms\tremaining: 5.4s\n",
      "151:\tlearn: 0.1742991\ttotal: 967ms\tremaining: 5.39s\n",
      "152:\tlearn: 0.1740207\ttotal: 975ms\tremaining: 5.4s\n",
      "153:\tlearn: 0.1736053\ttotal: 981ms\tremaining: 5.39s\n",
      "154:\tlearn: 0.1730407\ttotal: 987ms\tremaining: 5.38s\n",
      "155:\tlearn: 0.1726733\ttotal: 992ms\tremaining: 5.37s\n",
      "156:\tlearn: 0.1724373\ttotal: 997ms\tremaining: 5.35s\n",
      "157:\tlearn: 0.1721462\ttotal: 1s\tremaining: 5.34s\n",
      "158:\tlearn: 0.1717049\ttotal: 1.01s\tremaining: 5.33s\n",
      "159:\tlearn: 0.1713139\ttotal: 1.01s\tremaining: 5.32s\n",
      "160:\tlearn: 0.1709515\ttotal: 1.02s\tremaining: 5.3s\n",
      "161:\tlearn: 0.1706342\ttotal: 1.02s\tremaining: 5.29s\n",
      "162:\tlearn: 0.1701690\ttotal: 1.03s\tremaining: 5.28s\n",
      "163:\tlearn: 0.1699109\ttotal: 1.03s\tremaining: 5.26s\n",
      "164:\tlearn: 0.1696085\ttotal: 1.04s\tremaining: 5.25s\n",
      "165:\tlearn: 0.1693681\ttotal: 1.04s\tremaining: 5.24s\n",
      "166:\tlearn: 0.1691622\ttotal: 1.05s\tremaining: 5.23s\n",
      "167:\tlearn: 0.1687092\ttotal: 1.05s\tremaining: 5.22s\n",
      "168:\tlearn: 0.1685010\ttotal: 1.06s\tremaining: 5.2s\n",
      "169:\tlearn: 0.1682477\ttotal: 1.06s\tremaining: 5.19s\n",
      "170:\tlearn: 0.1677531\ttotal: 1.07s\tremaining: 5.19s\n",
      "171:\tlearn: 0.1675302\ttotal: 1.07s\tremaining: 5.17s\n",
      "172:\tlearn: 0.1670358\ttotal: 1.08s\tremaining: 5.16s\n",
      "173:\tlearn: 0.1667126\ttotal: 1.08s\tremaining: 5.15s\n",
      "174:\tlearn: 0.1662804\ttotal: 1.09s\tremaining: 5.13s\n",
      "175:\tlearn: 0.1658912\ttotal: 1.09s\tremaining: 5.12s\n",
      "176:\tlearn: 0.1656399\ttotal: 1.1s\tremaining: 5.1s\n",
      "177:\tlearn: 0.1654105\ttotal: 1.1s\tremaining: 5.09s\n",
      "178:\tlearn: 0.1650997\ttotal: 1.1s\tremaining: 5.07s\n",
      "179:\tlearn: 0.1646533\ttotal: 1.11s\tremaining: 5.06s\n",
      "180:\tlearn: 0.1642677\ttotal: 1.11s\tremaining: 5.04s\n",
      "181:\tlearn: 0.1638988\ttotal: 1.12s\tremaining: 5.03s\n",
      "182:\tlearn: 0.1636792\ttotal: 1.12s\tremaining: 5.01s\n",
      "183:\tlearn: 0.1632601\ttotal: 1.13s\tremaining: 5s\n",
      "184:\tlearn: 0.1628879\ttotal: 1.13s\tremaining: 4.98s\n",
      "185:\tlearn: 0.1625628\ttotal: 1.14s\tremaining: 4.97s\n",
      "186:\tlearn: 0.1623137\ttotal: 1.14s\tremaining: 4.96s\n",
      "187:\tlearn: 0.1619210\ttotal: 1.15s\tremaining: 4.95s\n",
      "188:\tlearn: 0.1616429\ttotal: 1.15s\tremaining: 4.93s\n",
      "189:\tlearn: 0.1613663\ttotal: 1.15s\tremaining: 4.92s\n",
      "190:\tlearn: 0.1609034\ttotal: 1.16s\tremaining: 4.91s\n",
      "191:\tlearn: 0.1605488\ttotal: 1.16s\tremaining: 4.9s\n",
      "192:\tlearn: 0.1601572\ttotal: 1.17s\tremaining: 4.89s\n",
      "193:\tlearn: 0.1598720\ttotal: 1.17s\tremaining: 4.88s\n",
      "194:\tlearn: 0.1594998\ttotal: 1.18s\tremaining: 4.87s\n",
      "195:\tlearn: 0.1590527\ttotal: 1.19s\tremaining: 4.86s\n",
      "196:\tlearn: 0.1587998\ttotal: 1.19s\tremaining: 4.85s\n",
      "197:\tlearn: 0.1584523\ttotal: 1.2s\tremaining: 4.84s\n",
      "198:\tlearn: 0.1581463\ttotal: 1.2s\tremaining: 4.83s\n",
      "199:\tlearn: 0.1579573\ttotal: 1.21s\tremaining: 4.82s\n",
      "200:\tlearn: 0.1575498\ttotal: 1.21s\tremaining: 4.81s\n",
      "201:\tlearn: 0.1572446\ttotal: 1.22s\tremaining: 4.81s\n",
      "202:\tlearn: 0.1569868\ttotal: 1.22s\tremaining: 4.8s\n",
      "203:\tlearn: 0.1566585\ttotal: 1.23s\tremaining: 4.79s\n",
      "204:\tlearn: 0.1564563\ttotal: 1.23s\tremaining: 4.78s\n",
      "205:\tlearn: 0.1560390\ttotal: 1.24s\tremaining: 4.77s\n",
      "206:\tlearn: 0.1558066\ttotal: 1.24s\tremaining: 4.76s\n",
      "207:\tlearn: 0.1556081\ttotal: 1.25s\tremaining: 4.75s\n",
      "208:\tlearn: 0.1554269\ttotal: 1.25s\tremaining: 4.74s\n",
      "209:\tlearn: 0.1551017\ttotal: 1.26s\tremaining: 4.74s\n",
      "210:\tlearn: 0.1546477\ttotal: 1.26s\tremaining: 4.73s\n",
      "211:\tlearn: 0.1542588\ttotal: 1.27s\tremaining: 4.72s\n",
      "212:\tlearn: 0.1539817\ttotal: 1.27s\tremaining: 4.71s\n",
      "213:\tlearn: 0.1536345\ttotal: 1.28s\tremaining: 4.7s\n",
      "214:\tlearn: 0.1533499\ttotal: 1.28s\tremaining: 4.69s\n",
      "215:\tlearn: 0.1531131\ttotal: 1.29s\tremaining: 4.68s\n",
      "216:\tlearn: 0.1527371\ttotal: 1.29s\tremaining: 4.67s\n",
      "217:\tlearn: 0.1525651\ttotal: 1.3s\tremaining: 4.67s\n",
      "218:\tlearn: 0.1521052\ttotal: 1.3s\tremaining: 4.66s\n",
      "219:\tlearn: 0.1518033\ttotal: 1.31s\tremaining: 4.65s\n",
      "220:\tlearn: 0.1515694\ttotal: 1.31s\tremaining: 4.64s\n",
      "221:\tlearn: 0.1511780\ttotal: 1.32s\tremaining: 4.63s\n",
      "222:\tlearn: 0.1509765\ttotal: 1.33s\tremaining: 4.62s\n",
      "223:\tlearn: 0.1507573\ttotal: 1.33s\tremaining: 4.61s\n",
      "224:\tlearn: 0.1503558\ttotal: 1.33s\tremaining: 4.6s\n",
      "225:\tlearn: 0.1500616\ttotal: 1.34s\tremaining: 4.59s\n",
      "226:\tlearn: 0.1498879\ttotal: 1.35s\tremaining: 4.58s\n",
      "227:\tlearn: 0.1496933\ttotal: 1.35s\tremaining: 4.57s\n",
      "228:\tlearn: 0.1494262\ttotal: 1.35s\tremaining: 4.56s\n",
      "229:\tlearn: 0.1491464\ttotal: 1.36s\tremaining: 4.55s\n",
      "230:\tlearn: 0.1488699\ttotal: 1.36s\tremaining: 4.54s\n",
      "231:\tlearn: 0.1485248\ttotal: 1.37s\tremaining: 4.53s\n",
      "232:\tlearn: 0.1483090\ttotal: 1.37s\tremaining: 4.52s\n",
      "233:\tlearn: 0.1481486\ttotal: 1.38s\tremaining: 4.51s\n",
      "234:\tlearn: 0.1478273\ttotal: 1.38s\tremaining: 4.5s\n",
      "235:\tlearn: 0.1476872\ttotal: 1.39s\tremaining: 4.49s\n",
      "236:\tlearn: 0.1473040\ttotal: 1.39s\tremaining: 4.47s\n",
      "237:\tlearn: 0.1469929\ttotal: 1.39s\tremaining: 4.46s\n",
      "238:\tlearn: 0.1466859\ttotal: 1.4s\tremaining: 4.45s\n",
      "239:\tlearn: 0.1464495\ttotal: 1.4s\tremaining: 4.44s\n",
      "240:\tlearn: 0.1461510\ttotal: 1.41s\tremaining: 4.43s\n",
      "241:\tlearn: 0.1460175\ttotal: 1.41s\tremaining: 4.42s\n",
      "242:\tlearn: 0.1458701\ttotal: 1.42s\tremaining: 4.41s\n",
      "243:\tlearn: 0.1455975\ttotal: 1.42s\tremaining: 4.4s\n",
      "244:\tlearn: 0.1452953\ttotal: 1.43s\tremaining: 4.39s\n",
      "245:\tlearn: 0.1449390\ttotal: 1.43s\tremaining: 4.38s\n",
      "246:\tlearn: 0.1446427\ttotal: 1.43s\tremaining: 4.37s\n",
      "247:\tlearn: 0.1443979\ttotal: 1.44s\tremaining: 4.36s\n",
      "248:\tlearn: 0.1441605\ttotal: 1.44s\tremaining: 4.35s\n",
      "249:\tlearn: 0.1437817\ttotal: 1.45s\tremaining: 4.34s\n",
      "250:\tlearn: 0.1435583\ttotal: 1.45s\tremaining: 4.33s\n",
      "251:\tlearn: 0.1432531\ttotal: 1.46s\tremaining: 4.32s\n",
      "252:\tlearn: 0.1431061\ttotal: 1.46s\tremaining: 4.31s\n",
      "253:\tlearn: 0.1429382\ttotal: 1.46s\tremaining: 4.3s\n",
      "254:\tlearn: 0.1426384\ttotal: 1.47s\tremaining: 4.29s\n",
      "255:\tlearn: 0.1424719\ttotal: 1.47s\tremaining: 4.28s\n",
      "256:\tlearn: 0.1423845\ttotal: 1.48s\tremaining: 4.27s\n",
      "257:\tlearn: 0.1421001\ttotal: 1.48s\tremaining: 4.26s\n",
      "258:\tlearn: 0.1418515\ttotal: 1.48s\tremaining: 4.25s\n",
      "259:\tlearn: 0.1417576\ttotal: 1.49s\tremaining: 4.24s\n",
      "260:\tlearn: 0.1414455\ttotal: 1.5s\tremaining: 4.24s\n",
      "261:\tlearn: 0.1412255\ttotal: 1.5s\tremaining: 4.23s\n",
      "262:\tlearn: 0.1409923\ttotal: 1.51s\tremaining: 4.22s\n",
      "263:\tlearn: 0.1407115\ttotal: 1.51s\tremaining: 4.22s\n",
      "264:\tlearn: 0.1404244\ttotal: 1.52s\tremaining: 4.23s\n",
      "265:\tlearn: 0.1402033\ttotal: 1.53s\tremaining: 4.23s\n",
      "266:\tlearn: 0.1400510\ttotal: 1.54s\tremaining: 4.22s\n",
      "267:\tlearn: 0.1398118\ttotal: 1.54s\tremaining: 4.22s\n",
      "268:\tlearn: 0.1395933\ttotal: 1.55s\tremaining: 4.21s\n",
      "269:\tlearn: 0.1392052\ttotal: 1.55s\tremaining: 4.2s\n",
      "270:\tlearn: 0.1391043\ttotal: 1.56s\tremaining: 4.2s\n",
      "271:\tlearn: 0.1389520\ttotal: 1.56s\tremaining: 4.19s\n",
      "272:\tlearn: 0.1387628\ttotal: 1.57s\tremaining: 4.18s\n",
      "273:\tlearn: 0.1385927\ttotal: 1.58s\tremaining: 4.18s\n",
      "274:\tlearn: 0.1383714\ttotal: 1.58s\tremaining: 4.17s\n",
      "275:\tlearn: 0.1381380\ttotal: 1.59s\tremaining: 4.16s\n",
      "276:\tlearn: 0.1380219\ttotal: 1.59s\tremaining: 4.16s\n",
      "277:\tlearn: 0.1378588\ttotal: 1.6s\tremaining: 4.15s\n",
      "278:\tlearn: 0.1376907\ttotal: 1.6s\tremaining: 4.14s\n",
      "279:\tlearn: 0.1374427\ttotal: 1.61s\tremaining: 4.13s\n",
      "280:\tlearn: 0.1372952\ttotal: 1.61s\tremaining: 4.13s\n",
      "281:\tlearn: 0.1371436\ttotal: 1.62s\tremaining: 4.12s\n",
      "282:\tlearn: 0.1368318\ttotal: 1.62s\tremaining: 4.11s\n",
      "283:\tlearn: 0.1366746\ttotal: 1.63s\tremaining: 4.11s\n",
      "284:\tlearn: 0.1365998\ttotal: 1.63s\tremaining: 4.1s\n",
      "285:\tlearn: 0.1363787\ttotal: 1.64s\tremaining: 4.09s\n",
      "286:\tlearn: 0.1361168\ttotal: 1.64s\tremaining: 4.08s\n",
      "287:\tlearn: 0.1360477\ttotal: 1.65s\tremaining: 4.08s\n",
      "288:\tlearn: 0.1358901\ttotal: 1.65s\tremaining: 4.07s\n",
      "289:\tlearn: 0.1356934\ttotal: 1.66s\tremaining: 4.06s\n",
      "290:\tlearn: 0.1355543\ttotal: 1.66s\tremaining: 4.05s\n",
      "291:\tlearn: 0.1353519\ttotal: 1.67s\tremaining: 4.04s\n",
      "292:\tlearn: 0.1352136\ttotal: 1.67s\tremaining: 4.03s\n",
      "293:\tlearn: 0.1350164\ttotal: 1.68s\tremaining: 4.02s\n",
      "294:\tlearn: 0.1345978\ttotal: 1.68s\tremaining: 4.01s\n",
      "295:\tlearn: 0.1344064\ttotal: 1.68s\tremaining: 4.01s\n",
      "296:\tlearn: 0.1340182\ttotal: 1.69s\tremaining: 4s\n",
      "297:\tlearn: 0.1338154\ttotal: 1.69s\tremaining: 3.99s\n",
      "298:\tlearn: 0.1336584\ttotal: 1.7s\tremaining: 3.98s\n",
      "299:\tlearn: 0.1333521\ttotal: 1.7s\tremaining: 3.97s\n",
      "300:\tlearn: 0.1329818\ttotal: 1.71s\tremaining: 3.96s\n",
      "301:\tlearn: 0.1328037\ttotal: 1.71s\tremaining: 3.96s\n",
      "302:\tlearn: 0.1324869\ttotal: 1.72s\tremaining: 3.95s\n",
      "303:\tlearn: 0.1321166\ttotal: 1.72s\tremaining: 3.94s\n",
      "304:\tlearn: 0.1317873\ttotal: 1.73s\tremaining: 3.93s\n",
      "305:\tlearn: 0.1315538\ttotal: 1.73s\tremaining: 3.92s\n",
      "306:\tlearn: 0.1312822\ttotal: 1.73s\tremaining: 3.91s\n",
      "307:\tlearn: 0.1310326\ttotal: 1.74s\tremaining: 3.9s\n",
      "308:\tlearn: 0.1308299\ttotal: 1.74s\tremaining: 3.9s\n",
      "309:\tlearn: 0.1306354\ttotal: 1.75s\tremaining: 3.89s\n",
      "310:\tlearn: 0.1304065\ttotal: 1.75s\tremaining: 3.88s\n",
      "311:\tlearn: 0.1302870\ttotal: 1.75s\tremaining: 3.87s\n",
      "312:\tlearn: 0.1300151\ttotal: 1.76s\tremaining: 3.86s\n",
      "313:\tlearn: 0.1297936\ttotal: 1.76s\tremaining: 3.85s\n",
      "314:\tlearn: 0.1296852\ttotal: 1.77s\tremaining: 3.84s\n",
      "315:\tlearn: 0.1295080\ttotal: 1.77s\tremaining: 3.83s\n",
      "316:\tlearn: 0.1292595\ttotal: 1.78s\tremaining: 3.83s\n",
      "317:\tlearn: 0.1289529\ttotal: 1.78s\tremaining: 3.82s\n",
      "318:\tlearn: 0.1287796\ttotal: 1.78s\tremaining: 3.81s\n",
      "319:\tlearn: 0.1286017\ttotal: 1.79s\tremaining: 3.8s\n",
      "320:\tlearn: 0.1285000\ttotal: 1.79s\tremaining: 3.79s\n",
      "321:\tlearn: 0.1283301\ttotal: 1.8s\tremaining: 3.78s\n",
      "322:\tlearn: 0.1282073\ttotal: 1.8s\tremaining: 3.78s\n",
      "323:\tlearn: 0.1279891\ttotal: 1.81s\tremaining: 3.77s\n",
      "324:\tlearn: 0.1277898\ttotal: 1.81s\tremaining: 3.76s\n",
      "325:\tlearn: 0.1276053\ttotal: 1.82s\tremaining: 3.76s\n",
      "326:\tlearn: 0.1273832\ttotal: 1.82s\tremaining: 3.75s\n",
      "327:\tlearn: 0.1271096\ttotal: 1.83s\tremaining: 3.74s\n",
      "328:\tlearn: 0.1268421\ttotal: 1.83s\tremaining: 3.74s\n",
      "329:\tlearn: 0.1265608\ttotal: 1.84s\tremaining: 3.73s\n",
      "330:\tlearn: 0.1264434\ttotal: 1.85s\tremaining: 3.73s\n",
      "331:\tlearn: 0.1262957\ttotal: 1.85s\tremaining: 3.73s\n",
      "332:\tlearn: 0.1261904\ttotal: 1.86s\tremaining: 3.72s\n",
      "333:\tlearn: 0.1260394\ttotal: 1.87s\tremaining: 3.72s\n",
      "334:\tlearn: 0.1258554\ttotal: 1.87s\tremaining: 3.72s\n",
      "335:\tlearn: 0.1256476\ttotal: 1.88s\tremaining: 3.71s\n",
      "336:\tlearn: 0.1254718\ttotal: 1.88s\tremaining: 3.7s\n",
      "337:\tlearn: 0.1252237\ttotal: 1.89s\tremaining: 3.7s\n",
      "338:\tlearn: 0.1250069\ttotal: 1.89s\tremaining: 3.69s\n",
      "339:\tlearn: 0.1249059\ttotal: 1.9s\tremaining: 3.69s\n",
      "340:\tlearn: 0.1246487\ttotal: 1.9s\tremaining: 3.68s\n",
      "341:\tlearn: 0.1245179\ttotal: 1.91s\tremaining: 3.67s\n",
      "342:\tlearn: 0.1243055\ttotal: 1.92s\tremaining: 3.67s\n",
      "343:\tlearn: 0.1242109\ttotal: 1.92s\tremaining: 3.67s\n",
      "344:\tlearn: 0.1239974\ttotal: 1.93s\tremaining: 3.66s\n",
      "345:\tlearn: 0.1238866\ttotal: 1.93s\tremaining: 3.65s\n",
      "346:\tlearn: 0.1237484\ttotal: 1.94s\tremaining: 3.65s\n",
      "347:\tlearn: 0.1236319\ttotal: 1.94s\tremaining: 3.64s\n",
      "348:\tlearn: 0.1235026\ttotal: 1.95s\tremaining: 3.63s\n",
      "349:\tlearn: 0.1232595\ttotal: 1.95s\tremaining: 3.63s\n",
      "350:\tlearn: 0.1230937\ttotal: 1.96s\tremaining: 3.62s\n",
      "351:\tlearn: 0.1229150\ttotal: 1.96s\tremaining: 3.62s\n",
      "352:\tlearn: 0.1227066\ttotal: 1.97s\tremaining: 3.61s\n",
      "353:\tlearn: 0.1225454\ttotal: 1.97s\tremaining: 3.6s\n",
      "354:\tlearn: 0.1225238\ttotal: 1.98s\tremaining: 3.59s\n",
      "355:\tlearn: 0.1223566\ttotal: 1.98s\tremaining: 3.58s\n",
      "356:\tlearn: 0.1220782\ttotal: 1.99s\tremaining: 3.58s\n",
      "357:\tlearn: 0.1219411\ttotal: 1.99s\tremaining: 3.57s\n",
      "358:\tlearn: 0.1218100\ttotal: 2s\tremaining: 3.56s\n",
      "359:\tlearn: 0.1216285\ttotal: 2s\tremaining: 3.56s\n",
      "360:\tlearn: 0.1214117\ttotal: 2s\tremaining: 3.55s\n",
      "361:\tlearn: 0.1211728\ttotal: 2.01s\tremaining: 3.54s\n",
      "362:\tlearn: 0.1209117\ttotal: 2.01s\tremaining: 3.54s\n",
      "363:\tlearn: 0.1207375\ttotal: 2.02s\tremaining: 3.53s\n",
      "364:\tlearn: 0.1205386\ttotal: 2.02s\tremaining: 3.52s\n",
      "365:\tlearn: 0.1204240\ttotal: 2.03s\tremaining: 3.51s\n",
      "366:\tlearn: 0.1203436\ttotal: 2.03s\tremaining: 3.51s\n",
      "367:\tlearn: 0.1202312\ttotal: 2.04s\tremaining: 3.5s\n",
      "368:\tlearn: 0.1200486\ttotal: 2.04s\tremaining: 3.49s\n",
      "369:\tlearn: 0.1199129\ttotal: 2.05s\tremaining: 3.48s\n",
      "370:\tlearn: 0.1197662\ttotal: 2.05s\tremaining: 3.48s\n",
      "371:\tlearn: 0.1195686\ttotal: 2.06s\tremaining: 3.47s\n",
      "372:\tlearn: 0.1193654\ttotal: 2.06s\tremaining: 3.46s\n",
      "373:\tlearn: 0.1192195\ttotal: 2.06s\tremaining: 3.46s\n",
      "374:\tlearn: 0.1190416\ttotal: 2.07s\tremaining: 3.45s\n",
      "375:\tlearn: 0.1188604\ttotal: 2.07s\tremaining: 3.44s\n",
      "376:\tlearn: 0.1186728\ttotal: 2.08s\tremaining: 3.43s\n",
      "377:\tlearn: 0.1185098\ttotal: 2.08s\tremaining: 3.43s\n",
      "378:\tlearn: 0.1183622\ttotal: 2.09s\tremaining: 3.42s\n",
      "379:\tlearn: 0.1182586\ttotal: 2.09s\tremaining: 3.41s\n",
      "380:\tlearn: 0.1179535\ttotal: 2.1s\tremaining: 3.4s\n",
      "381:\tlearn: 0.1177685\ttotal: 2.1s\tremaining: 3.4s\n",
      "382:\tlearn: 0.1176045\ttotal: 2.1s\tremaining: 3.39s\n",
      "383:\tlearn: 0.1174018\ttotal: 2.11s\tremaining: 3.38s\n",
      "384:\tlearn: 0.1172518\ttotal: 2.11s\tremaining: 3.38s\n",
      "385:\tlearn: 0.1170923\ttotal: 2.12s\tremaining: 3.37s\n",
      "386:\tlearn: 0.1170108\ttotal: 2.12s\tremaining: 3.36s\n",
      "387:\tlearn: 0.1168169\ttotal: 2.13s\tremaining: 3.35s\n",
      "388:\tlearn: 0.1167029\ttotal: 2.13s\tremaining: 3.35s\n",
      "389:\tlearn: 0.1165587\ttotal: 2.13s\tremaining: 3.34s\n",
      "390:\tlearn: 0.1163361\ttotal: 2.14s\tremaining: 3.33s\n",
      "391:\tlearn: 0.1161784\ttotal: 2.14s\tremaining: 3.33s\n",
      "392:\tlearn: 0.1160487\ttotal: 2.15s\tremaining: 3.32s\n",
      "393:\tlearn: 0.1159423\ttotal: 2.15s\tremaining: 3.31s\n",
      "394:\tlearn: 0.1157343\ttotal: 2.16s\tremaining: 3.3s\n",
      "395:\tlearn: 0.1154662\ttotal: 2.16s\tremaining: 3.3s\n",
      "396:\tlearn: 0.1154178\ttotal: 2.17s\tremaining: 3.29s\n",
      "397:\tlearn: 0.1152707\ttotal: 2.17s\tremaining: 3.28s\n",
      "398:\tlearn: 0.1150903\ttotal: 2.18s\tremaining: 3.28s\n",
      "399:\tlearn: 0.1149328\ttotal: 2.18s\tremaining: 3.27s\n",
      "400:\tlearn: 0.1147682\ttotal: 2.19s\tremaining: 3.27s\n",
      "401:\tlearn: 0.1147458\ttotal: 2.19s\tremaining: 3.26s\n",
      "402:\tlearn: 0.1145947\ttotal: 2.19s\tremaining: 3.25s\n",
      "403:\tlearn: 0.1145247\ttotal: 2.2s\tremaining: 3.25s\n",
      "404:\tlearn: 0.1143036\ttotal: 2.21s\tremaining: 3.24s\n",
      "405:\tlearn: 0.1141219\ttotal: 2.22s\tremaining: 3.25s\n",
      "406:\tlearn: 0.1139118\ttotal: 2.23s\tremaining: 3.25s\n",
      "407:\tlearn: 0.1138417\ttotal: 2.23s\tremaining: 3.24s\n",
      "408:\tlearn: 0.1135669\ttotal: 2.24s\tremaining: 3.24s\n",
      "409:\tlearn: 0.1134437\ttotal: 2.25s\tremaining: 3.23s\n",
      "410:\tlearn: 0.1132978\ttotal: 2.25s\tremaining: 3.23s\n",
      "411:\tlearn: 0.1131415\ttotal: 2.26s\tremaining: 3.22s\n",
      "412:\tlearn: 0.1129300\ttotal: 2.26s\tremaining: 3.22s\n",
      "413:\tlearn: 0.1127659\ttotal: 2.27s\tremaining: 3.21s\n",
      "414:\tlearn: 0.1125591\ttotal: 2.27s\tremaining: 3.21s\n",
      "415:\tlearn: 0.1124180\ttotal: 2.28s\tremaining: 3.2s\n",
      "416:\tlearn: 0.1123067\ttotal: 2.29s\tremaining: 3.2s\n",
      "417:\tlearn: 0.1122291\ttotal: 2.29s\tremaining: 3.19s\n",
      "418:\tlearn: 0.1121523\ttotal: 2.3s\tremaining: 3.19s\n",
      "419:\tlearn: 0.1119143\ttotal: 2.3s\tremaining: 3.18s\n",
      "420:\tlearn: 0.1116987\ttotal: 2.31s\tremaining: 3.17s\n",
      "421:\tlearn: 0.1114760\ttotal: 2.31s\tremaining: 3.17s\n",
      "422:\tlearn: 0.1112987\ttotal: 2.32s\tremaining: 3.16s\n",
      "423:\tlearn: 0.1110918\ttotal: 2.32s\tremaining: 3.16s\n",
      "424:\tlearn: 0.1108686\ttotal: 2.33s\tremaining: 3.15s\n",
      "425:\tlearn: 0.1107580\ttotal: 2.34s\tremaining: 3.15s\n",
      "426:\tlearn: 0.1106482\ttotal: 2.34s\tremaining: 3.14s\n",
      "427:\tlearn: 0.1104527\ttotal: 2.35s\tremaining: 3.13s\n",
      "428:\tlearn: 0.1103773\ttotal: 2.35s\tremaining: 3.13s\n",
      "429:\tlearn: 0.1102197\ttotal: 2.35s\tremaining: 3.12s\n",
      "430:\tlearn: 0.1100773\ttotal: 2.36s\tremaining: 3.12s\n",
      "431:\tlearn: 0.1099598\ttotal: 2.37s\tremaining: 3.11s\n",
      "432:\tlearn: 0.1098123\ttotal: 2.37s\tremaining: 3.1s\n",
      "433:\tlearn: 0.1096907\ttotal: 2.38s\tremaining: 3.1s\n",
      "434:\tlearn: 0.1094652\ttotal: 2.38s\tremaining: 3.09s\n",
      "435:\tlearn: 0.1093612\ttotal: 2.38s\tremaining: 3.08s\n",
      "436:\tlearn: 0.1092094\ttotal: 2.39s\tremaining: 3.08s\n",
      "437:\tlearn: 0.1090892\ttotal: 2.39s\tremaining: 3.07s\n",
      "438:\tlearn: 0.1090193\ttotal: 2.4s\tremaining: 3.06s\n",
      "439:\tlearn: 0.1088514\ttotal: 2.4s\tremaining: 3.06s\n",
      "440:\tlearn: 0.1086231\ttotal: 2.41s\tremaining: 3.05s\n",
      "441:\tlearn: 0.1083872\ttotal: 2.42s\tremaining: 3.05s\n",
      "442:\tlearn: 0.1081528\ttotal: 2.42s\tremaining: 3.04s\n",
      "443:\tlearn: 0.1079795\ttotal: 2.42s\tremaining: 3.04s\n",
      "444:\tlearn: 0.1078427\ttotal: 2.43s\tremaining: 3.03s\n",
      "445:\tlearn: 0.1076938\ttotal: 2.43s\tremaining: 3.02s\n",
      "446:\tlearn: 0.1075430\ttotal: 2.44s\tremaining: 3.02s\n",
      "447:\tlearn: 0.1073336\ttotal: 2.44s\tremaining: 3.01s\n",
      "448:\tlearn: 0.1071702\ttotal: 2.45s\tremaining: 3s\n",
      "449:\tlearn: 0.1070993\ttotal: 2.45s\tremaining: 3s\n",
      "450:\tlearn: 0.1069160\ttotal: 2.46s\tremaining: 2.99s\n",
      "451:\tlearn: 0.1066579\ttotal: 2.46s\tremaining: 2.99s\n",
      "452:\tlearn: 0.1064706\ttotal: 2.47s\tremaining: 2.98s\n",
      "453:\tlearn: 0.1063594\ttotal: 2.47s\tremaining: 2.98s\n",
      "454:\tlearn: 0.1062402\ttotal: 2.48s\tremaining: 2.97s\n",
      "455:\tlearn: 0.1059991\ttotal: 2.48s\tremaining: 2.96s\n",
      "456:\tlearn: 0.1058707\ttotal: 2.49s\tremaining: 2.96s\n",
      "457:\tlearn: 0.1057168\ttotal: 2.49s\tremaining: 2.95s\n",
      "458:\tlearn: 0.1055754\ttotal: 2.5s\tremaining: 2.94s\n",
      "459:\tlearn: 0.1054068\ttotal: 2.5s\tremaining: 2.94s\n",
      "460:\tlearn: 0.1051846\ttotal: 2.51s\tremaining: 2.93s\n",
      "461:\tlearn: 0.1049865\ttotal: 2.51s\tremaining: 2.92s\n",
      "462:\tlearn: 0.1047441\ttotal: 2.52s\tremaining: 2.92s\n",
      "463:\tlearn: 0.1046500\ttotal: 2.52s\tremaining: 2.91s\n",
      "464:\tlearn: 0.1044459\ttotal: 2.52s\tremaining: 2.91s\n",
      "465:\tlearn: 0.1044015\ttotal: 2.53s\tremaining: 2.9s\n",
      "466:\tlearn: 0.1042460\ttotal: 2.53s\tremaining: 2.89s\n",
      "467:\tlearn: 0.1040918\ttotal: 2.54s\tremaining: 2.89s\n",
      "468:\tlearn: 0.1039870\ttotal: 2.55s\tremaining: 2.88s\n",
      "469:\tlearn: 0.1037732\ttotal: 2.55s\tremaining: 2.88s\n",
      "470:\tlearn: 0.1036370\ttotal: 2.56s\tremaining: 2.87s\n",
      "471:\tlearn: 0.1035328\ttotal: 2.56s\tremaining: 2.87s\n",
      "472:\tlearn: 0.1034358\ttotal: 2.57s\tremaining: 2.86s\n",
      "473:\tlearn: 0.1032079\ttotal: 2.58s\tremaining: 2.86s\n",
      "474:\tlearn: 0.1030782\ttotal: 2.58s\tremaining: 2.85s\n",
      "475:\tlearn: 0.1030308\ttotal: 2.59s\tremaining: 2.85s\n",
      "476:\tlearn: 0.1028338\ttotal: 2.59s\tremaining: 2.84s\n",
      "477:\tlearn: 0.1027106\ttotal: 2.6s\tremaining: 2.84s\n",
      "478:\tlearn: 0.1025658\ttotal: 2.6s\tremaining: 2.83s\n",
      "479:\tlearn: 0.1024129\ttotal: 2.61s\tremaining: 2.83s\n",
      "480:\tlearn: 0.1023358\ttotal: 2.62s\tremaining: 2.83s\n",
      "481:\tlearn: 0.1022443\ttotal: 2.63s\tremaining: 2.82s\n",
      "482:\tlearn: 0.1021122\ttotal: 2.64s\tremaining: 2.83s\n",
      "483:\tlearn: 0.1020163\ttotal: 2.65s\tremaining: 2.83s\n",
      "484:\tlearn: 0.1018691\ttotal: 2.66s\tremaining: 2.82s\n",
      "485:\tlearn: 0.1017526\ttotal: 2.67s\tremaining: 2.82s\n",
      "486:\tlearn: 0.1016356\ttotal: 2.67s\tremaining: 2.82s\n",
      "487:\tlearn: 0.1015302\ttotal: 2.69s\tremaining: 2.82s\n",
      "488:\tlearn: 0.1014373\ttotal: 2.7s\tremaining: 2.82s\n",
      "489:\tlearn: 0.1013193\ttotal: 2.71s\tremaining: 2.82s\n",
      "490:\tlearn: 0.1012222\ttotal: 2.72s\tremaining: 2.82s\n",
      "491:\tlearn: 0.1010938\ttotal: 2.73s\tremaining: 2.82s\n",
      "492:\tlearn: 0.1009261\ttotal: 2.74s\tremaining: 2.82s\n",
      "493:\tlearn: 0.1007528\ttotal: 2.75s\tremaining: 2.82s\n",
      "494:\tlearn: 0.1006178\ttotal: 2.75s\tremaining: 2.81s\n",
      "495:\tlearn: 0.1004909\ttotal: 2.76s\tremaining: 2.81s\n",
      "496:\tlearn: 0.1004224\ttotal: 2.77s\tremaining: 2.8s\n",
      "497:\tlearn: 0.1003440\ttotal: 2.77s\tremaining: 2.8s\n",
      "498:\tlearn: 0.1001783\ttotal: 2.78s\tremaining: 2.79s\n",
      "499:\tlearn: 0.1000531\ttotal: 2.79s\tremaining: 2.79s\n",
      "500:\tlearn: 0.0999793\ttotal: 2.8s\tremaining: 2.79s\n",
      "501:\tlearn: 0.0998178\ttotal: 2.81s\tremaining: 2.79s\n",
      "502:\tlearn: 0.0996512\ttotal: 2.81s\tremaining: 2.78s\n",
      "503:\tlearn: 0.0995638\ttotal: 2.82s\tremaining: 2.77s\n",
      "504:\tlearn: 0.0994135\ttotal: 2.82s\tremaining: 2.77s\n",
      "505:\tlearn: 0.0993113\ttotal: 2.83s\tremaining: 2.76s\n",
      "506:\tlearn: 0.0991818\ttotal: 2.83s\tremaining: 2.75s\n",
      "507:\tlearn: 0.0989971\ttotal: 2.84s\tremaining: 2.75s\n",
      "508:\tlearn: 0.0988825\ttotal: 2.84s\tremaining: 2.74s\n",
      "509:\tlearn: 0.0988099\ttotal: 2.85s\tremaining: 2.74s\n",
      "510:\tlearn: 0.0986655\ttotal: 2.85s\tremaining: 2.73s\n",
      "511:\tlearn: 0.0984526\ttotal: 2.86s\tremaining: 2.72s\n",
      "512:\tlearn: 0.0983654\ttotal: 2.86s\tremaining: 2.72s\n",
      "513:\tlearn: 0.0982252\ttotal: 2.87s\tremaining: 2.71s\n",
      "514:\tlearn: 0.0981564\ttotal: 2.87s\tremaining: 2.7s\n",
      "515:\tlearn: 0.0980676\ttotal: 2.88s\tremaining: 2.7s\n",
      "516:\tlearn: 0.0979787\ttotal: 2.88s\tremaining: 2.69s\n",
      "517:\tlearn: 0.0979291\ttotal: 2.88s\tremaining: 2.68s\n",
      "518:\tlearn: 0.0977672\ttotal: 2.89s\tremaining: 2.68s\n",
      "519:\tlearn: 0.0976927\ttotal: 2.89s\tremaining: 2.67s\n",
      "520:\tlearn: 0.0975733\ttotal: 2.9s\tremaining: 2.67s\n",
      "521:\tlearn: 0.0974377\ttotal: 2.9s\tremaining: 2.66s\n",
      "522:\tlearn: 0.0973539\ttotal: 2.91s\tremaining: 2.65s\n",
      "523:\tlearn: 0.0972327\ttotal: 2.91s\tremaining: 2.65s\n",
      "524:\tlearn: 0.0970920\ttotal: 2.92s\tremaining: 2.64s\n",
      "525:\tlearn: 0.0970358\ttotal: 2.92s\tremaining: 2.63s\n",
      "526:\tlearn: 0.0968980\ttotal: 2.93s\tremaining: 2.63s\n",
      "527:\tlearn: 0.0967782\ttotal: 2.93s\tremaining: 2.62s\n",
      "528:\tlearn: 0.0966366\ttotal: 2.94s\tremaining: 2.62s\n",
      "529:\tlearn: 0.0964345\ttotal: 2.94s\tremaining: 2.61s\n",
      "530:\tlearn: 0.0963218\ttotal: 2.95s\tremaining: 2.6s\n",
      "531:\tlearn: 0.0961282\ttotal: 2.95s\tremaining: 2.6s\n",
      "532:\tlearn: 0.0960260\ttotal: 2.96s\tremaining: 2.59s\n",
      "533:\tlearn: 0.0958832\ttotal: 2.96s\tremaining: 2.58s\n",
      "534:\tlearn: 0.0957689\ttotal: 2.96s\tremaining: 2.58s\n",
      "535:\tlearn: 0.0955677\ttotal: 2.97s\tremaining: 2.57s\n",
      "536:\tlearn: 0.0954494\ttotal: 2.98s\tremaining: 2.56s\n",
      "537:\tlearn: 0.0953438\ttotal: 2.98s\tremaining: 2.56s\n",
      "538:\tlearn: 0.0952134\ttotal: 2.98s\tremaining: 2.55s\n",
      "539:\tlearn: 0.0951439\ttotal: 2.99s\tremaining: 2.54s\n",
      "540:\tlearn: 0.0950623\ttotal: 2.99s\tremaining: 2.54s\n",
      "541:\tlearn: 0.0950431\ttotal: 3s\tremaining: 2.53s\n",
      "542:\tlearn: 0.0949895\ttotal: 3s\tremaining: 2.52s\n",
      "543:\tlearn: 0.0949294\ttotal: 3s\tremaining: 2.52s\n",
      "544:\tlearn: 0.0948363\ttotal: 3.01s\tremaining: 2.51s\n",
      "545:\tlearn: 0.0946591\ttotal: 3.01s\tremaining: 2.51s\n",
      "546:\tlearn: 0.0945375\ttotal: 3.02s\tremaining: 2.5s\n",
      "547:\tlearn: 0.0944274\ttotal: 3.02s\tremaining: 2.49s\n",
      "548:\tlearn: 0.0943181\ttotal: 3.03s\tremaining: 2.49s\n",
      "549:\tlearn: 0.0941685\ttotal: 3.03s\tremaining: 2.48s\n",
      "550:\tlearn: 0.0940266\ttotal: 3.04s\tremaining: 2.47s\n",
      "551:\tlearn: 0.0938564\ttotal: 3.04s\tremaining: 2.47s\n",
      "552:\tlearn: 0.0937470\ttotal: 3.04s\tremaining: 2.46s\n",
      "553:\tlearn: 0.0936082\ttotal: 3.05s\tremaining: 2.45s\n",
      "554:\tlearn: 0.0935584\ttotal: 3.05s\tremaining: 2.45s\n",
      "555:\tlearn: 0.0934573\ttotal: 3.06s\tremaining: 2.44s\n",
      "556:\tlearn: 0.0932776\ttotal: 3.06s\tremaining: 2.43s\n",
      "557:\tlearn: 0.0931956\ttotal: 3.06s\tremaining: 2.43s\n",
      "558:\tlearn: 0.0930291\ttotal: 3.07s\tremaining: 2.42s\n",
      "559:\tlearn: 0.0929079\ttotal: 3.08s\tremaining: 2.42s\n",
      "560:\tlearn: 0.0927818\ttotal: 3.08s\tremaining: 2.41s\n",
      "561:\tlearn: 0.0926840\ttotal: 3.09s\tremaining: 2.41s\n",
      "562:\tlearn: 0.0925613\ttotal: 3.09s\tremaining: 2.4s\n",
      "563:\tlearn: 0.0924983\ttotal: 3.1s\tremaining: 2.4s\n",
      "564:\tlearn: 0.0923970\ttotal: 3.11s\tremaining: 2.39s\n",
      "565:\tlearn: 0.0922729\ttotal: 3.12s\tremaining: 2.39s\n",
      "566:\tlearn: 0.0921723\ttotal: 3.12s\tremaining: 2.38s\n",
      "567:\tlearn: 0.0920286\ttotal: 3.13s\tremaining: 2.38s\n",
      "568:\tlearn: 0.0919344\ttotal: 3.13s\tremaining: 2.37s\n",
      "569:\tlearn: 0.0917921\ttotal: 3.14s\tremaining: 2.37s\n",
      "570:\tlearn: 0.0916539\ttotal: 3.14s\tremaining: 2.36s\n",
      "571:\tlearn: 0.0915327\ttotal: 3.15s\tremaining: 2.35s\n",
      "572:\tlearn: 0.0914700\ttotal: 3.15s\tremaining: 2.35s\n",
      "573:\tlearn: 0.0913501\ttotal: 3.16s\tremaining: 2.34s\n",
      "574:\tlearn: 0.0912805\ttotal: 3.16s\tremaining: 2.34s\n",
      "575:\tlearn: 0.0911413\ttotal: 3.17s\tremaining: 2.33s\n",
      "576:\tlearn: 0.0910209\ttotal: 3.17s\tremaining: 2.33s\n",
      "577:\tlearn: 0.0909364\ttotal: 3.18s\tremaining: 2.32s\n",
      "578:\tlearn: 0.0908193\ttotal: 3.18s\tremaining: 2.31s\n",
      "579:\tlearn: 0.0907417\ttotal: 3.19s\tremaining: 2.31s\n",
      "580:\tlearn: 0.0906375\ttotal: 3.19s\tremaining: 2.3s\n",
      "581:\tlearn: 0.0904834\ttotal: 3.2s\tremaining: 2.3s\n",
      "582:\tlearn: 0.0903869\ttotal: 3.2s\tremaining: 2.29s\n",
      "583:\tlearn: 0.0902783\ttotal: 3.21s\tremaining: 2.29s\n",
      "584:\tlearn: 0.0902199\ttotal: 3.21s\tremaining: 2.28s\n",
      "585:\tlearn: 0.0901404\ttotal: 3.22s\tremaining: 2.27s\n",
      "586:\tlearn: 0.0900280\ttotal: 3.22s\tremaining: 2.27s\n",
      "587:\tlearn: 0.0899639\ttotal: 3.23s\tremaining: 2.26s\n",
      "588:\tlearn: 0.0898731\ttotal: 3.23s\tremaining: 2.25s\n",
      "589:\tlearn: 0.0897685\ttotal: 3.24s\tremaining: 2.25s\n",
      "590:\tlearn: 0.0896845\ttotal: 3.24s\tremaining: 2.24s\n",
      "591:\tlearn: 0.0896222\ttotal: 3.24s\tremaining: 2.23s\n",
      "592:\tlearn: 0.0895268\ttotal: 3.25s\tremaining: 2.23s\n",
      "593:\tlearn: 0.0894261\ttotal: 3.25s\tremaining: 2.22s\n",
      "594:\tlearn: 0.0892566\ttotal: 3.26s\tremaining: 2.22s\n",
      "595:\tlearn: 0.0892033\ttotal: 3.26s\tremaining: 2.21s\n",
      "596:\tlearn: 0.0890430\ttotal: 3.27s\tremaining: 2.2s\n",
      "597:\tlearn: 0.0889530\ttotal: 3.27s\tremaining: 2.2s\n",
      "598:\tlearn: 0.0888281\ttotal: 3.27s\tremaining: 2.19s\n",
      "599:\tlearn: 0.0887518\ttotal: 3.28s\tremaining: 2.19s\n",
      "600:\tlearn: 0.0886905\ttotal: 3.28s\tremaining: 2.18s\n",
      "601:\tlearn: 0.0885438\ttotal: 3.29s\tremaining: 2.17s\n",
      "602:\tlearn: 0.0884604\ttotal: 3.29s\tremaining: 2.17s\n",
      "603:\tlearn: 0.0883986\ttotal: 3.3s\tremaining: 2.16s\n",
      "604:\tlearn: 0.0883127\ttotal: 3.3s\tremaining: 2.16s\n",
      "605:\tlearn: 0.0881563\ttotal: 3.31s\tremaining: 2.15s\n",
      "606:\tlearn: 0.0880793\ttotal: 3.31s\tremaining: 2.14s\n",
      "607:\tlearn: 0.0879386\ttotal: 3.32s\tremaining: 2.14s\n",
      "608:\tlearn: 0.0878514\ttotal: 3.32s\tremaining: 2.13s\n",
      "609:\tlearn: 0.0877147\ttotal: 3.33s\tremaining: 2.13s\n",
      "610:\tlearn: 0.0876655\ttotal: 3.33s\tremaining: 2.12s\n",
      "611:\tlearn: 0.0875313\ttotal: 3.33s\tremaining: 2.11s\n",
      "612:\tlearn: 0.0874691\ttotal: 3.34s\tremaining: 2.11s\n",
      "613:\tlearn: 0.0874124\ttotal: 3.34s\tremaining: 2.1s\n",
      "614:\tlearn: 0.0872653\ttotal: 3.35s\tremaining: 2.09s\n",
      "615:\tlearn: 0.0871858\ttotal: 3.35s\tremaining: 2.09s\n",
      "616:\tlearn: 0.0871018\ttotal: 3.35s\tremaining: 2.08s\n",
      "617:\tlearn: 0.0870160\ttotal: 3.36s\tremaining: 2.08s\n",
      "618:\tlearn: 0.0868755\ttotal: 3.36s\tremaining: 2.07s\n",
      "619:\tlearn: 0.0867808\ttotal: 3.37s\tremaining: 2.06s\n",
      "620:\tlearn: 0.0867306\ttotal: 3.37s\tremaining: 2.06s\n",
      "621:\tlearn: 0.0866639\ttotal: 3.38s\tremaining: 2.05s\n",
      "622:\tlearn: 0.0865885\ttotal: 3.38s\tremaining: 2.04s\n",
      "623:\tlearn: 0.0865398\ttotal: 3.38s\tremaining: 2.04s\n",
      "624:\tlearn: 0.0864322\ttotal: 3.39s\tremaining: 2.03s\n",
      "625:\tlearn: 0.0863078\ttotal: 3.39s\tremaining: 2.03s\n",
      "626:\tlearn: 0.0862189\ttotal: 3.4s\tremaining: 2.02s\n",
      "627:\tlearn: 0.0861011\ttotal: 3.4s\tremaining: 2.02s\n",
      "628:\tlearn: 0.0860003\ttotal: 3.41s\tremaining: 2.01s\n",
      "629:\tlearn: 0.0859279\ttotal: 3.41s\tremaining: 2s\n",
      "630:\tlearn: 0.0858025\ttotal: 3.42s\tremaining: 2s\n",
      "631:\tlearn: 0.0856545\ttotal: 3.42s\tremaining: 1.99s\n",
      "632:\tlearn: 0.0855635\ttotal: 3.42s\tremaining: 1.98s\n",
      "633:\tlearn: 0.0855200\ttotal: 3.43s\tremaining: 1.98s\n",
      "634:\tlearn: 0.0854642\ttotal: 3.43s\tremaining: 1.97s\n",
      "635:\tlearn: 0.0852870\ttotal: 3.44s\tremaining: 1.97s\n",
      "636:\tlearn: 0.0851694\ttotal: 3.44s\tremaining: 1.96s\n",
      "637:\tlearn: 0.0850485\ttotal: 3.45s\tremaining: 1.96s\n",
      "638:\tlearn: 0.0849513\ttotal: 3.45s\tremaining: 1.95s\n",
      "639:\tlearn: 0.0847953\ttotal: 3.46s\tremaining: 1.94s\n",
      "640:\tlearn: 0.0847566\ttotal: 3.46s\tremaining: 1.94s\n",
      "641:\tlearn: 0.0847130\ttotal: 3.47s\tremaining: 1.93s\n",
      "642:\tlearn: 0.0846839\ttotal: 3.47s\tremaining: 1.93s\n",
      "643:\tlearn: 0.0846065\ttotal: 3.48s\tremaining: 1.92s\n",
      "644:\tlearn: 0.0845785\ttotal: 3.48s\tremaining: 1.92s\n",
      "645:\tlearn: 0.0845284\ttotal: 3.48s\tremaining: 1.91s\n",
      "646:\tlearn: 0.0844511\ttotal: 3.49s\tremaining: 1.9s\n",
      "647:\tlearn: 0.0843253\ttotal: 3.49s\tremaining: 1.9s\n",
      "648:\tlearn: 0.0841927\ttotal: 3.5s\tremaining: 1.89s\n",
      "649:\tlearn: 0.0841177\ttotal: 3.5s\tremaining: 1.89s\n",
      "650:\tlearn: 0.0839865\ttotal: 3.51s\tremaining: 1.88s\n",
      "651:\tlearn: 0.0839509\ttotal: 3.51s\tremaining: 1.87s\n",
      "652:\tlearn: 0.0838681\ttotal: 3.52s\tremaining: 1.87s\n",
      "653:\tlearn: 0.0837567\ttotal: 3.52s\tremaining: 1.86s\n",
      "654:\tlearn: 0.0836947\ttotal: 3.52s\tremaining: 1.86s\n",
      "655:\tlearn: 0.0836660\ttotal: 3.53s\tremaining: 1.85s\n",
      "656:\tlearn: 0.0836102\ttotal: 3.53s\tremaining: 1.84s\n",
      "657:\tlearn: 0.0835647\ttotal: 3.54s\tremaining: 1.84s\n",
      "658:\tlearn: 0.0834458\ttotal: 3.54s\tremaining: 1.83s\n",
      "659:\tlearn: 0.0832376\ttotal: 3.55s\tremaining: 1.83s\n",
      "660:\tlearn: 0.0831169\ttotal: 3.56s\tremaining: 1.82s\n",
      "661:\tlearn: 0.0829879\ttotal: 3.56s\tremaining: 1.82s\n",
      "662:\tlearn: 0.0829440\ttotal: 3.57s\tremaining: 1.81s\n",
      "663:\tlearn: 0.0828511\ttotal: 3.57s\tremaining: 1.81s\n",
      "664:\tlearn: 0.0827421\ttotal: 3.58s\tremaining: 1.8s\n",
      "665:\tlearn: 0.0827058\ttotal: 3.58s\tremaining: 1.8s\n",
      "666:\tlearn: 0.0826575\ttotal: 3.59s\tremaining: 1.79s\n",
      "667:\tlearn: 0.0825221\ttotal: 3.59s\tremaining: 1.78s\n",
      "668:\tlearn: 0.0823920\ttotal: 3.6s\tremaining: 1.78s\n",
      "669:\tlearn: 0.0823520\ttotal: 3.6s\tremaining: 1.77s\n",
      "670:\tlearn: 0.0822823\ttotal: 3.61s\tremaining: 1.77s\n",
      "671:\tlearn: 0.0821590\ttotal: 3.61s\tremaining: 1.76s\n",
      "672:\tlearn: 0.0821279\ttotal: 3.62s\tremaining: 1.76s\n",
      "673:\tlearn: 0.0820377\ttotal: 3.62s\tremaining: 1.75s\n",
      "674:\tlearn: 0.0819544\ttotal: 3.63s\tremaining: 1.75s\n",
      "675:\tlearn: 0.0819053\ttotal: 3.63s\tremaining: 1.74s\n",
      "676:\tlearn: 0.0818372\ttotal: 3.64s\tremaining: 1.74s\n",
      "677:\tlearn: 0.0817035\ttotal: 3.65s\tremaining: 1.73s\n",
      "678:\tlearn: 0.0815761\ttotal: 3.66s\tremaining: 1.73s\n",
      "679:\tlearn: 0.0815425\ttotal: 3.66s\tremaining: 1.72s\n",
      "680:\tlearn: 0.0814038\ttotal: 3.67s\tremaining: 1.72s\n",
      "681:\tlearn: 0.0812797\ttotal: 3.67s\tremaining: 1.71s\n",
      "682:\tlearn: 0.0811644\ttotal: 3.68s\tremaining: 1.71s\n",
      "683:\tlearn: 0.0810791\ttotal: 3.68s\tremaining: 1.7s\n",
      "684:\tlearn: 0.0810235\ttotal: 3.69s\tremaining: 1.7s\n",
      "685:\tlearn: 0.0809487\ttotal: 3.69s\tremaining: 1.69s\n",
      "686:\tlearn: 0.0808584\ttotal: 3.7s\tremaining: 1.68s\n",
      "687:\tlearn: 0.0807518\ttotal: 3.7s\tremaining: 1.68s\n",
      "688:\tlearn: 0.0806366\ttotal: 3.71s\tremaining: 1.67s\n",
      "689:\tlearn: 0.0806136\ttotal: 3.71s\tremaining: 1.67s\n",
      "690:\tlearn: 0.0804947\ttotal: 3.71s\tremaining: 1.66s\n",
      "691:\tlearn: 0.0803937\ttotal: 3.72s\tremaining: 1.66s\n",
      "692:\tlearn: 0.0803603\ttotal: 3.72s\tremaining: 1.65s\n",
      "693:\tlearn: 0.0802325\ttotal: 3.73s\tremaining: 1.64s\n",
      "694:\tlearn: 0.0801993\ttotal: 3.73s\tremaining: 1.64s\n",
      "695:\tlearn: 0.0801392\ttotal: 3.74s\tremaining: 1.63s\n",
      "696:\tlearn: 0.0800104\ttotal: 3.74s\tremaining: 1.63s\n",
      "697:\tlearn: 0.0799098\ttotal: 3.75s\tremaining: 1.62s\n",
      "698:\tlearn: 0.0797889\ttotal: 3.75s\tremaining: 1.61s\n",
      "699:\tlearn: 0.0796871\ttotal: 3.76s\tremaining: 1.61s\n",
      "700:\tlearn: 0.0795911\ttotal: 3.76s\tremaining: 1.6s\n",
      "701:\tlearn: 0.0794755\ttotal: 3.77s\tremaining: 1.6s\n",
      "702:\tlearn: 0.0793509\ttotal: 3.77s\tremaining: 1.59s\n",
      "703:\tlearn: 0.0792866\ttotal: 3.78s\tremaining: 1.59s\n",
      "704:\tlearn: 0.0792228\ttotal: 3.78s\tremaining: 1.58s\n",
      "705:\tlearn: 0.0791278\ttotal: 3.79s\tremaining: 1.58s\n",
      "706:\tlearn: 0.0790817\ttotal: 3.79s\tremaining: 1.57s\n",
      "707:\tlearn: 0.0789888\ttotal: 3.79s\tremaining: 1.56s\n",
      "708:\tlearn: 0.0789273\ttotal: 3.8s\tremaining: 1.56s\n",
      "709:\tlearn: 0.0788992\ttotal: 3.8s\tremaining: 1.55s\n",
      "710:\tlearn: 0.0788865\ttotal: 3.81s\tremaining: 1.55s\n",
      "711:\tlearn: 0.0787757\ttotal: 3.81s\tremaining: 1.54s\n",
      "712:\tlearn: 0.0787401\ttotal: 3.82s\tremaining: 1.54s\n",
      "713:\tlearn: 0.0786804\ttotal: 3.82s\tremaining: 1.53s\n",
      "714:\tlearn: 0.0785063\ttotal: 3.83s\tremaining: 1.52s\n",
      "715:\tlearn: 0.0784173\ttotal: 3.83s\tremaining: 1.52s\n",
      "716:\tlearn: 0.0783189\ttotal: 3.84s\tremaining: 1.51s\n",
      "717:\tlearn: 0.0782277\ttotal: 3.84s\tremaining: 1.51s\n",
      "718:\tlearn: 0.0781524\ttotal: 3.85s\tremaining: 1.5s\n",
      "719:\tlearn: 0.0780306\ttotal: 3.85s\tremaining: 1.5s\n",
      "720:\tlearn: 0.0779414\ttotal: 3.85s\tremaining: 1.49s\n",
      "721:\tlearn: 0.0778490\ttotal: 3.86s\tremaining: 1.49s\n",
      "722:\tlearn: 0.0778077\ttotal: 3.86s\tremaining: 1.48s\n",
      "723:\tlearn: 0.0777492\ttotal: 3.87s\tremaining: 1.48s\n",
      "724:\tlearn: 0.0777184\ttotal: 3.87s\tremaining: 1.47s\n",
      "725:\tlearn: 0.0776511\ttotal: 3.88s\tremaining: 1.46s\n",
      "726:\tlearn: 0.0776240\ttotal: 3.88s\tremaining: 1.46s\n",
      "727:\tlearn: 0.0775550\ttotal: 3.89s\tremaining: 1.45s\n",
      "728:\tlearn: 0.0774492\ttotal: 3.89s\tremaining: 1.45s\n",
      "729:\tlearn: 0.0773451\ttotal: 3.9s\tremaining: 1.44s\n",
      "730:\tlearn: 0.0772169\ttotal: 3.9s\tremaining: 1.44s\n",
      "731:\tlearn: 0.0771899\ttotal: 3.9s\tremaining: 1.43s\n",
      "732:\tlearn: 0.0770495\ttotal: 3.91s\tremaining: 1.42s\n",
      "733:\tlearn: 0.0769632\ttotal: 3.92s\tremaining: 1.42s\n",
      "734:\tlearn: 0.0768794\ttotal: 3.92s\tremaining: 1.41s\n",
      "735:\tlearn: 0.0768299\ttotal: 3.92s\tremaining: 1.41s\n",
      "736:\tlearn: 0.0767802\ttotal: 3.93s\tremaining: 1.4s\n",
      "737:\tlearn: 0.0767011\ttotal: 3.93s\tremaining: 1.4s\n",
      "738:\tlearn: 0.0766088\ttotal: 3.94s\tremaining: 1.39s\n",
      "739:\tlearn: 0.0765415\ttotal: 3.94s\tremaining: 1.39s\n",
      "740:\tlearn: 0.0764345\ttotal: 3.95s\tremaining: 1.38s\n",
      "741:\tlearn: 0.0763479\ttotal: 3.95s\tremaining: 1.37s\n",
      "742:\tlearn: 0.0762350\ttotal: 3.96s\tremaining: 1.37s\n",
      "743:\tlearn: 0.0761800\ttotal: 3.96s\tremaining: 1.36s\n",
      "744:\tlearn: 0.0761249\ttotal: 3.97s\tremaining: 1.36s\n",
      "745:\tlearn: 0.0760782\ttotal: 3.97s\tremaining: 1.35s\n",
      "746:\tlearn: 0.0760083\ttotal: 3.98s\tremaining: 1.35s\n",
      "747:\tlearn: 0.0759157\ttotal: 3.98s\tremaining: 1.34s\n",
      "748:\tlearn: 0.0758308\ttotal: 3.99s\tremaining: 1.34s\n",
      "749:\tlearn: 0.0757610\ttotal: 3.99s\tremaining: 1.33s\n",
      "750:\tlearn: 0.0756859\ttotal: 4s\tremaining: 1.32s\n",
      "751:\tlearn: 0.0756030\ttotal: 4s\tremaining: 1.32s\n",
      "752:\tlearn: 0.0755670\ttotal: 4.01s\tremaining: 1.31s\n",
      "753:\tlearn: 0.0755151\ttotal: 4.01s\tremaining: 1.31s\n",
      "754:\tlearn: 0.0754573\ttotal: 4.02s\tremaining: 1.3s\n",
      "755:\tlearn: 0.0754066\ttotal: 4.02s\tremaining: 1.3s\n",
      "756:\tlearn: 0.0753136\ttotal: 4.03s\tremaining: 1.29s\n",
      "757:\tlearn: 0.0752416\ttotal: 4.03s\tremaining: 1.29s\n",
      "758:\tlearn: 0.0751787\ttotal: 4.04s\tremaining: 1.28s\n",
      "759:\tlearn: 0.0751019\ttotal: 4.04s\tremaining: 1.27s\n",
      "760:\tlearn: 0.0750198\ttotal: 4.04s\tremaining: 1.27s\n",
      "761:\tlearn: 0.0749630\ttotal: 4.05s\tremaining: 1.26s\n",
      "762:\tlearn: 0.0748630\ttotal: 4.05s\tremaining: 1.26s\n",
      "763:\tlearn: 0.0747660\ttotal: 4.06s\tremaining: 1.25s\n",
      "764:\tlearn: 0.0747008\ttotal: 4.06s\tremaining: 1.25s\n",
      "765:\tlearn: 0.0746257\ttotal: 4.07s\tremaining: 1.24s\n",
      "766:\tlearn: 0.0745199\ttotal: 4.07s\tremaining: 1.24s\n",
      "767:\tlearn: 0.0744459\ttotal: 4.07s\tremaining: 1.23s\n",
      "768:\tlearn: 0.0743923\ttotal: 4.08s\tremaining: 1.23s\n",
      "769:\tlearn: 0.0742906\ttotal: 4.08s\tremaining: 1.22s\n",
      "770:\tlearn: 0.0741835\ttotal: 4.09s\tremaining: 1.21s\n",
      "771:\tlearn: 0.0740858\ttotal: 4.09s\tremaining: 1.21s\n",
      "772:\tlearn: 0.0739637\ttotal: 4.1s\tremaining: 1.2s\n",
      "773:\tlearn: 0.0739210\ttotal: 4.11s\tremaining: 1.2s\n",
      "774:\tlearn: 0.0738323\ttotal: 4.12s\tremaining: 1.2s\n",
      "775:\tlearn: 0.0738176\ttotal: 4.13s\tremaining: 1.19s\n",
      "776:\tlearn: 0.0737636\ttotal: 4.13s\tremaining: 1.19s\n",
      "777:\tlearn: 0.0736671\ttotal: 4.14s\tremaining: 1.18s\n",
      "778:\tlearn: 0.0736194\ttotal: 4.15s\tremaining: 1.18s\n",
      "779:\tlearn: 0.0735625\ttotal: 4.16s\tremaining: 1.17s\n",
      "780:\tlearn: 0.0735351\ttotal: 4.17s\tremaining: 1.17s\n",
      "781:\tlearn: 0.0734149\ttotal: 4.18s\tremaining: 1.17s\n",
      "782:\tlearn: 0.0733287\ttotal: 4.19s\tremaining: 1.16s\n",
      "783:\tlearn: 0.0732413\ttotal: 4.2s\tremaining: 1.16s\n",
      "784:\tlearn: 0.0731430\ttotal: 4.21s\tremaining: 1.15s\n",
      "785:\tlearn: 0.0730910\ttotal: 4.22s\tremaining: 1.15s\n",
      "786:\tlearn: 0.0730104\ttotal: 4.22s\tremaining: 1.14s\n",
      "787:\tlearn: 0.0729631\ttotal: 4.23s\tremaining: 1.14s\n",
      "788:\tlearn: 0.0729223\ttotal: 4.24s\tremaining: 1.13s\n",
      "789:\tlearn: 0.0728418\ttotal: 4.25s\tremaining: 1.13s\n",
      "790:\tlearn: 0.0727493\ttotal: 4.25s\tremaining: 1.12s\n",
      "791:\tlearn: 0.0727212\ttotal: 4.26s\tremaining: 1.12s\n",
      "792:\tlearn: 0.0726483\ttotal: 4.26s\tremaining: 1.11s\n",
      "793:\tlearn: 0.0725723\ttotal: 4.27s\tremaining: 1.11s\n",
      "794:\tlearn: 0.0725445\ttotal: 4.27s\tremaining: 1.1s\n",
      "795:\tlearn: 0.0724094\ttotal: 4.28s\tremaining: 1.1s\n",
      "796:\tlearn: 0.0723379\ttotal: 4.28s\tremaining: 1.09s\n",
      "797:\tlearn: 0.0722270\ttotal: 4.29s\tremaining: 1.08s\n",
      "798:\tlearn: 0.0721644\ttotal: 4.29s\tremaining: 1.08s\n",
      "799:\tlearn: 0.0721139\ttotal: 4.3s\tremaining: 1.07s\n",
      "800:\tlearn: 0.0720256\ttotal: 4.3s\tremaining: 1.07s\n",
      "801:\tlearn: 0.0719594\ttotal: 4.31s\tremaining: 1.06s\n",
      "802:\tlearn: 0.0719153\ttotal: 4.31s\tremaining: 1.06s\n",
      "803:\tlearn: 0.0717993\ttotal: 4.32s\tremaining: 1.05s\n",
      "804:\tlearn: 0.0717693\ttotal: 4.32s\tremaining: 1.05s\n",
      "805:\tlearn: 0.0717105\ttotal: 4.33s\tremaining: 1.04s\n",
      "806:\tlearn: 0.0716916\ttotal: 4.33s\tremaining: 1.04s\n",
      "807:\tlearn: 0.0716199\ttotal: 4.34s\tremaining: 1.03s\n",
      "808:\tlearn: 0.0715799\ttotal: 4.34s\tremaining: 1.02s\n",
      "809:\tlearn: 0.0714877\ttotal: 4.35s\tremaining: 1.02s\n",
      "810:\tlearn: 0.0714387\ttotal: 4.35s\tremaining: 1.01s\n",
      "811:\tlearn: 0.0713870\ttotal: 4.36s\tremaining: 1.01s\n",
      "812:\tlearn: 0.0713256\ttotal: 4.36s\tremaining: 1s\n",
      "813:\tlearn: 0.0712773\ttotal: 4.37s\tremaining: 998ms\n",
      "814:\tlearn: 0.0712188\ttotal: 4.37s\tremaining: 992ms\n",
      "815:\tlearn: 0.0711589\ttotal: 4.38s\tremaining: 987ms\n",
      "816:\tlearn: 0.0710884\ttotal: 4.38s\tremaining: 981ms\n",
      "817:\tlearn: 0.0709845\ttotal: 4.38s\tremaining: 976ms\n",
      "818:\tlearn: 0.0709018\ttotal: 4.39s\tremaining: 970ms\n",
      "819:\tlearn: 0.0708003\ttotal: 4.39s\tremaining: 964ms\n",
      "820:\tlearn: 0.0707497\ttotal: 4.4s\tremaining: 959ms\n",
      "821:\tlearn: 0.0707060\ttotal: 4.4s\tremaining: 953ms\n",
      "822:\tlearn: 0.0705793\ttotal: 4.41s\tremaining: 948ms\n",
      "823:\tlearn: 0.0705354\ttotal: 4.41s\tremaining: 942ms\n",
      "824:\tlearn: 0.0704425\ttotal: 4.42s\tremaining: 937ms\n",
      "825:\tlearn: 0.0703453\ttotal: 4.42s\tremaining: 931ms\n",
      "826:\tlearn: 0.0702856\ttotal: 4.42s\tremaining: 926ms\n",
      "827:\tlearn: 0.0702065\ttotal: 4.43s\tremaining: 920ms\n",
      "828:\tlearn: 0.0701636\ttotal: 4.43s\tremaining: 915ms\n",
      "829:\tlearn: 0.0701291\ttotal: 4.44s\tremaining: 909ms\n",
      "830:\tlearn: 0.0700808\ttotal: 4.44s\tremaining: 904ms\n",
      "831:\tlearn: 0.0699568\ttotal: 4.45s\tremaining: 898ms\n",
      "832:\tlearn: 0.0699147\ttotal: 4.45s\tremaining: 893ms\n",
      "833:\tlearn: 0.0698673\ttotal: 4.46s\tremaining: 887ms\n",
      "834:\tlearn: 0.0697594\ttotal: 4.46s\tremaining: 882ms\n",
      "835:\tlearn: 0.0696725\ttotal: 4.47s\tremaining: 876ms\n",
      "836:\tlearn: 0.0696265\ttotal: 4.47s\tremaining: 871ms\n",
      "837:\tlearn: 0.0695656\ttotal: 4.48s\tremaining: 865ms\n",
      "838:\tlearn: 0.0695080\ttotal: 4.48s\tremaining: 860ms\n",
      "839:\tlearn: 0.0694349\ttotal: 4.48s\tremaining: 854ms\n",
      "840:\tlearn: 0.0693433\ttotal: 4.49s\tremaining: 849ms\n",
      "841:\tlearn: 0.0692606\ttotal: 4.49s\tremaining: 843ms\n",
      "842:\tlearn: 0.0691971\ttotal: 4.5s\tremaining: 838ms\n",
      "843:\tlearn: 0.0691427\ttotal: 4.5s\tremaining: 832ms\n",
      "844:\tlearn: 0.0690728\ttotal: 4.51s\tremaining: 827ms\n",
      "845:\tlearn: 0.0690103\ttotal: 4.51s\tremaining: 822ms\n",
      "846:\tlearn: 0.0689728\ttotal: 4.52s\tremaining: 816ms\n",
      "847:\tlearn: 0.0689609\ttotal: 4.52s\tremaining: 811ms\n",
      "848:\tlearn: 0.0688601\ttotal: 4.53s\tremaining: 805ms\n",
      "849:\tlearn: 0.0688441\ttotal: 4.53s\tremaining: 799ms\n",
      "850:\tlearn: 0.0688091\ttotal: 4.54s\tremaining: 794ms\n",
      "851:\tlearn: 0.0687592\ttotal: 4.54s\tremaining: 789ms\n",
      "852:\tlearn: 0.0686804\ttotal: 4.55s\tremaining: 783ms\n",
      "853:\tlearn: 0.0685827\ttotal: 4.55s\tremaining: 778ms\n",
      "854:\tlearn: 0.0685110\ttotal: 4.56s\tremaining: 773ms\n",
      "855:\tlearn: 0.0684279\ttotal: 4.56s\tremaining: 767ms\n",
      "856:\tlearn: 0.0683530\ttotal: 4.57s\tremaining: 762ms\n",
      "857:\tlearn: 0.0683148\ttotal: 4.57s\tremaining: 756ms\n",
      "858:\tlearn: 0.0682271\ttotal: 4.57s\tremaining: 751ms\n",
      "859:\tlearn: 0.0681614\ttotal: 4.58s\tremaining: 745ms\n",
      "860:\tlearn: 0.0681298\ttotal: 4.58s\tremaining: 740ms\n",
      "861:\tlearn: 0.0680174\ttotal: 4.59s\tremaining: 735ms\n",
      "862:\tlearn: 0.0679655\ttotal: 4.59s\tremaining: 729ms\n",
      "863:\tlearn: 0.0678835\ttotal: 4.6s\tremaining: 724ms\n",
      "864:\tlearn: 0.0678407\ttotal: 4.6s\tremaining: 718ms\n",
      "865:\tlearn: 0.0678017\ttotal: 4.61s\tremaining: 713ms\n",
      "866:\tlearn: 0.0677572\ttotal: 4.61s\tremaining: 707ms\n",
      "867:\tlearn: 0.0677483\ttotal: 4.62s\tremaining: 702ms\n",
      "868:\tlearn: 0.0676686\ttotal: 4.62s\tremaining: 697ms\n",
      "869:\tlearn: 0.0676099\ttotal: 4.63s\tremaining: 691ms\n",
      "870:\tlearn: 0.0675507\ttotal: 4.63s\tremaining: 686ms\n",
      "871:\tlearn: 0.0675025\ttotal: 4.64s\tremaining: 681ms\n",
      "872:\tlearn: 0.0674713\ttotal: 4.64s\tremaining: 676ms\n",
      "873:\tlearn: 0.0673954\ttotal: 4.65s\tremaining: 671ms\n",
      "874:\tlearn: 0.0673407\ttotal: 4.66s\tremaining: 666ms\n",
      "875:\tlearn: 0.0673018\ttotal: 4.67s\tremaining: 661ms\n",
      "876:\tlearn: 0.0672249\ttotal: 4.68s\tremaining: 656ms\n",
      "877:\tlearn: 0.0671921\ttotal: 4.69s\tremaining: 652ms\n",
      "878:\tlearn: 0.0670980\ttotal: 4.7s\tremaining: 647ms\n",
      "879:\tlearn: 0.0670230\ttotal: 4.71s\tremaining: 643ms\n",
      "880:\tlearn: 0.0669721\ttotal: 4.72s\tremaining: 638ms\n",
      "881:\tlearn: 0.0669246\ttotal: 4.73s\tremaining: 633ms\n",
      "882:\tlearn: 0.0668888\ttotal: 4.73s\tremaining: 627ms\n",
      "883:\tlearn: 0.0668144\ttotal: 4.74s\tremaining: 622ms\n",
      "884:\tlearn: 0.0667905\ttotal: 4.75s\tremaining: 617ms\n",
      "885:\tlearn: 0.0667060\ttotal: 4.76s\tremaining: 612ms\n",
      "886:\tlearn: 0.0666650\ttotal: 4.77s\tremaining: 608ms\n",
      "887:\tlearn: 0.0665956\ttotal: 4.78s\tremaining: 603ms\n",
      "888:\tlearn: 0.0665503\ttotal: 4.79s\tremaining: 598ms\n",
      "889:\tlearn: 0.0664652\ttotal: 4.79s\tremaining: 592ms\n",
      "890:\tlearn: 0.0663563\ttotal: 4.8s\tremaining: 587ms\n",
      "891:\tlearn: 0.0662637\ttotal: 4.8s\tremaining: 582ms\n",
      "892:\tlearn: 0.0662225\ttotal: 4.81s\tremaining: 576ms\n",
      "893:\tlearn: 0.0661527\ttotal: 4.82s\tremaining: 571ms\n",
      "894:\tlearn: 0.0660692\ttotal: 4.82s\tremaining: 566ms\n",
      "895:\tlearn: 0.0660279\ttotal: 4.83s\tremaining: 560ms\n",
      "896:\tlearn: 0.0659904\ttotal: 4.83s\tremaining: 555ms\n",
      "897:\tlearn: 0.0659418\ttotal: 4.84s\tremaining: 549ms\n",
      "898:\tlearn: 0.0658875\ttotal: 4.84s\tremaining: 544ms\n",
      "899:\tlearn: 0.0658344\ttotal: 4.85s\tremaining: 539ms\n",
      "900:\tlearn: 0.0657494\ttotal: 4.85s\tremaining: 533ms\n",
      "901:\tlearn: 0.0656804\ttotal: 4.86s\tremaining: 528ms\n",
      "902:\tlearn: 0.0655912\ttotal: 4.86s\tremaining: 523ms\n",
      "903:\tlearn: 0.0655282\ttotal: 4.87s\tremaining: 517ms\n",
      "904:\tlearn: 0.0655011\ttotal: 4.88s\tremaining: 512ms\n",
      "905:\tlearn: 0.0654618\ttotal: 4.88s\tremaining: 507ms\n",
      "906:\tlearn: 0.0654314\ttotal: 4.89s\tremaining: 502ms\n",
      "907:\tlearn: 0.0653830\ttotal: 4.9s\tremaining: 496ms\n",
      "908:\tlearn: 0.0653469\ttotal: 4.91s\tremaining: 491ms\n",
      "909:\tlearn: 0.0653165\ttotal: 4.92s\tremaining: 486ms\n",
      "910:\tlearn: 0.0652407\ttotal: 4.92s\tremaining: 481ms\n",
      "911:\tlearn: 0.0651920\ttotal: 4.93s\tremaining: 476ms\n",
      "912:\tlearn: 0.0651165\ttotal: 4.93s\tremaining: 470ms\n",
      "913:\tlearn: 0.0650675\ttotal: 4.94s\tremaining: 465ms\n",
      "914:\tlearn: 0.0649915\ttotal: 4.95s\tremaining: 460ms\n",
      "915:\tlearn: 0.0649428\ttotal: 4.95s\tremaining: 454ms\n",
      "916:\tlearn: 0.0648559\ttotal: 4.96s\tremaining: 449ms\n",
      "917:\tlearn: 0.0648157\ttotal: 4.96s\tremaining: 444ms\n",
      "918:\tlearn: 0.0647991\ttotal: 4.97s\tremaining: 438ms\n",
      "919:\tlearn: 0.0647616\ttotal: 4.98s\tremaining: 433ms\n",
      "920:\tlearn: 0.0647007\ttotal: 4.99s\tremaining: 428ms\n",
      "921:\tlearn: 0.0646939\ttotal: 4.99s\tremaining: 422ms\n",
      "922:\tlearn: 0.0646278\ttotal: 5s\tremaining: 417ms\n",
      "923:\tlearn: 0.0645871\ttotal: 5s\tremaining: 411ms\n",
      "924:\tlearn: 0.0645316\ttotal: 5.01s\tremaining: 406ms\n",
      "925:\tlearn: 0.0644849\ttotal: 5.01s\tremaining: 401ms\n",
      "926:\tlearn: 0.0643989\ttotal: 5.02s\tremaining: 395ms\n",
      "927:\tlearn: 0.0643531\ttotal: 5.02s\tremaining: 390ms\n",
      "928:\tlearn: 0.0643481\ttotal: 5.03s\tremaining: 384ms\n",
      "929:\tlearn: 0.0642757\ttotal: 5.03s\tremaining: 379ms\n",
      "930:\tlearn: 0.0642313\ttotal: 5.04s\tremaining: 373ms\n",
      "931:\tlearn: 0.0641572\ttotal: 5.04s\tremaining: 368ms\n",
      "932:\tlearn: 0.0640621\ttotal: 5.04s\tremaining: 362ms\n",
      "933:\tlearn: 0.0640064\ttotal: 5.05s\tremaining: 357ms\n",
      "934:\tlearn: 0.0639645\ttotal: 5.06s\tremaining: 351ms\n",
      "935:\tlearn: 0.0639353\ttotal: 5.06s\tremaining: 346ms\n",
      "936:\tlearn: 0.0638962\ttotal: 5.06s\tremaining: 341ms\n",
      "937:\tlearn: 0.0638100\ttotal: 5.07s\tremaining: 335ms\n",
      "938:\tlearn: 0.0637663\ttotal: 5.07s\tremaining: 330ms\n",
      "939:\tlearn: 0.0636974\ttotal: 5.08s\tremaining: 324ms\n",
      "940:\tlearn: 0.0636288\ttotal: 5.08s\tremaining: 319ms\n",
      "941:\tlearn: 0.0635951\ttotal: 5.09s\tremaining: 313ms\n",
      "942:\tlearn: 0.0635689\ttotal: 5.09s\tremaining: 308ms\n",
      "943:\tlearn: 0.0635075\ttotal: 5.1s\tremaining: 302ms\n",
      "944:\tlearn: 0.0634080\ttotal: 5.1s\tremaining: 297ms\n",
      "945:\tlearn: 0.0633610\ttotal: 5.11s\tremaining: 292ms\n",
      "946:\tlearn: 0.0632915\ttotal: 5.11s\tremaining: 286ms\n",
      "947:\tlearn: 0.0632434\ttotal: 5.12s\tremaining: 281ms\n",
      "948:\tlearn: 0.0631703\ttotal: 5.12s\tremaining: 275ms\n",
      "949:\tlearn: 0.0631070\ttotal: 5.13s\tremaining: 270ms\n",
      "950:\tlearn: 0.0630536\ttotal: 5.14s\tremaining: 265ms\n",
      "951:\tlearn: 0.0629640\ttotal: 5.14s\tremaining: 259ms\n",
      "952:\tlearn: 0.0629183\ttotal: 5.15s\tremaining: 254ms\n",
      "953:\tlearn: 0.0628421\ttotal: 5.15s\tremaining: 248ms\n",
      "954:\tlearn: 0.0628105\ttotal: 5.16s\tremaining: 243ms\n",
      "955:\tlearn: 0.0627184\ttotal: 5.16s\tremaining: 238ms\n",
      "956:\tlearn: 0.0626455\ttotal: 5.17s\tremaining: 232ms\n",
      "957:\tlearn: 0.0626058\ttotal: 5.17s\tremaining: 227ms\n",
      "958:\tlearn: 0.0625621\ttotal: 5.18s\tremaining: 221ms\n",
      "959:\tlearn: 0.0625264\ttotal: 5.18s\tremaining: 216ms\n",
      "960:\tlearn: 0.0624476\ttotal: 5.19s\tremaining: 211ms\n",
      "961:\tlearn: 0.0623480\ttotal: 5.19s\tremaining: 205ms\n",
      "962:\tlearn: 0.0622738\ttotal: 5.2s\tremaining: 200ms\n",
      "963:\tlearn: 0.0622354\ttotal: 5.2s\tremaining: 194ms\n",
      "964:\tlearn: 0.0622086\ttotal: 5.21s\tremaining: 189ms\n",
      "965:\tlearn: 0.0621452\ttotal: 5.21s\tremaining: 184ms\n",
      "966:\tlearn: 0.0620880\ttotal: 5.22s\tremaining: 178ms\n",
      "967:\tlearn: 0.0620414\ttotal: 5.23s\tremaining: 173ms\n",
      "968:\tlearn: 0.0619919\ttotal: 5.23s\tremaining: 167ms\n",
      "969:\tlearn: 0.0618876\ttotal: 5.24s\tremaining: 162ms\n",
      "970:\tlearn: 0.0618203\ttotal: 5.25s\tremaining: 157ms\n",
      "971:\tlearn: 0.0617954\ttotal: 5.25s\tremaining: 151ms\n",
      "972:\tlearn: 0.0617647\ttotal: 5.26s\tremaining: 146ms\n",
      "973:\tlearn: 0.0617179\ttotal: 5.26s\tremaining: 141ms\n",
      "974:\tlearn: 0.0616237\ttotal: 5.27s\tremaining: 135ms\n",
      "975:\tlearn: 0.0615420\ttotal: 5.27s\tremaining: 130ms\n",
      "976:\tlearn: 0.0615050\ttotal: 5.28s\tremaining: 124ms\n",
      "977:\tlearn: 0.0614669\ttotal: 5.28s\tremaining: 119ms\n",
      "978:\tlearn: 0.0613999\ttotal: 5.29s\tremaining: 113ms\n",
      "979:\tlearn: 0.0613300\ttotal: 5.29s\tremaining: 108ms\n",
      "980:\tlearn: 0.0612536\ttotal: 5.29s\tremaining: 103ms\n",
      "981:\tlearn: 0.0612190\ttotal: 5.3s\tremaining: 97.1ms\n",
      "982:\tlearn: 0.0611942\ttotal: 5.3s\tremaining: 91.7ms\n",
      "983:\tlearn: 0.0611465\ttotal: 5.31s\tremaining: 86.3ms\n",
      "984:\tlearn: 0.0611126\ttotal: 5.31s\tremaining: 80.9ms\n",
      "985:\tlearn: 0.0610460\ttotal: 5.32s\tremaining: 75.5ms\n",
      "986:\tlearn: 0.0610145\ttotal: 5.32s\tremaining: 70.1ms\n",
      "987:\tlearn: 0.0609542\ttotal: 5.33s\tremaining: 64.7ms\n",
      "988:\tlearn: 0.0608891\ttotal: 5.33s\tremaining: 59.3ms\n",
      "989:\tlearn: 0.0608532\ttotal: 5.34s\tremaining: 53.9ms\n",
      "990:\tlearn: 0.0608324\ttotal: 5.34s\tremaining: 48.5ms\n",
      "991:\tlearn: 0.0607748\ttotal: 5.35s\tremaining: 43.1ms\n",
      "992:\tlearn: 0.0607405\ttotal: 5.35s\tremaining: 37.7ms\n",
      "993:\tlearn: 0.0606866\ttotal: 5.36s\tremaining: 32.3ms\n",
      "994:\tlearn: 0.0606532\ttotal: 5.36s\tremaining: 27ms\n",
      "995:\tlearn: 0.0605843\ttotal: 5.37s\tremaining: 21.6ms\n",
      "996:\tlearn: 0.0605320\ttotal: 5.38s\tremaining: 16.2ms\n",
      "997:\tlearn: 0.0604979\ttotal: 5.39s\tremaining: 10.8ms\n",
      "998:\tlearn: 0.0604424\ttotal: 5.4s\tremaining: 5.4ms\n",
      "999:\tlearn: 0.0604177\ttotal: 5.41s\tremaining: 0us\n",
      "mean_absolute_error: 0.11725182397640113\n",
      "\n",
      "\n",
      "mean_Squared_error: 0.03351016271982554\n",
      "\n",
      "\n",
      "R2_score: 86.59118382980047\n",
      "\n",
      "\n",
      "mean_absolute_percentage_error: 301623239715788.5\n"
     ]
    }
   ],
   "source": [
    "M17=CatBoostRegressor()\n",
    "M17.fit(X_train,y_train)\n",
    "P17=M17.predict(X_test)"
   ]
  },
  {
   "cell_type": "code",
   "execution_count": 388,
   "id": "1bffc1d1",
   "metadata": {},
   "outputs": [
    {
     "name": "stdout",
     "output_type": "stream",
     "text": [
      "mean_absolute_error: 0.11725182397640113\n",
      "\n",
      "\n",
      "mean_Squared_error: 0.03351016271982554\n",
      "\n",
      "\n",
      "R2_score: 86.59118382980047\n",
      "\n",
      "\n",
      "mean_absolute_percentage_error: 301623239715788.5\n"
     ]
    }
   ],
   "source": [
    "print('mean_absolute_error:',mean_absolute_error(y_test,P17))\n",
    "print('\\n')\n",
    "print('mean_Squared_error:',mean_squared_error(y_test,P17))\n",
    "print('\\n')\n",
    "print('R2_score:',100*r2_score(y_test,P17))\n",
    "print('\\n')\n",
    "print('mean_absolute_percentage_error:',mean_absolute_percentage_error(y_test,P17))"
   ]
  },
  {
   "cell_type": "code",
   "execution_count": 389,
   "id": "8a394656",
   "metadata": {},
   "outputs": [],
   "source": [
    "from lightgbm import LGBMRegressor"
   ]
  },
  {
   "cell_type": "code",
   "execution_count": 390,
   "id": "91f6fc89",
   "metadata": {},
   "outputs": [
    {
     "name": "stdout",
     "output_type": "stream",
     "text": [
      "mean_absolute_error: 0.12276082455890787\n",
      "\n",
      "\n",
      "mean_Squared_error: 0.038055264203214326\n",
      "\n",
      "\n",
      "R2_score: 84.77249883041058\n",
      "\n",
      "\n",
      "mean_absolute_percentage_error: 301754204064858.25\n"
     ]
    }
   ],
   "source": [
    "M18=LGBMRegressor()\n",
    "M18.fit(X_train,y_train)\n",
    "P18=M18.predict(X_test)\n",
    "print('mean_absolute_error:',mean_absolute_error(y_test,P18))\n",
    "print('\\n')\n",
    "print('mean_Squared_error:',mean_squared_error(y_test,P18))\n",
    "print('\\n')\n",
    "print('R2_score:',100*r2_score(y_test,P18))\n",
    "print('\\n')\n",
    "print('mean_absolute_percentage_error:',mean_absolute_percentage_error(y_test,P18))"
   ]
  },
  {
   "cell_type": "code",
   "execution_count": 391,
   "id": "522856ab",
   "metadata": {},
   "outputs": [],
   "source": [
    "from sklearn.neural_network import MLPRegressor"
   ]
  },
  {
   "cell_type": "code",
   "execution_count": 393,
   "id": "922cd65f",
   "metadata": {},
   "outputs": [
    {
     "name": "stdout",
     "output_type": "stream",
     "text": [
      "mean_absolute_error: 0.14297135080413012\n",
      "\n",
      "\n",
      "mean_Squared_error: 0.04488316493489126\n",
      "\n",
      "\n",
      "R2_score: 82.04037047565149\n",
      "\n",
      "\n",
      "mean_absolute_percentage_error: 397885339973620.5\n"
     ]
    }
   ],
   "source": [
    "M19=MLPRegressor()\n",
    "M19.fit(X_train,y_train)\n",
    "P19=M19.predict(X_test)\n",
    "print('mean_absolute_error:',mean_absolute_error(y_test,P19))\n",
    "print('\\n')\n",
    "print('mean_Squared_error:',mean_squared_error(y_test,P19))\n",
    "print('\\n')\n",
    "print('R2_score:',100*r2_score(y_test,P19))\n",
    "print('\\n')\n",
    "print('mean_absolute_percentage_error:',mean_absolute_percentage_error(y_test,P19))"
   ]
  }
 ],
 "metadata": {
  "kernelspec": {
   "display_name": "Python 3 (ipykernel)",
   "language": "python",
   "name": "python3"
  },
  "language_info": {
   "codemirror_mode": {
    "name": "ipython",
    "version": 3
   },
   "file_extension": ".py",
   "mimetype": "text/x-python",
   "name": "python",
   "nbconvert_exporter": "python",
   "pygments_lexer": "ipython3",
   "version": "3.9.12"
  }
 },
 "nbformat": 4,
 "nbformat_minor": 5
}
